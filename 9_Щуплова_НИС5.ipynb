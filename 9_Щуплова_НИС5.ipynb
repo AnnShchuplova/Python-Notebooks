{
  "cells": [
    {
      "cell_type": "markdown",
      "metadata": {
        "id": "LrTOBbusFg3X"
      },
      "source": [
        "# Домашее задание №5"
      ]
    },
    {
      "cell_type": "markdown",
      "metadata": {
        "id": "dcg9QTd2Fg3Y"
      },
      "source": [
        "В файле advertising.csv содержаться данные о клиентах интернет-магазина.\n",
        "\n",
        "Набор данных содержит следующие переменные:\n",
        "\n",
        "    'Daily Time Spent on Site': consumer time on site in minutes\n",
        "    'Age': cutomer age in years\n",
        "    'Area Income': Avg. Income of geographical area of consumer\n",
        "    'Daily Internet Usage': Avg. minutes a day consumer is on the internet\n",
        "    'Ad Topic Line': Headline of the advertisement\n",
        "    'City': City of consumer\n",
        "    'Male': Whether or not consumer was male\n",
        "    'Country': Country of consumer\n",
        "    'Timestamp': Time at which consumer clicked on Ad or closed window\n",
        "    'Clicked on Ad': 0 or 1 indicated clicking on Ad\n",
        "\n",
        "\n",
        "Задача - создать модель, которая будет предсказывать, нажмет ли интернет-пользователь на рекламу, на основе характеристик этого пользователя.\n",
        "\n",
        "Задания:\n",
        "\n",
        "    •\tСформулируйте гипотезы исследования.\n",
        "    •\tПостройте модель бинарной логистической регрессии. Зависимая переменная - 'Clicked on Ad'. В качестве предикторов выберите не менее 3 метрических переменных и не менее 2 категориальных переменных.\n",
        "    •\tНапишите уравнение регрессии (линейная часть). Оцените характеристики регрессионной модели. Оцените статическую значимость и предсказательную силу модели.\n",
        "    •\tОцените значимость регрессионных коэффициентов. Подробно интерпретируйте особенности взаимосвязи между каждым из предикторов и зависимой переменной.\n",
        "    •\tПроведите диагностику модели (проверьте остатки на нормальность, оцените мультиколлинартность).\n",
        "    •\tОсуществите кросс-валидацию и опишите ее результаты.\n",
        "    •\tСформулируйте общие содержательные выводы по результатам регрессионного анализа данных. Какие результаты анализа данных для вас оказались очевидными, а какие неожиданными?"
      ]
    },
    {
      "cell_type": "markdown",
      "metadata": {
        "id": "UyqYLTCdFg3Z"
      },
      "source": [
        "Обратите внимание, что все пункты задания должны сопровождаться _выполненным_ фрагментом кода!"
      ]
    },
    {
      "cell_type": "markdown",
      "metadata": {
        "id": "JlpXi3926IIw"
      },
      "source": [
        "\n",
        "H1: Возраст пользователя влияет на вероятность нажатия на рекламу. (подтвердилась)\n",
        "\n",
        "H2: Время проведенное на сайте как-то положительно связано с вероятностью нажатия на рекламу. (не подтвердилась)\n",
        "\n",
        "Н3: Средний доход по географической области влияет на вероятность нажатия на рекламу. (не подтвердилась)\n",
        "\n",
        "Н4: Пользователи, проводящие больше времени в интернете (Daily Internet Usage), имеют более высокую вероятность нажатия на рекламу. (не подтвердилась)\n",
        "\n",
        "Н5: Пол пользователя не влияет на вероятность нажатия на рекламу. (подтвердилась)\n",
        "\n",
        "Н6: Страна пользователя может иметь влияние на вероятность нажатия на рекламу. (в итоге не использовала эту переменную)\n",
        "\n",
        "Н7: При отсутвии других факторов высокая вероятность нажатия на рекламу. (подтвердилась)"
      ]
    },
    {
      "cell_type": "markdown",
      "metadata": {
        "id": "PmhQAytqBuXs"
      },
      "source": [
        "# Бинарная логистическая регрессия"
      ]
    },
    {
      "cell_type": "code",
      "execution_count": null,
      "metadata": {
        "id": "9_Tb6ZdnB850"
      },
      "outputs": [],
      "source": [
        "# from google.colab import drive\n",
        "# drive.mount('/content/drive')"
      ]
    },
    {
      "cell_type": "code",
      "execution_count": null,
      "metadata": {
        "colab": {
          "base_uri": "https://localhost:8080/",
          "height": 310
        },
        "id": "20faIp8DB1Dh",
        "outputId": "92d93dee-847f-479a-cbe8-372e30cfd1b5"
      },
      "outputs": [
        {
          "data": {
            "text/html": [
              "<div>\n",
              "<style scoped>\n",
              "    .dataframe tbody tr th:only-of-type {\n",
              "        vertical-align: middle;\n",
              "    }\n",
              "\n",
              "    .dataframe tbody tr th {\n",
              "        vertical-align: top;\n",
              "    }\n",
              "\n",
              "    .dataframe thead th {\n",
              "        text-align: right;\n",
              "    }\n",
              "</style>\n",
              "<table border=\"1\" class=\"dataframe\">\n",
              "  <thead>\n",
              "    <tr style=\"text-align: right;\">\n",
              "      <th></th>\n",
              "      <th>Daily Time Spent on Site</th>\n",
              "      <th>Age</th>\n",
              "      <th>Area Income</th>\n",
              "      <th>Daily Internet Usage</th>\n",
              "      <th>Ad Topic Line</th>\n",
              "      <th>City</th>\n",
              "      <th>Male</th>\n",
              "      <th>Country</th>\n",
              "      <th>Timestamp</th>\n",
              "      <th>Clicked on Ad</th>\n",
              "    </tr>\n",
              "  </thead>\n",
              "  <tbody>\n",
              "    <tr>\n",
              "      <th>0</th>\n",
              "      <td>68.95</td>\n",
              "      <td>35</td>\n",
              "      <td>61833.90</td>\n",
              "      <td>256.09</td>\n",
              "      <td>Cloned 5thgeneration orchestration</td>\n",
              "      <td>Wrightburgh</td>\n",
              "      <td>0</td>\n",
              "      <td>Tunisia</td>\n",
              "      <td>2016-03-27 00:53:11</td>\n",
              "      <td>0</td>\n",
              "    </tr>\n",
              "    <tr>\n",
              "      <th>1</th>\n",
              "      <td>80.23</td>\n",
              "      <td>31</td>\n",
              "      <td>68441.85</td>\n",
              "      <td>193.77</td>\n",
              "      <td>Monitored national standardization</td>\n",
              "      <td>West Jodi</td>\n",
              "      <td>1</td>\n",
              "      <td>Nauru</td>\n",
              "      <td>2016-04-04 01:39:02</td>\n",
              "      <td>0</td>\n",
              "    </tr>\n",
              "    <tr>\n",
              "      <th>2</th>\n",
              "      <td>69.47</td>\n",
              "      <td>26</td>\n",
              "      <td>59785.94</td>\n",
              "      <td>236.50</td>\n",
              "      <td>Organic bottom-line service-desk</td>\n",
              "      <td>Davidton</td>\n",
              "      <td>0</td>\n",
              "      <td>San Marino</td>\n",
              "      <td>2016-03-13 20:35:42</td>\n",
              "      <td>0</td>\n",
              "    </tr>\n",
              "    <tr>\n",
              "      <th>3</th>\n",
              "      <td>74.15</td>\n",
              "      <td>29</td>\n",
              "      <td>54806.18</td>\n",
              "      <td>245.89</td>\n",
              "      <td>Triple-buffered reciprocal time-frame</td>\n",
              "      <td>West Terrifurt</td>\n",
              "      <td>1</td>\n",
              "      <td>Italy</td>\n",
              "      <td>2016-01-10 02:31:19</td>\n",
              "      <td>0</td>\n",
              "    </tr>\n",
              "    <tr>\n",
              "      <th>4</th>\n",
              "      <td>68.37</td>\n",
              "      <td>35</td>\n",
              "      <td>73889.99</td>\n",
              "      <td>225.58</td>\n",
              "      <td>Robust logistical utilization</td>\n",
              "      <td>South Manuel</td>\n",
              "      <td>0</td>\n",
              "      <td>Iceland</td>\n",
              "      <td>2016-06-03 03:36:18</td>\n",
              "      <td>0</td>\n",
              "    </tr>\n",
              "  </tbody>\n",
              "</table>\n",
              "</div>"
            ],
            "text/plain": [
              "   Daily Time Spent on Site  Age  Area Income  Daily Internet Usage  \\\n",
              "0                     68.95   35     61833.90                256.09   \n",
              "1                     80.23   31     68441.85                193.77   \n",
              "2                     69.47   26     59785.94                236.50   \n",
              "3                     74.15   29     54806.18                245.89   \n",
              "4                     68.37   35     73889.99                225.58   \n",
              "\n",
              "                           Ad Topic Line            City  Male     Country  \\\n",
              "0     Cloned 5thgeneration orchestration     Wrightburgh     0     Tunisia   \n",
              "1     Monitored national standardization       West Jodi     1       Nauru   \n",
              "2       Organic bottom-line service-desk        Davidton     0  San Marino   \n",
              "3  Triple-buffered reciprocal time-frame  West Terrifurt     1       Italy   \n",
              "4          Robust logistical utilization    South Manuel     0     Iceland   \n",
              "\n",
              "             Timestamp  Clicked on Ad  \n",
              "0  2016-03-27 00:53:11              0  \n",
              "1  2016-04-04 01:39:02              0  \n",
              "2  2016-03-13 20:35:42              0  \n",
              "3  2016-01-10 02:31:19              0  \n",
              "4  2016-06-03 03:36:18              0  "
            ]
          },
          "execution_count": 5,
          "metadata": {},
          "output_type": "execute_result"
        }
      ],
      "source": [
        "import pandas as pd\n",
        "import seaborn as sns\n",
        "import matplotlib.pyplot as plt\n",
        "from scipy import stats\n",
        "import numpy as np\n",
        "import statsmodels.api as sm\n",
        "from statsmodels.stats.outliers_influence import variance_inflation_factor as vif\n",
        "from sklearn.metrics import roc_curve, auc\n",
        "import warnings\n",
        "warnings.filterwarnings('ignore')\n",
        "\n",
        "\n",
        "df = pd.read_csv('advertising.csv')\n",
        "\n",
        "df.head()"
      ]
    },
    {
      "cell_type": "code",
      "execution_count": null,
      "metadata": {
        "colab": {
          "base_uri": "https://localhost:8080/"
        },
        "id": "DGJdTcEUED4Q",
        "outputId": "d9e0b3b8-95cc-4608-d772-eaee28a946e6"
      },
      "outputs": [
        {
          "name": "stdout",
          "output_type": "stream",
          "text": [
            "<class 'pandas.core.frame.DataFrame'>\n",
            "RangeIndex: 1000 entries, 0 to 999\n",
            "Data columns (total 10 columns):\n",
            " #   Column                    Non-Null Count  Dtype  \n",
            "---  ------                    --------------  -----  \n",
            " 0   Daily Time Spent on Site  1000 non-null   float64\n",
            " 1   Age                       1000 non-null   int64  \n",
            " 2   Area Income               1000 non-null   float64\n",
            " 3   Daily Internet Usage      1000 non-null   float64\n",
            " 4   Ad Topic Line             1000 non-null   object \n",
            " 5   City                      1000 non-null   object \n",
            " 6   Male                      1000 non-null   int64  \n",
            " 7   Country                   1000 non-null   object \n",
            " 8   Timestamp                 1000 non-null   object \n",
            " 9   Clicked on Ad             1000 non-null   int64  \n",
            "dtypes: float64(3), int64(3), object(4)\n",
            "memory usage: 78.3+ KB\n"
          ]
        }
      ],
      "source": [
        "df.info() # информация полная по всем переменным"
      ]
    },
    {
      "cell_type": "code",
      "execution_count": null,
      "metadata": {
        "colab": {
          "base_uri": "https://localhost:8080/"
        },
        "id": "MPDGByO3EgSz",
        "outputId": "e8c3a6b3-08b3-46a5-bf27-399e062103fa"
      },
      "outputs": [
        {
          "name": "stdout",
          "output_type": "stream",
          "text": [
            "Type: float64\n",
            "['Daily Time Spent on Site' 'Area Income' 'Daily Internet Usage']\n",
            "\n",
            "Type: int64\n",
            "['Age' 'Male' 'Clicked on Ad']\n",
            "\n",
            "Type: object\n",
            "['Ad Topic Line' 'City' 'Country' 'Timestamp']\n",
            "\n"
          ]
        }
      ],
      "source": [
        "# Названия переменных, сгруппированные по типам данных\n",
        "for t in df.dtypes.unique():\n",
        "     print('Type: {}\\n{}\\n'.format(t, df.dtypes[df.dtypes==t].index.values))"
      ]
    },
    {
      "cell_type": "code",
      "execution_count": null,
      "metadata": {
        "colab": {
          "base_uri": "https://localhost:8080/",
          "height": 53
        },
        "id": "2uEeSuTqE_8D",
        "outputId": "6c2fc112-c1dc-475b-b970-807da3cebaed"
      },
      "outputs": [
        {
          "data": {
            "text/html": [
              "<div>\n",
              "<style scoped>\n",
              "    .dataframe tbody tr th:only-of-type {\n",
              "        vertical-align: middle;\n",
              "    }\n",
              "\n",
              "    .dataframe tbody tr th {\n",
              "        vertical-align: top;\n",
              "    }\n",
              "\n",
              "    .dataframe thead th {\n",
              "        text-align: right;\n",
              "    }\n",
              "</style>\n",
              "<table border=\"1\" class=\"dataframe\">\n",
              "  <thead>\n",
              "    <tr style=\"text-align: right;\">\n",
              "      <th></th>\n",
              "      <th>Процент пропущенных значений</th>\n",
              "    </tr>\n",
              "  </thead>\n",
              "  <tbody>\n",
              "  </tbody>\n",
              "</table>\n",
              "</div>"
            ],
            "text/plain": [
              "Empty DataFrame\n",
              "Columns: [Процент пропущенных значений]\n",
              "Index: []"
            ]
          },
          "execution_count": 8,
          "metadata": {},
          "output_type": "execute_result"
        }
      ],
      "source": [
        "#Процент пропущенных значений по переменным, содержащим пропуски\n",
        "missing = (df.isna().sum() / len(df)) * 100\n",
        "missing = missing[missing > 0].sort_values(ascending=False)\n",
        "missing = pd.DataFrame({'Процент пропущенных значений' : missing})\n",
        "missing # нет пропущенных значений"
      ]
    },
    {
      "cell_type": "markdown",
      "metadata": {
        "id": "aPFo5aUEFY_w"
      },
      "source": [
        "### Зависимая переменная"
      ]
    },
    {
      "cell_type": "code",
      "execution_count": null,
      "metadata": {
        "colab": {
          "base_uri": "https://localhost:8080/",
          "height": 178
        },
        "id": "kjapC13jFmKw",
        "outputId": "c36d98a8-1c61-4622-d500-0db8b2e79788"
      },
      "outputs": [
        {
          "data": {
            "text/plain": [
              "Clicked on Ad\n",
              "0    500\n",
              "1    500\n",
              "Name: count, dtype: int64"
            ]
          },
          "execution_count": 9,
          "metadata": {},
          "output_type": "execute_result"
        }
      ],
      "source": [
        "df['Clicked on Ad'].value_counts()"
      ]
    },
    {
      "cell_type": "markdown",
      "metadata": {
        "id": "t9OPYvrJFuvP"
      },
      "source": [
        "### Предикторы"
      ]
    },
    {
      "cell_type": "markdown",
      "metadata": {
        "id": "2Dnx-ScSHaWt"
      },
      "source": [
        "Метрические переменные:\n",
        "\n",
        "'Daily Time Spent on Site' (время, проведенное на сайте)\n",
        "\n",
        "'Age' (возраст)\n",
        "\n",
        "'Area Income' (средний доход)\n",
        "\n",
        "'Daily Internet Usage' (ежедневное время в интернете)\n",
        "\n",
        "Категориальные переменные:\n",
        "\n",
        "'Male' (пол)\n",
        "\n",
        "'Country' (страна)"
      ]
    },
    {
      "cell_type": "code",
      "execution_count": null,
      "metadata": {
        "colab": {
          "base_uri": "https://localhost:8080/",
          "height": 178
        },
        "id": "MT1pY51TJyqm",
        "outputId": "3dcc64de-fc90-44d1-f72b-705dee87a780"
      },
      "outputs": [
        {
          "data": {
            "text/plain": [
              "Male\n",
              "0    519\n",
              "1    481\n",
              "Name: count, dtype: int64"
            ]
          },
          "execution_count": 10,
          "metadata": {},
          "output_type": "execute_result"
        }
      ],
      "source": [
        "df['Male'].value_counts()"
      ]
    },
    {
      "cell_type": "code",
      "execution_count": null,
      "metadata": {
        "colab": {
          "base_uri": "https://localhost:8080/"
        },
        "id": "2-z5hmRZaj3A",
        "outputId": "bc1362eb-df55-475d-bbf2-daee45aeaeca"
      },
      "outputs": [
        {
          "name": "stdout",
          "output_type": "stream",
          "text": [
            "   Male     Sex\n",
            "0     0  female\n",
            "1     1    male\n",
            "2     0  female\n",
            "3     1    male\n",
            "4     0  female\n"
          ]
        }
      ],
      "source": [
        "df['Sex'] = np.where(df['Male'] == 1, 'male', 'female')\n",
        "\n",
        "\n",
        "print(df[['Male', 'Sex']].head())"
      ]
    },
    {
      "cell_type": "code",
      "execution_count": null,
      "metadata": {
        "colab": {
          "base_uri": "https://localhost:8080/",
          "height": 178
        },
        "id": "MxCiVzgjawkQ",
        "outputId": "7e1d5443-d2ed-4132-ddee-257cd1fa831e"
      },
      "outputs": [
        {
          "data": {
            "text/plain": [
              "Sex\n",
              "female    519\n",
              "male      481\n",
              "Name: count, dtype: int64"
            ]
          },
          "execution_count": 12,
          "metadata": {},
          "output_type": "execute_result"
        }
      ],
      "source": [
        "df['Sex'].value_counts() # Референтная группа female"
      ]
    },
    {
      "cell_type": "code",
      "execution_count": null,
      "metadata": {
        "colab": {
          "base_uri": "https://localhost:8080/",
          "height": 490
        },
        "id": "Wrr97O1dYw0J",
        "outputId": "6286f0a9-d9b8-4f43-94b1-773ad5263a22"
      },
      "outputs": [
        {
          "data": {
            "text/plain": [
              "Country\n",
              "France                                                 9\n",
              "Czech Republic                                         9\n",
              "Peru                                                   8\n",
              "Turkey                                                 8\n",
              "Greece                                                 8\n",
              "                                                      ..\n",
              "Romania                                                1\n",
              "British Indian Ocean Territory (Chagos Archipelago)    1\n",
              "Germany                                                1\n",
              "Aruba                                                  1\n",
              "Lesotho                                                1\n",
              "Name: count, Length: 237, dtype: int64"
            ]
          },
          "execution_count": 13,
          "metadata": {},
          "output_type": "execute_result"
        }
      ],
      "source": [
        "df['Country'].value_counts() # слишком много стран и мало значений для каждой страны"
      ]
    },
    {
      "cell_type": "code",
      "execution_count": null,
      "metadata": {
        "colab": {
          "base_uri": "https://localhost:8080/",
          "height": 206
        },
        "id": "jdE3OmAEYljF",
        "outputId": "fa9a26aa-1250-46d2-f9f5-3575e215419b"
      },
      "outputs": [
        {
          "data": {
            "text/html": [
              "<div>\n",
              "<style scoped>\n",
              "    .dataframe tbody tr th:only-of-type {\n",
              "        vertical-align: middle;\n",
              "    }\n",
              "\n",
              "    .dataframe tbody tr th {\n",
              "        vertical-align: top;\n",
              "    }\n",
              "\n",
              "    .dataframe thead th {\n",
              "        text-align: right;\n",
              "    }\n",
              "</style>\n",
              "<table border=\"1\" class=\"dataframe\">\n",
              "  <thead>\n",
              "    <tr style=\"text-align: right;\">\n",
              "      <th></th>\n",
              "      <th>Sex_female</th>\n",
              "      <th>Sex_male</th>\n",
              "    </tr>\n",
              "  </thead>\n",
              "  <tbody>\n",
              "    <tr>\n",
              "      <th>0</th>\n",
              "      <td>1</td>\n",
              "      <td>0</td>\n",
              "    </tr>\n",
              "    <tr>\n",
              "      <th>1</th>\n",
              "      <td>0</td>\n",
              "      <td>1</td>\n",
              "    </tr>\n",
              "    <tr>\n",
              "      <th>2</th>\n",
              "      <td>1</td>\n",
              "      <td>0</td>\n",
              "    </tr>\n",
              "    <tr>\n",
              "      <th>3</th>\n",
              "      <td>0</td>\n",
              "      <td>1</td>\n",
              "    </tr>\n",
              "    <tr>\n",
              "      <th>4</th>\n",
              "      <td>1</td>\n",
              "      <td>0</td>\n",
              "    </tr>\n",
              "  </tbody>\n",
              "</table>\n",
              "</div>"
            ],
            "text/plain": [
              "   Sex_female  Sex_male\n",
              "0           1         0\n",
              "1           0         1\n",
              "2           1         0\n",
              "3           0         1\n",
              "4           1         0"
            ]
          },
          "execution_count": 14,
          "metadata": {},
          "output_type": "execute_result"
        }
      ],
      "source": [
        "Sex_dummies=pd.get_dummies(df.Sex, prefix='Sex', prefix_sep='_', dtype=int)\n",
        "Sex_dummies.head()"
      ]
    },
    {
      "cell_type": "code",
      "execution_count": null,
      "metadata": {
        "colab": {
          "base_uri": "https://localhost:8080/",
          "height": 719
        },
        "id": "VyGIL7vIbTYZ",
        "outputId": "373fa5a6-89b7-467e-f021-e5f0e9f159f6"
      },
      "outputs": [
        {
          "data": {
            "text/html": [
              "<div>\n",
              "<style scoped>\n",
              "    .dataframe tbody tr th:only-of-type {\n",
              "        vertical-align: middle;\n",
              "    }\n",
              "\n",
              "    .dataframe tbody tr th {\n",
              "        vertical-align: top;\n",
              "    }\n",
              "\n",
              "    .dataframe thead th {\n",
              "        text-align: right;\n",
              "    }\n",
              "</style>\n",
              "<table border=\"1\" class=\"dataframe\">\n",
              "  <thead>\n",
              "    <tr style=\"text-align: right;\">\n",
              "      <th></th>\n",
              "      <th>Daily Time Spent on Site</th>\n",
              "      <th>Age</th>\n",
              "      <th>Area Income</th>\n",
              "      <th>Daily Internet Usage</th>\n",
              "      <th>Ad Topic Line</th>\n",
              "      <th>City</th>\n",
              "      <th>Male</th>\n",
              "      <th>Country</th>\n",
              "      <th>Timestamp</th>\n",
              "      <th>Clicked on Ad</th>\n",
              "      <th>Sex</th>\n",
              "      <th>Sex_female</th>\n",
              "      <th>Sex_male</th>\n",
              "    </tr>\n",
              "  </thead>\n",
              "  <tbody>\n",
              "    <tr>\n",
              "      <th>0</th>\n",
              "      <td>68.95</td>\n",
              "      <td>35</td>\n",
              "      <td>61833.90</td>\n",
              "      <td>256.09</td>\n",
              "      <td>Cloned 5thgeneration orchestration</td>\n",
              "      <td>Wrightburgh</td>\n",
              "      <td>0</td>\n",
              "      <td>Tunisia</td>\n",
              "      <td>2016-03-27 00:53:11</td>\n",
              "      <td>0</td>\n",
              "      <td>female</td>\n",
              "      <td>1</td>\n",
              "      <td>0</td>\n",
              "    </tr>\n",
              "    <tr>\n",
              "      <th>1</th>\n",
              "      <td>80.23</td>\n",
              "      <td>31</td>\n",
              "      <td>68441.85</td>\n",
              "      <td>193.77</td>\n",
              "      <td>Monitored national standardization</td>\n",
              "      <td>West Jodi</td>\n",
              "      <td>1</td>\n",
              "      <td>Nauru</td>\n",
              "      <td>2016-04-04 01:39:02</td>\n",
              "      <td>0</td>\n",
              "      <td>male</td>\n",
              "      <td>0</td>\n",
              "      <td>1</td>\n",
              "    </tr>\n",
              "    <tr>\n",
              "      <th>2</th>\n",
              "      <td>69.47</td>\n",
              "      <td>26</td>\n",
              "      <td>59785.94</td>\n",
              "      <td>236.50</td>\n",
              "      <td>Organic bottom-line service-desk</td>\n",
              "      <td>Davidton</td>\n",
              "      <td>0</td>\n",
              "      <td>San Marino</td>\n",
              "      <td>2016-03-13 20:35:42</td>\n",
              "      <td>0</td>\n",
              "      <td>female</td>\n",
              "      <td>1</td>\n",
              "      <td>0</td>\n",
              "    </tr>\n",
              "    <tr>\n",
              "      <th>3</th>\n",
              "      <td>74.15</td>\n",
              "      <td>29</td>\n",
              "      <td>54806.18</td>\n",
              "      <td>245.89</td>\n",
              "      <td>Triple-buffered reciprocal time-frame</td>\n",
              "      <td>West Terrifurt</td>\n",
              "      <td>1</td>\n",
              "      <td>Italy</td>\n",
              "      <td>2016-01-10 02:31:19</td>\n",
              "      <td>0</td>\n",
              "      <td>male</td>\n",
              "      <td>0</td>\n",
              "      <td>1</td>\n",
              "    </tr>\n",
              "    <tr>\n",
              "      <th>4</th>\n",
              "      <td>68.37</td>\n",
              "      <td>35</td>\n",
              "      <td>73889.99</td>\n",
              "      <td>225.58</td>\n",
              "      <td>Robust logistical utilization</td>\n",
              "      <td>South Manuel</td>\n",
              "      <td>0</td>\n",
              "      <td>Iceland</td>\n",
              "      <td>2016-06-03 03:36:18</td>\n",
              "      <td>0</td>\n",
              "      <td>female</td>\n",
              "      <td>1</td>\n",
              "      <td>0</td>\n",
              "    </tr>\n",
              "    <tr>\n",
              "      <th>...</th>\n",
              "      <td>...</td>\n",
              "      <td>...</td>\n",
              "      <td>...</td>\n",
              "      <td>...</td>\n",
              "      <td>...</td>\n",
              "      <td>...</td>\n",
              "      <td>...</td>\n",
              "      <td>...</td>\n",
              "      <td>...</td>\n",
              "      <td>...</td>\n",
              "      <td>...</td>\n",
              "      <td>...</td>\n",
              "      <td>...</td>\n",
              "    </tr>\n",
              "    <tr>\n",
              "      <th>995</th>\n",
              "      <td>72.97</td>\n",
              "      <td>30</td>\n",
              "      <td>71384.57</td>\n",
              "      <td>208.58</td>\n",
              "      <td>Fundamental modular algorithm</td>\n",
              "      <td>Duffystad</td>\n",
              "      <td>1</td>\n",
              "      <td>Lebanon</td>\n",
              "      <td>2016-02-11 21:49:00</td>\n",
              "      <td>1</td>\n",
              "      <td>male</td>\n",
              "      <td>0</td>\n",
              "      <td>1</td>\n",
              "    </tr>\n",
              "    <tr>\n",
              "      <th>996</th>\n",
              "      <td>51.30</td>\n",
              "      <td>45</td>\n",
              "      <td>67782.17</td>\n",
              "      <td>134.42</td>\n",
              "      <td>Grass-roots cohesive monitoring</td>\n",
              "      <td>New Darlene</td>\n",
              "      <td>1</td>\n",
              "      <td>Bosnia and Herzegovina</td>\n",
              "      <td>2016-04-22 02:07:01</td>\n",
              "      <td>1</td>\n",
              "      <td>male</td>\n",
              "      <td>0</td>\n",
              "      <td>1</td>\n",
              "    </tr>\n",
              "    <tr>\n",
              "      <th>997</th>\n",
              "      <td>51.63</td>\n",
              "      <td>51</td>\n",
              "      <td>42415.72</td>\n",
              "      <td>120.37</td>\n",
              "      <td>Expanded intangible solution</td>\n",
              "      <td>South Jessica</td>\n",
              "      <td>1</td>\n",
              "      <td>Mongolia</td>\n",
              "      <td>2016-02-01 17:24:57</td>\n",
              "      <td>1</td>\n",
              "      <td>male</td>\n",
              "      <td>0</td>\n",
              "      <td>1</td>\n",
              "    </tr>\n",
              "    <tr>\n",
              "      <th>998</th>\n",
              "      <td>55.55</td>\n",
              "      <td>19</td>\n",
              "      <td>41920.79</td>\n",
              "      <td>187.95</td>\n",
              "      <td>Proactive bandwidth-monitored policy</td>\n",
              "      <td>West Steven</td>\n",
              "      <td>0</td>\n",
              "      <td>Guatemala</td>\n",
              "      <td>2016-03-24 02:35:54</td>\n",
              "      <td>0</td>\n",
              "      <td>female</td>\n",
              "      <td>1</td>\n",
              "      <td>0</td>\n",
              "    </tr>\n",
              "    <tr>\n",
              "      <th>999</th>\n",
              "      <td>45.01</td>\n",
              "      <td>26</td>\n",
              "      <td>29875.80</td>\n",
              "      <td>178.35</td>\n",
              "      <td>Virtual 5thgeneration emulation</td>\n",
              "      <td>Ronniemouth</td>\n",
              "      <td>0</td>\n",
              "      <td>Brazil</td>\n",
              "      <td>2016-06-03 21:43:21</td>\n",
              "      <td>1</td>\n",
              "      <td>female</td>\n",
              "      <td>1</td>\n",
              "      <td>0</td>\n",
              "    </tr>\n",
              "  </tbody>\n",
              "</table>\n",
              "<p>1000 rows × 13 columns</p>\n",
              "</div>"
            ],
            "text/plain": [
              "     Daily Time Spent on Site  Age  Area Income  Daily Internet Usage  \\\n",
              "0                       68.95   35     61833.90                256.09   \n",
              "1                       80.23   31     68441.85                193.77   \n",
              "2                       69.47   26     59785.94                236.50   \n",
              "3                       74.15   29     54806.18                245.89   \n",
              "4                       68.37   35     73889.99                225.58   \n",
              "..                        ...  ...          ...                   ...   \n",
              "995                     72.97   30     71384.57                208.58   \n",
              "996                     51.30   45     67782.17                134.42   \n",
              "997                     51.63   51     42415.72                120.37   \n",
              "998                     55.55   19     41920.79                187.95   \n",
              "999                     45.01   26     29875.80                178.35   \n",
              "\n",
              "                             Ad Topic Line            City  Male  \\\n",
              "0       Cloned 5thgeneration orchestration     Wrightburgh     0   \n",
              "1       Monitored national standardization       West Jodi     1   \n",
              "2         Organic bottom-line service-desk        Davidton     0   \n",
              "3    Triple-buffered reciprocal time-frame  West Terrifurt     1   \n",
              "4            Robust logistical utilization    South Manuel     0   \n",
              "..                                     ...             ...   ...   \n",
              "995          Fundamental modular algorithm       Duffystad     1   \n",
              "996        Grass-roots cohesive monitoring     New Darlene     1   \n",
              "997           Expanded intangible solution   South Jessica     1   \n",
              "998   Proactive bandwidth-monitored policy     West Steven     0   \n",
              "999        Virtual 5thgeneration emulation     Ronniemouth     0   \n",
              "\n",
              "                    Country            Timestamp  Clicked on Ad     Sex  \\\n",
              "0                   Tunisia  2016-03-27 00:53:11              0  female   \n",
              "1                     Nauru  2016-04-04 01:39:02              0    male   \n",
              "2                San Marino  2016-03-13 20:35:42              0  female   \n",
              "3                     Italy  2016-01-10 02:31:19              0    male   \n",
              "4                   Iceland  2016-06-03 03:36:18              0  female   \n",
              "..                      ...                  ...            ...     ...   \n",
              "995                 Lebanon  2016-02-11 21:49:00              1    male   \n",
              "996  Bosnia and Herzegovina  2016-04-22 02:07:01              1    male   \n",
              "997                Mongolia  2016-02-01 17:24:57              1    male   \n",
              "998               Guatemala  2016-03-24 02:35:54              0  female   \n",
              "999                  Brazil  2016-06-03 21:43:21              1  female   \n",
              "\n",
              "     Sex_female  Sex_male  \n",
              "0             1         0  \n",
              "1             0         1  \n",
              "2             1         0  \n",
              "3             0         1  \n",
              "4             1         0  \n",
              "..          ...       ...  \n",
              "995           0         1  \n",
              "996           0         1  \n",
              "997           0         1  \n",
              "998           1         0  \n",
              "999           1         0  \n",
              "\n",
              "[1000 rows x 13 columns]"
            ]
          },
          "execution_count": 15,
          "metadata": {},
          "output_type": "execute_result"
        }
      ],
      "source": [
        "#добавляем дамми-переменные в датафрейм\n",
        "df = pd.concat([df, Sex_dummies], axis=1)\n",
        "df"
      ]
    },
    {
      "cell_type": "markdown",
      "metadata": {
        "id": "YFLXoG3EbmQp"
      },
      "source": [
        "### Предварительный анализ взаимосвязей между зависимой переменной и предикторами"
      ]
    },
    {
      "cell_type": "code",
      "execution_count": null,
      "metadata": {
        "colab": {
          "base_uri": "https://localhost:8080/",
          "height": 1000
        },
        "id": "HqyGnImQbknD",
        "outputId": "45160226-e2f4-41a2-a20d-30cac1b0d090"
      },
      "outputs": [
        {
          "data": {
            "image/png": "[encoded data removed]",
            "text/plain": [
              "<Figure size 800x500 with 1 Axes>"
            ]
          },
          "metadata": {},
          "output_type": "display_data"
        },
        {
          "data": {
            "image/png": "[encoded data removed]",
            "text/plain": [
              "<Figure size 800x500 with 1 Axes>"
            ]
          },
          "metadata": {},
          "output_type": "display_data"
        },
        {
          "data": {
            "image/png": "[encoded data removed]",
            "text/plain": [
              "<Figure size 800x500 with 1 Axes>"
            ]
          },
          "metadata": {},
          "output_type": "display_data"
        },
        {
          "data": {
            "image/png": "[encoded data removed]",
            "text/plain": [
              "<Figure size 640x480 with 1 Axes>"
            ]
          },
          "metadata": {},
          "output_type": "display_data"
        }
      ],
      "source": [
        "for c in df.columns[1:]:\n",
        "    if c == 'Daily Time Spent on Site' or c == 'Age' or c=='Area Income' or c=='Daily Internet Usage':\n",
        "        plt.figure(figsize=(8,5))\n",
        "        plt.title('{} vs. Clicked on Ad'.format(c), fontsize=16)\n",
        "        plt.scatter(x=df[c], y=df['Clicked on Ad'], color='blue',edgecolor='k')\n",
        "        plt.grid(True)\n",
        "        plt.xlabel(c, fontsize=14)\n",
        "        plt.ylabel('Clicked on Ad', fontsize=14)\n",
        "        plt.show()\n",
        "    elif c == 'Sex':\n",
        "        ct = pd.crosstab(df['Clicked on Ad'], df[c])\n",
        "        ct.plot.bar()"
      ]
    },
    {
      "cell_type": "markdown",
      "metadata": {
        "id": "yRO_-XcLczi8"
      },
      "source": [
        "Видим разнообразие в каждой подгруппе предикторов, следовательно, проблем с наличием наблюдей в уникальных подгруппах нет, значит можем их всех оставить."
      ]
    },
    {
      "cell_type": "markdown",
      "metadata": {
        "id": "x1xRBAQ241v_"
      },
      "source": [
        "<font color='red'> корреляции не проверила</font>"
      ]
    },
    {
      "cell_type": "markdown",
      "metadata": {
        "id": "3IeWET_OdhLV"
      },
      "source": [
        "# Регрессия"
      ]
    },
    {
      "cell_type": "code",
      "execution_count": null,
      "metadata": {
        "colab": {
          "base_uri": "https://localhost:8080/"
        },
        "id": "CtwDPDO0doil",
        "outputId": "63c2cf56-0e60-45a6-89b3-b4efa3611fd9"
      },
      "outputs": [
        {
          "data": {
            "text/plain": [
              "(1000, 13)"
            ]
          },
          "execution_count": 17,
          "metadata": {},
          "output_type": "execute_result"
        }
      ],
      "source": [
        "df_model1 = df.dropna(subset=['Sex_male', 'Daily Time Spent on Site', 'Age', 'Area Income', 'Daily Internet Usage'])\n",
        "df_model1.shape\n",
        "#удаляем пропуски только по переменным, вошедшим в модель (пропусков нет)"
      ]
    },
    {
      "cell_type": "code",
      "execution_count": null,
      "metadata": {
        "id": "IaWSpMt6eegk"
      },
      "outputs": [],
      "source": [
        "x_mult = df_model1[['Sex_male', 'Daily Time Spent on Site', 'Age', 'Area Income', 'Daily Internet Usage']]\n",
        "y = df_model1['Clicked on Ad']\n",
        "x_mult_constant = sm.add_constant(x_mult)"
      ]
    },
    {
      "cell_type": "code",
      "execution_count": null,
      "metadata": {
        "colab": {
          "base_uri": "https://localhost:8080/"
        },
        "id": "Br4U7U4NeqvL",
        "outputId": "0a2a4b2b-305b-43de-b7c9-db4bcb259130"
      },
      "outputs": [
        {
          "name": "stdout",
          "output_type": "stream",
          "text": [
            "Optimization terminated successfully.\n",
            "         Current function value: 0.090904\n",
            "         Iterations 10\n",
            "                           Logit Regression Results                           \n",
            "==============================================================================\n",
            "Dep. Variable:          Clicked on Ad   No. Observations:                 1000\n",
            "Model:                          Logit   Df Residuals:                      994\n",
            "Method:                           MLE   Df Model:                            5\n",
            "Date:                Mon, 02 Dec 2024   Pseudo R-squ.:                  0.8689\n",
            "Time:                        17:17:23   Log-Likelihood:                -90.904\n",
            "converged:                       True   LL-Null:                       -693.15\n",
            "Covariance Type:            nonrobust   LLR p-value:                3.136e-258\n",
            "============================================================================================\n",
            "                               coef    std err          z      P>|z|      [0.025      0.975]\n",
            "--------------------------------------------------------------------------------------------\n",
            "const                       27.3606      2.736      9.999      0.000      21.997      32.724\n",
            "Sex_male                    -0.4217      0.404     -1.043      0.297      -1.214       0.371\n",
            "Daily Time Spent on Site    -0.1927      0.021     -9.286      0.000      -0.233      -0.152\n",
            "Age                          0.1709      0.026      6.607      0.000       0.120       0.222\n",
            "Area Income                 -0.0001   1.88e-05     -7.245      0.000      -0.000   -9.93e-05\n",
            "Daily Internet Usage        -0.0635      0.007     -9.390      0.000      -0.077      -0.050\n",
            "============================================================================================\n",
            "\n",
            "Possibly complete quasi-separation: A fraction 0.23 of observations can be\n",
            "perfectly predicted. This might indicate that there is complete\n",
            "quasi-separation. In this case some parameters will not be identified.\n"
          ]
        }
      ],
      "source": [
        "model1 = sm.Logit(y, x_mult_constant).fit()\n",
        "print(model1.summary())"
      ]
    },
    {
      "cell_type": "markdown",
      "metadata": {
        "id": "2zs0tpOJ3OFu"
      },
      "source": [
        "\n",
        "Pseudo R-squared: 0.8689, что указывает на то, что модель объясняет 86.89% данных, что является хорошим показателем.\n",
        "\n",
        "Log-Likelihood: -90.904, значение логарифма функции правдоподобия.\n",
        "\n",
        "LLR p-value: 3.136e-258, значит модель в целом статистически значима.\n",
        "\n",
        "Коэффициенты модели:\n",
        "\n",
        "const: 27.3606 - положительна и значима, что указывает на высокую вероятность нажатия на рекламу при отсутствии других факторов.\n",
        "\n",
        "Sex_male: -0.4217\n",
        "\n",
        "Этот коэффициент показывает, что мужчины имеют меньшую вероятность нажатия на рекламу по сравнению с женщинами. Но p-value = 0.297, значит, это значение не является статистически значимым, и мы не можем утверждать, что пол оказывает значительное влияние на вероятность нажатия на рекламу, так что опровергаем гипотезу.\n",
        "\n",
        "Daily Time Spent on Site: -0.1927\n",
        "\n",
        "Этот коэффициент отрицательный, что означает, что с увеличением времени, проведенного на сайте, вероятность нажатия на рекламу уменьшается. P-value=0.000 указывает на высокую статистическую значимость этого коэффициента.\n",
        "\n",
        "Age: 0.1709\n",
        "\n",
        "Положительный коэффициент указывает на то, что с увеличением возраста вероятность нажатия на рекламу увеличивается. Это статистически значимо (p-value = 0.000), значит, возраст является важным фактором в модели.\n",
        "\n",
        "Area Income: -0.0001\n",
        "\n",
        "Этот коэффициент также отрицательный, что указывает на то, что с увеличением среднего дохода вероятность нажатия на рекламу немного уменьшается. Несмотря на то, что коэффициент очень маленький, он статистически значим, так как p-value = 0.000.\n",
        "\n",
        "Daily Internet Usage: -0.0635\n",
        "\n",
        "Этот коэффициент показывает, что с увеличением времени, проводимого в интернете, вероятность нажатия на рекламу также уменьшается. Это также статистически значимо, так как p-value = 0.000.\n",
        "\n",
        "Подробнее будет описано ниже."
      ]
    },
    {
      "cell_type": "code",
      "execution_count": null,
      "metadata": {
        "colab": {
          "base_uri": "https://localhost:8080/",
          "height": 255
        },
        "id": "eFkDw-kxhImZ",
        "outputId": "3222cdd6-3413-4500-86ed-ac0085aff29b"
      },
      "outputs": [
        {
          "name": "stdout",
          "output_type": "stream",
          "text": [
            "Intercept =  27.360607620139163\n"
          ]
        },
        {
          "data": {
            "text/html": [
              "<div>\n",
              "<style scoped>\n",
              "    .dataframe tbody tr th:only-of-type {\n",
              "        vertical-align: middle;\n",
              "    }\n",
              "\n",
              "    .dataframe tbody tr th {\n",
              "        vertical-align: top;\n",
              "    }\n",
              "\n",
              "    .dataframe thead th {\n",
              "        text-align: right;\n",
              "    }\n",
              "</style>\n",
              "<table border=\"1\" class=\"dataframe\">\n",
              "  <thead>\n",
              "    <tr style=\"text-align: right;\">\n",
              "      <th></th>\n",
              "      <th>Coefs</th>\n",
              "    </tr>\n",
              "    <tr>\n",
              "      <th>Features</th>\n",
              "      <th></th>\n",
              "    </tr>\n",
              "  </thead>\n",
              "  <tbody>\n",
              "    <tr>\n",
              "      <th>Sex_male</th>\n",
              "      <td>-0.421677</td>\n",
              "    </tr>\n",
              "    <tr>\n",
              "      <th>Daily Time Spent on Site</th>\n",
              "      <td>-0.192726</td>\n",
              "    </tr>\n",
              "    <tr>\n",
              "      <th>Age</th>\n",
              "      <td>0.170884</td>\n",
              "    </tr>\n",
              "    <tr>\n",
              "      <th>Area Income</th>\n",
              "      <td>-0.000136</td>\n",
              "    </tr>\n",
              "    <tr>\n",
              "      <th>Daily Internet Usage</th>\n",
              "      <td>-0.063513</td>\n",
              "    </tr>\n",
              "  </tbody>\n",
              "</table>\n",
              "</div>"
            ],
            "text/plain": [
              "                             Coefs\n",
              "Features                          \n",
              "Sex_male                 -0.421677\n",
              "Daily Time Spent on Site -0.192726\n",
              "Age                       0.170884\n",
              "Area Income              -0.000136\n",
              "Daily Internet Usage     -0.063513"
            ]
          },
          "execution_count": 20,
          "metadata": {},
          "output_type": "execute_result"
        }
      ],
      "source": [
        "coefs = pd.DataFrame()\n",
        "coefs['Coefs'] = model1.params[1:]\n",
        "coefs['Features'] = model1.params.index[1:]\n",
        "coefs.set_index('Features', inplace=True)\n",
        "print('Intercept = ', model1.params[0])\n",
        "coefs\n",
        "#отдельно выводим коэффициенты регрессии"
      ]
    },
    {
      "cell_type": "code",
      "execution_count": null,
      "metadata": {
        "colab": {
          "base_uri": "https://localhost:8080/",
          "height": 238
        },
        "id": "o5XKY5sWhPI0",
        "outputId": "247db79b-4bd2-4e70-e1e6-61f2c3c027df"
      },
      "outputs": [
        {
          "data": {
            "text/html": [
              "<div>\n",
              "<style scoped>\n",
              "    .dataframe tbody tr th:only-of-type {\n",
              "        vertical-align: middle;\n",
              "    }\n",
              "\n",
              "    .dataframe tbody tr th {\n",
              "        vertical-align: top;\n",
              "    }\n",
              "\n",
              "    .dataframe thead th {\n",
              "        text-align: right;\n",
              "    }\n",
              "</style>\n",
              "<table border=\"1\" class=\"dataframe\">\n",
              "  <thead>\n",
              "    <tr style=\"text-align: right;\">\n",
              "      <th></th>\n",
              "      <th>Coefs</th>\n",
              "      <th>OddsRatio</th>\n",
              "    </tr>\n",
              "    <tr>\n",
              "      <th>Features</th>\n",
              "      <th></th>\n",
              "      <th></th>\n",
              "    </tr>\n",
              "  </thead>\n",
              "  <tbody>\n",
              "    <tr>\n",
              "      <th>Sex_male</th>\n",
              "      <td>-0.421677</td>\n",
              "      <td>0.655946</td>\n",
              "    </tr>\n",
              "    <tr>\n",
              "      <th>Daily Time Spent on Site</th>\n",
              "      <td>-0.192726</td>\n",
              "      <td>0.824708</td>\n",
              "    </tr>\n",
              "    <tr>\n",
              "      <th>Age</th>\n",
              "      <td>0.170884</td>\n",
              "      <td>1.186353</td>\n",
              "    </tr>\n",
              "    <tr>\n",
              "      <th>Area Income</th>\n",
              "      <td>-0.000136</td>\n",
              "      <td>0.999864</td>\n",
              "    </tr>\n",
              "    <tr>\n",
              "      <th>Daily Internet Usage</th>\n",
              "      <td>-0.063513</td>\n",
              "      <td>0.938462</td>\n",
              "    </tr>\n",
              "  </tbody>\n",
              "</table>\n",
              "</div>"
            ],
            "text/plain": [
              "                             Coefs  OddsRatio\n",
              "Features                                     \n",
              "Sex_male                 -0.421677   0.655946\n",
              "Daily Time Spent on Site -0.192726   0.824708\n",
              "Age                       0.170884   1.186353\n",
              "Area Income              -0.000136   0.999864\n",
              "Daily Internet Usage     -0.063513   0.938462"
            ]
          },
          "execution_count": 21,
          "metadata": {},
          "output_type": "execute_result"
        }
      ],
      "source": [
        "coefs['OddsRatio'] = np.exp(coefs.Coefs)\n",
        "coefs\n",
        "#коэффициенты регрессии и отношения шансов"
      ]
    },
    {
      "cell_type": "code",
      "execution_count": null,
      "metadata": {
        "id": "v8XjP_gThTui"
      },
      "outputs": [],
      "source": [
        "def yes_no(p_value, level = 0.05):\n",
        "    if abs(p_value) < level:\n",
        "        return 'significant'\n",
        "    else:\n",
        "        return 'non-significant'"
      ]
    },
    {
      "cell_type": "code",
      "execution_count": null,
      "metadata": {
        "colab": {
          "base_uri": "https://localhost:8080/",
          "height": 238
        },
        "id": "s97tAR6BhWmn",
        "outputId": "c039ba3f-cbeb-412e-b18f-b5c44d9e20dc"
      },
      "outputs": [
        {
          "data": {
            "text/html": [
              "<div>\n",
              "<style scoped>\n",
              "    .dataframe tbody tr th:only-of-type {\n",
              "        vertical-align: middle;\n",
              "    }\n",
              "\n",
              "    .dataframe tbody tr th {\n",
              "        vertical-align: top;\n",
              "    }\n",
              "\n",
              "    .dataframe thead th {\n",
              "        text-align: right;\n",
              "    }\n",
              "</style>\n",
              "<table border=\"1\" class=\"dataframe\">\n",
              "  <thead>\n",
              "    <tr style=\"text-align: right;\">\n",
              "      <th></th>\n",
              "      <th>p_values</th>\n",
              "      <th>5% level</th>\n",
              "    </tr>\n",
              "    <tr>\n",
              "      <th>Features</th>\n",
              "      <th></th>\n",
              "      <th></th>\n",
              "    </tr>\n",
              "  </thead>\n",
              "  <tbody>\n",
              "    <tr>\n",
              "      <th>Sex_male</th>\n",
              "      <td>0.297</td>\n",
              "      <td>non-significant</td>\n",
              "    </tr>\n",
              "    <tr>\n",
              "      <th>Daily Time Spent on Site</th>\n",
              "      <td>0.000</td>\n",
              "      <td>significant</td>\n",
              "    </tr>\n",
              "    <tr>\n",
              "      <th>Age</th>\n",
              "      <td>0.000</td>\n",
              "      <td>significant</td>\n",
              "    </tr>\n",
              "    <tr>\n",
              "      <th>Area Income</th>\n",
              "      <td>0.000</td>\n",
              "      <td>significant</td>\n",
              "    </tr>\n",
              "    <tr>\n",
              "      <th>Daily Internet Usage</th>\n",
              "      <td>0.000</td>\n",
              "      <td>significant</td>\n",
              "    </tr>\n",
              "  </tbody>\n",
              "</table>\n",
              "</div>"
            ],
            "text/plain": [
              "                         p_values         5% level\n",
              "Features                                          \n",
              "Sex_male                    0.297  non-significant\n",
              "Daily Time Spent on Site    0.000      significant\n",
              "Age                         0.000      significant\n",
              "Area Income                 0.000      significant\n",
              "Daily Internet Usage        0.000      significant"
            ]
          },
          "execution_count": 23,
          "metadata": {},
          "output_type": "execute_result"
        }
      ],
      "source": [
        "pvals = pd.DataFrame()\n",
        "pvals['p_values'] = model1.pvalues[1:]\n",
        "pvals['5% level']= pvals['p_values'].apply(yes_no)\n",
        "pvals['p_values'] = pvals['p_values'].map('{:.3f}'.format)\n",
        "pvals['Features'] = model1.params.index[1:]\n",
        "pvals.set_index('Features',inplace=True)\n",
        "pvals"
      ]
    },
    {
      "cell_type": "code",
      "execution_count": null,
      "metadata": {
        "colab": {
          "base_uri": "https://localhost:8080/",
          "height": 238
        },
        "id": "jaOXmWMBhdYh",
        "outputId": "6c97d75a-46b1-4a27-cf01-b3b2c1f38d86"
      },
      "outputs": [
        {
          "data": {
            "text/html": [
              "<div>\n",
              "<style scoped>\n",
              "    .dataframe tbody tr th:only-of-type {\n",
              "        vertical-align: middle;\n",
              "    }\n",
              "\n",
              "    .dataframe tbody tr th {\n",
              "        vertical-align: top;\n",
              "    }\n",
              "\n",
              "    .dataframe thead th {\n",
              "        text-align: right;\n",
              "    }\n",
              "</style>\n",
              "<table border=\"1\" class=\"dataframe\">\n",
              "  <thead>\n",
              "    <tr style=\"text-align: right;\">\n",
              "      <th></th>\n",
              "      <th>p_values</th>\n",
              "      <th>5% level</th>\n",
              "      <th>10% level</th>\n",
              "    </tr>\n",
              "    <tr>\n",
              "      <th>Features</th>\n",
              "      <th></th>\n",
              "      <th></th>\n",
              "      <th></th>\n",
              "    </tr>\n",
              "  </thead>\n",
              "  <tbody>\n",
              "    <tr>\n",
              "      <th>Sex_male</th>\n",
              "      <td>0.297</td>\n",
              "      <td>non-significant</td>\n",
              "      <td>non-significant</td>\n",
              "    </tr>\n",
              "    <tr>\n",
              "      <th>Daily Time Spent on Site</th>\n",
              "      <td>0.000</td>\n",
              "      <td>significant</td>\n",
              "      <td>significant</td>\n",
              "    </tr>\n",
              "    <tr>\n",
              "      <th>Age</th>\n",
              "      <td>0.000</td>\n",
              "      <td>significant</td>\n",
              "      <td>significant</td>\n",
              "    </tr>\n",
              "    <tr>\n",
              "      <th>Area Income</th>\n",
              "      <td>0.000</td>\n",
              "      <td>significant</td>\n",
              "      <td>significant</td>\n",
              "    </tr>\n",
              "    <tr>\n",
              "      <th>Daily Internet Usage</th>\n",
              "      <td>0.000</td>\n",
              "      <td>significant</td>\n",
              "      <td>significant</td>\n",
              "    </tr>\n",
              "  </tbody>\n",
              "</table>\n",
              "</div>"
            ],
            "text/plain": [
              "                         p_values         5% level        10% level\n",
              "Features                                                           \n",
              "Sex_male                    0.297  non-significant  non-significant\n",
              "Daily Time Spent on Site    0.000      significant      significant\n",
              "Age                         0.000      significant      significant\n",
              "Area Income                 0.000      significant      significant\n",
              "Daily Internet Usage        0.000      significant      significant"
            ]
          },
          "execution_count": 24,
          "metadata": {},
          "output_type": "execute_result"
        }
      ],
      "source": [
        "pvals['10% level'] = model1.pvalues[1:].apply(lambda x: yes_no(x, level=0.1))\n",
        "pvals # без изменений"
      ]
    },
    {
      "cell_type": "markdown",
      "metadata": {
        "id": "vrpaprSyhmrz"
      },
      "source": [
        "### Характеристика модели"
      ]
    },
    {
      "cell_type": "code",
      "execution_count": null,
      "metadata": {
        "colab": {
          "base_uri": "https://localhost:8080/"
        },
        "id": "txOXI1c7hopw",
        "outputId": "21284c93-325f-49b5-9f58-17e5367ab841"
      },
      "outputs": [
        {
          "name": "stdout",
          "output_type": "stream",
          "text": [
            "R^2 = 0.868853\n",
            "Model significance = 0.000000\n"
          ]
        }
      ],
      "source": [
        "print('R^2 = {:f}'.format(model1.prsquared))\n",
        "print('Model significance = {:f}'.format(model1.llr_pvalue))"
      ]
    },
    {
      "cell_type": "markdown",
      "metadata": {
        "id": "y4Fd1bKVhusO"
      },
      "source": [
        "Модель статистически значима и объясняет 87% изменчивости значений зависимой переменной."
      ]
    },
    {
      "cell_type": "code",
      "execution_count": null,
      "metadata": {
        "colab": {
          "base_uri": "https://localhost:8080/",
          "height": 35
        },
        "id": "EZfsmTo6h1dA",
        "outputId": "37a6ea90-84a1-4911-d657-6fb346b94c65"
      },
      "outputs": [
        {
          "data": {
            "text/plain": [
              "\"Статистически значимые предикторы: ['const' 'Daily Time Spent on Site' 'Age' 'Area Income'\\n 'Daily Internet Usage']\""
            ]
          },
          "execution_count": 26,
          "metadata": {},
          "output_type": "execute_result"
        }
      ],
      "source": [
        "f'Статистически значимые предикторы: {model1.pvalues[model1.pvalues < 0.05].index.values}'"
      ]
    },
    {
      "cell_type": "code",
      "execution_count": null,
      "metadata": {
        "colab": {
          "base_uri": "https://localhost:8080/",
          "height": 35
        },
        "id": "WqCLUSQZh2wP",
        "outputId": "ea3fe551-3e39-4284-8d50-878222a65a82"
      },
      "outputs": [
        {
          "data": {
            "text/plain": [
              "\"Статистически значимые предикторы: ['Sex_male']\""
            ]
          },
          "execution_count": 27,
          "metadata": {},
          "output_type": "execute_result"
        }
      ],
      "source": [
        "f'Статистически значимые предикторы: {model1.pvalues[model1.pvalues > 0.05].index.values}'"
      ]
    },
    {
      "cell_type": "code",
      "execution_count": null,
      "metadata": {
        "colab": {
          "base_uri": "https://localhost:8080/"
        },
        "id": "GvDPm1cQh--J",
        "outputId": "5e0d26b8-8d0e-4dc3-9ec7-5d1cff175a56"
      },
      "outputs": [
        {
          "name": "stdout",
          "output_type": "stream",
          "text": [
            "logit(p) = 27.360608 + -0.42*Sex_male + -0.19*Daily Time Spent on Site + 0.17*Age + -0.00*Area Income + -0.06*Daily Internet Usage\n"
          ]
        }
      ],
      "source": [
        "l = []\n",
        "for (param, index) in zip(model1.params[1:], model1.params.index[1:]):\n",
        "    l.append('{:.2f}*{}'.format(param, index))\n",
        "\n",
        "print('logit(p) = {:2f} + {}'.format(model1.params[0], ' + '.join(l)))"
      ]
    },
    {
      "cell_type": "markdown",
      "metadata": {
        "id": "el0Nb6gFiH-8"
      },
      "source": [
        "### Интерпретация значений коэффициентов регрессии"
      ]
    },
    {
      "cell_type": "markdown",
      "metadata": {
        "id": "BU14KqWGiR6k"
      },
      "source": [
        "\n",
        "\n",
        "1. Sex_male - его значение статестически не значимо, как было написано выше.\n",
        "\n",
        "2. Daily Time Spent on Site\n",
        "\n",
        "Коэффициент: -0.1927\n",
        "\n",
        "Odds Ratio: 0.8247\n",
        "\n",
        " Odds Ratio меньше 1 (0.8247) означает, что с каждым дополнительным часом, проведенным на сайте, вероятность нажатия на рекламу снижается на 17.53% (1 - 0.8247 = 0.1753).\n",
        "\n",
        "3. Age\n",
        "\n",
        "Коэффициент: 0.1709\n",
        "\n",
        "Odds Ratio: 1.1864\n",
        "\n",
        "Odds Ratio больше 1 (1.1864) указывает на то, что с каждым годом возраста вероятность нажатия на рекламу увеличивается на 18.64% (1.1864 - 1 = 0.1864).\n",
        "\n",
        "4. Area Income\n",
        "\n",
        "Коэффициент: -0.000136\n",
        "Odds Ratio: 0.9999\n",
        "\n",
        "Коэффициент близок к нулю, что указывает на незначительное влияние среднего дохода на вероятность нажатия на рекламу, как было написано ранее. Odds Ratio чуть-чуть меньше 1 (0.9999): изменение в доходе практически не влияет на вероятность нажатия на рекламу.\n",
        "\n",
        "5. Daily Internet Usage\n",
        "\n",
        "Коэффициент: -0.0635\n",
        "\n",
        "Odds Ratio: 0.9385\n",
        "\n",
        "Odds Ratio меньше 1 (0.9385) указывает на то, что с каждым дополнительным часом интернет-использования вероятность нажатия на рекламу снижается на 6.15% (1 - 0.9385 = 0.0615).\n"
      ]
    },
    {
      "cell_type": "markdown",
      "metadata": {
        "id": "-dq_yfsbiSTP"
      },
      "source": [
        "### Матрица ошибок"
      ]
    },
    {
      "cell_type": "code",
      "execution_count": null,
      "metadata": {
        "colab": {
          "base_uri": "https://localhost:8080/"
        },
        "id": "ko06fycXiafM",
        "outputId": "680270e2-c2e7-4d86-f261-cbeaccc16728"
      },
      "outputs": [
        {
          "data": {
            "text/plain": [
              "array([[491.,   9.],\n",
              "       [ 19., 481.]])"
            ]
          },
          "execution_count": 29,
          "metadata": {},
          "output_type": "execute_result"
        }
      ],
      "source": [
        "cm = model1.pred_table()\n",
        "cm # 491 кликнули и мы предсказали, что они кликнут, 481 не кликнули и мы предсказали, что они не кликнут"
      ]
    },
    {
      "cell_type": "code",
      "execution_count": null,
      "metadata": {
        "colab": {
          "base_uri": "https://localhost:8080/"
        },
        "id": "nblkOOO5jyo0",
        "outputId": "749aaaa8-56af-4e6d-ad67-6cb3225ac940"
      },
      "outputs": [
        {
          "name": "stdout",
          "output_type": "stream",
          "text": [
            "TP: 491.0 | FN: 9.0\n",
            "-------------------\n",
            "FP: 19.0  | TN: 481.0\n"
          ]
        }
      ],
      "source": [
        "print('TP: {} | FN: {}\\n-------------------\\nFP: {}  | TN: {}'.format(cm[0,0], cm[0,1], cm[1,0], cm[1,1]))"
      ]
    },
    {
      "cell_type": "code",
      "execution_count": null,
      "metadata": {
        "colab": {
          "base_uri": "https://localhost:8080/"
        },
        "id": "9Si5nF6wiio3",
        "outputId": "2f988a5b-0b30-46c0-f0ff-68a5e0a2964b"
      },
      "outputs": [
        {
          "name": "stdout",
          "output_type": "stream",
          "text": [
            "Точность (процент верно предсказанных событий): = 0.972\n"
          ]
        }
      ],
      "source": [
        "accuracy = (cm[0,0] + cm[1,1]) / sum(sum(cm))\n",
        "print('Точность (процент верно предсказанных событий): = {}'.format(accuracy)) # 97% точность"
      ]
    },
    {
      "cell_type": "markdown",
      "metadata": {
        "id": "UrhwxCEDi-Lq"
      },
      "source": [
        "### ROC-curve"
      ]
    },
    {
      "cell_type": "code",
      "execution_count": null,
      "metadata": {
        "id": "p0UfFLR_jCWB"
      },
      "outputs": [],
      "source": [
        "fpr, tpr, _ = roc_curve(df_model1['Clicked on Ad'], model1.predict())\n",
        "roc_auc = auc(fpr, tpr)"
      ]
    },
    {
      "cell_type": "code",
      "execution_count": null,
      "metadata": {
        "colab": {
          "base_uri": "https://localhost:8080/",
          "height": 449
        },
        "id": "z6YQr8BRjHJ1",
        "outputId": "a80de4a5-1d72-42a2-ef6f-caa74c71d05e"
      },
      "outputs": [
        {
          "data": {
            "image/png": "[encoded data removed]",
            "text/plain": [
              "<Figure size 640x480 with 1 Axes>"
            ]
          },
          "metadata": {},
          "output_type": "display_data"
        }
      ],
      "source": [
        "plt.plot(fpr, tpr, color='darkorange', lw=2, label='ROC curve (area = %0.2f)' % roc_auc)\n",
        "plt.plot([0, 1], [0, 1], color='navy', lw=2, linestyle='--')\n",
        "plt.xlim([0.0, 1.0])\n",
        "plt.ylim([0.0, 1.05])\n",
        "plt.xlabel('False Positive Rate')\n",
        "plt.ylabel('True Positive Rate')\n",
        "plt.legend(loc='lower right')\n",
        "plt.show() # кривая очень близка к левому верхнему углу, площадь под ней - 0.99 - очень хороший результат"
      ]
    },
    {
      "cell_type": "markdown",
      "metadata": {
        "id": "Xte_f-QEkJxQ"
      },
      "source": [
        "# Диагностика модели"
      ]
    },
    {
      "cell_type": "markdown",
      "metadata": {
        "id": "Rw81etPJlCVv"
      },
      "source": [
        "### Остатки"
      ]
    },
    {
      "cell_type": "code",
      "execution_count": null,
      "metadata": {
        "colab": {
          "base_uri": "https://localhost:8080/"
        },
        "id": "NckQ1gYDmctT",
        "outputId": "fd1c6344-b08e-493f-d419-eea4038e3b5b"
      },
      "outputs": [
        {
          "name": "stdout",
          "output_type": "stream",
          "text": [
            "P-value: 0.000\n"
          ]
        }
      ],
      "source": [
        "p = stats.kstest(model1.resid_generalized, 'norm', args=(model1.resid_generalized.mean(), model1.resid_generalized.std())).pvalue\n",
        "print('P-value: {:.3f}'.format(p))"
      ]
    },
    {
      "cell_type": "code",
      "execution_count": null,
      "metadata": {
        "colab": {
          "base_uri": "https://localhost:8080/",
          "height": 447
        },
        "id": "vzqpNE3lmgPT",
        "outputId": "52670c31-a4a3-4617-bdb8-b5ac11d22a9b"
      },
      "outputs": [
        {
          "data": {
            "text/plain": [
              "<Axes: ylabel='Density'>"
            ]
          },
          "execution_count": 35,
          "metadata": {},
          "output_type": "execute_result"
        },
        {
          "data": {
            "image/png": "[encoded data removed]",
            "text/plain": [
              "<Figure size 640x480 with 1 Axes>"
            ]
          },
          "metadata": {},
          "output_type": "display_data"
        }
      ],
      "source": [
        "sns.distplot(model1.resid_generalized, fit=stats.norm)"
      ]
    },
    {
      "cell_type": "markdown",
      "metadata": {
        "id": "Dw2Ir_E8mojD"
      },
      "source": [
        "Распределение остатков не нормально и отличается пиковостью."
      ]
    },
    {
      "cell_type": "markdown",
      "metadata": {
        "id": "F4NcbJJCm4rd"
      },
      "source": [
        "### Мультиколлинеарность"
      ]
    },
    {
      "cell_type": "code",
      "execution_count": null,
      "metadata": {
        "id": "4HAHEJPGm6-M"
      },
      "outputs": [],
      "source": [
        "vifs = np.array([vif(model1.model.exog, i) for i in range(model1.model.exog.shape[1])])"
      ]
    },
    {
      "cell_type": "code",
      "execution_count": null,
      "metadata": {
        "colab": {
          "base_uri": "https://localhost:8080/",
          "height": 206
        },
        "id": "ODVwH8k3nABE",
        "outputId": "144c5904-7a04-4af2-9f13-92a0a240c881"
      },
      "outputs": [
        {
          "data": {
            "text/html": [
              "<div>\n",
              "<style scoped>\n",
              "    .dataframe tbody tr th:only-of-type {\n",
              "        vertical-align: middle;\n",
              "    }\n",
              "\n",
              "    .dataframe tbody tr th {\n",
              "        vertical-align: top;\n",
              "    }\n",
              "\n",
              "    .dataframe thead th {\n",
              "        text-align: right;\n",
              "    }\n",
              "</style>\n",
              "<table border=\"1\" class=\"dataframe\">\n",
              "  <thead>\n",
              "    <tr style=\"text-align: right;\">\n",
              "      <th></th>\n",
              "      <th>VIF</th>\n",
              "      <th>Features</th>\n",
              "    </tr>\n",
              "  </thead>\n",
              "  <tbody>\n",
              "    <tr>\n",
              "      <th>0</th>\n",
              "      <td>1.002687</td>\n",
              "      <td>Sex_male</td>\n",
              "    </tr>\n",
              "    <tr>\n",
              "      <th>3</th>\n",
              "      <td>1.163379</td>\n",
              "      <td>Area Income</td>\n",
              "    </tr>\n",
              "    <tr>\n",
              "      <th>2</th>\n",
              "      <td>1.195578</td>\n",
              "      <td>Age</td>\n",
              "    </tr>\n",
              "    <tr>\n",
              "      <th>1</th>\n",
              "      <td>1.451917</td>\n",
              "      <td>Daily Time Spent on Site</td>\n",
              "    </tr>\n",
              "    <tr>\n",
              "      <th>4</th>\n",
              "      <td>1.517298</td>\n",
              "      <td>Daily Internet Usage</td>\n",
              "    </tr>\n",
              "  </tbody>\n",
              "</table>\n",
              "</div>"
            ],
            "text/plain": [
              "        VIF                  Features\n",
              "0  1.002687                  Sex_male\n",
              "3  1.163379               Area Income\n",
              "2  1.195578                       Age\n",
              "1  1.451917  Daily Time Spent on Site\n",
              "4  1.517298      Daily Internet Usage"
            ]
          },
          "execution_count": 37,
          "metadata": {},
          "output_type": "execute_result"
        }
      ],
      "source": [
        "vif_df = pd.DataFrame()\n",
        "vif_df['VIF'] = vifs[1:]\n",
        "vif_df['Features'] = model1.params.index[1:]\n",
        "vif_df.sort_values(by=['VIF'])"
      ]
    },
    {
      "cell_type": "markdown",
      "metadata": {
        "id": "CPbJGEaKnGVk"
      },
      "source": [
        "Нет значений VIF, превышающих 10. Проблема мультиколлинеарности отсутствует."
      ]
    },
    {
      "cell_type": "markdown",
      "metadata": {
        "id": "hDBwRjIzn5m3"
      },
      "source": [
        "### Сохранение предсказанной вероятности наступления события для каждого наблюдения"
      ]
    },
    {
      "cell_type": "code",
      "execution_count": null,
      "metadata": {
        "colab": {
          "base_uri": "https://localhost:8080/",
          "height": 806
        },
        "id": "Q7tNDhY9oBdL",
        "outputId": "6c594c8e-8f70-4b54-8d3e-5c5439f6080e"
      },
      "outputs": [
        {
          "data": {
            "text/html": [
              "<div>\n",
              "<style scoped>\n",
              "    .dataframe tbody tr th:only-of-type {\n",
              "        vertical-align: middle;\n",
              "    }\n",
              "\n",
              "    .dataframe tbody tr th {\n",
              "        vertical-align: top;\n",
              "    }\n",
              "\n",
              "    .dataframe thead th {\n",
              "        text-align: right;\n",
              "    }\n",
              "</style>\n",
              "<table border=\"1\" class=\"dataframe\">\n",
              "  <thead>\n",
              "    <tr style=\"text-align: right;\">\n",
              "      <th></th>\n",
              "      <th>Daily Time Spent on Site</th>\n",
              "      <th>Age</th>\n",
              "      <th>Area Income</th>\n",
              "      <th>Daily Internet Usage</th>\n",
              "      <th>Ad Topic Line</th>\n",
              "      <th>City</th>\n",
              "      <th>Male</th>\n",
              "      <th>Country</th>\n",
              "      <th>Timestamp</th>\n",
              "      <th>Clicked on Ad</th>\n",
              "      <th>Sex</th>\n",
              "      <th>Sex_female</th>\n",
              "      <th>Sex_male</th>\n",
              "      <th>probability</th>\n",
              "    </tr>\n",
              "  </thead>\n",
              "  <tbody>\n",
              "    <tr>\n",
              "      <th>0</th>\n",
              "      <td>68.95</td>\n",
              "      <td>35</td>\n",
              "      <td>61833.90</td>\n",
              "      <td>256.09</td>\n",
              "      <td>Cloned 5thgeneration orchestration</td>\n",
              "      <td>Wrightburgh</td>\n",
              "      <td>0</td>\n",
              "      <td>Tunisia</td>\n",
              "      <td>2016-03-27 00:53:11</td>\n",
              "      <td>0</td>\n",
              "      <td>female</td>\n",
              "      <td>1</td>\n",
              "      <td>0</td>\n",
              "      <td>0.009697</td>\n",
              "    </tr>\n",
              "    <tr>\n",
              "      <th>1</th>\n",
              "      <td>80.23</td>\n",
              "      <td>31</td>\n",
              "      <td>68441.85</td>\n",
              "      <td>193.77</td>\n",
              "      <td>Monitored national standardization</td>\n",
              "      <td>West Jodi</td>\n",
              "      <td>1</td>\n",
              "      <td>Nauru</td>\n",
              "      <td>2016-04-04 01:39:02</td>\n",
              "      <td>0</td>\n",
              "      <td>male</td>\n",
              "      <td>0</td>\n",
              "      <td>1</td>\n",
              "      <td>0.007795</td>\n",
              "    </tr>\n",
              "    <tr>\n",
              "      <th>2</th>\n",
              "      <td>69.47</td>\n",
              "      <td>26</td>\n",
              "      <td>59785.94</td>\n",
              "      <td>236.50</td>\n",
              "      <td>Organic bottom-line service-desk</td>\n",
              "      <td>Davidton</td>\n",
              "      <td>0</td>\n",
              "      <td>San Marino</td>\n",
              "      <td>2016-03-13 20:35:42</td>\n",
              "      <td>0</td>\n",
              "      <td>female</td>\n",
              "      <td>1</td>\n",
              "      <td>0</td>\n",
              "      <td>0.008651</td>\n",
              "    </tr>\n",
              "    <tr>\n",
              "      <th>3</th>\n",
              "      <td>74.15</td>\n",
              "      <td>29</td>\n",
              "      <td>54806.18</td>\n",
              "      <td>245.89</td>\n",
              "      <td>Triple-buffered reciprocal time-frame</td>\n",
              "      <td>West Terrifurt</td>\n",
              "      <td>1</td>\n",
              "      <td>Italy</td>\n",
              "      <td>2016-01-10 02:31:19</td>\n",
              "      <td>0</td>\n",
              "      <td>male</td>\n",
              "      <td>0</td>\n",
              "      <td>1</td>\n",
              "      <td>0.004189</td>\n",
              "    </tr>\n",
              "    <tr>\n",
              "      <th>4</th>\n",
              "      <td>68.37</td>\n",
              "      <td>35</td>\n",
              "      <td>73889.99</td>\n",
              "      <td>225.58</td>\n",
              "      <td>Robust logistical utilization</td>\n",
              "      <td>South Manuel</td>\n",
              "      <td>0</td>\n",
              "      <td>Iceland</td>\n",
              "      <td>2016-06-03 03:36:18</td>\n",
              "      <td>0</td>\n",
              "      <td>female</td>\n",
              "      <td>1</td>\n",
              "      <td>0</td>\n",
              "      <td>0.014526</td>\n",
              "    </tr>\n",
              "    <tr>\n",
              "      <th>...</th>\n",
              "      <td>...</td>\n",
              "      <td>...</td>\n",
              "      <td>...</td>\n",
              "      <td>...</td>\n",
              "      <td>...</td>\n",
              "      <td>...</td>\n",
              "      <td>...</td>\n",
              "      <td>...</td>\n",
              "      <td>...</td>\n",
              "      <td>...</td>\n",
              "      <td>...</td>\n",
              "      <td>...</td>\n",
              "      <td>...</td>\n",
              "      <td>...</td>\n",
              "    </tr>\n",
              "    <tr>\n",
              "      <th>995</th>\n",
              "      <td>72.97</td>\n",
              "      <td>30</td>\n",
              "      <td>71384.57</td>\n",
              "      <td>208.58</td>\n",
              "      <td>Fundamental modular algorithm</td>\n",
              "      <td>Duffystad</td>\n",
              "      <td>1</td>\n",
              "      <td>Lebanon</td>\n",
              "      <td>2016-02-11 21:49:00</td>\n",
              "      <td>1</td>\n",
              "      <td>male</td>\n",
              "      <td>0</td>\n",
              "      <td>1</td>\n",
              "      <td>0.006970</td>\n",
              "    </tr>\n",
              "    <tr>\n",
              "      <th>996</th>\n",
              "      <td>51.30</td>\n",
              "      <td>45</td>\n",
              "      <td>67782.17</td>\n",
              "      <td>134.42</td>\n",
              "      <td>Grass-roots cohesive monitoring</td>\n",
              "      <td>New Darlene</td>\n",
              "      <td>1</td>\n",
              "      <td>Bosnia and Herzegovina</td>\n",
              "      <td>2016-04-22 02:07:01</td>\n",
              "      <td>1</td>\n",
              "      <td>male</td>\n",
              "      <td>0</td>\n",
              "      <td>1</td>\n",
              "      <td>0.999071</td>\n",
              "    </tr>\n",
              "    <tr>\n",
              "      <th>997</th>\n",
              "      <td>51.63</td>\n",
              "      <td>51</td>\n",
              "      <td>42415.72</td>\n",
              "      <td>120.37</td>\n",
              "      <td>Expanded intangible solution</td>\n",
              "      <td>South Jessica</td>\n",
              "      <td>1</td>\n",
              "      <td>Mongolia</td>\n",
              "      <td>2016-02-01 17:24:57</td>\n",
              "      <td>1</td>\n",
              "      <td>male</td>\n",
              "      <td>0</td>\n",
              "      <td>1</td>\n",
              "      <td>0.999995</td>\n",
              "    </tr>\n",
              "    <tr>\n",
              "      <th>998</th>\n",
              "      <td>55.55</td>\n",
              "      <td>19</td>\n",
              "      <td>41920.79</td>\n",
              "      <td>187.95</td>\n",
              "      <td>Proactive bandwidth-monitored policy</td>\n",
              "      <td>West Steven</td>\n",
              "      <td>0</td>\n",
              "      <td>Guatemala</td>\n",
              "      <td>2016-03-24 02:35:54</td>\n",
              "      <td>0</td>\n",
              "      <td>female</td>\n",
              "      <td>1</td>\n",
              "      <td>0</td>\n",
              "      <td>0.905486</td>\n",
              "    </tr>\n",
              "    <tr>\n",
              "      <th>999</th>\n",
              "      <td>45.01</td>\n",
              "      <td>26</td>\n",
              "      <td>29875.80</td>\n",
              "      <td>178.35</td>\n",
              "      <td>Virtual 5thgeneration emulation</td>\n",
              "      <td>Ronniemouth</td>\n",
              "      <td>0</td>\n",
              "      <td>Brazil</td>\n",
              "      <td>2016-06-03 21:43:21</td>\n",
              "      <td>1</td>\n",
              "      <td>female</td>\n",
              "      <td>1</td>\n",
              "      <td>0</td>\n",
              "      <td>0.999563</td>\n",
              "    </tr>\n",
              "  </tbody>\n",
              "</table>\n",
              "<p>1000 rows × 14 columns</p>\n",
              "</div>"
            ],
            "text/plain": [
              "     Daily Time Spent on Site  Age  Area Income  Daily Internet Usage  \\\n",
              "0                       68.95   35     61833.90                256.09   \n",
              "1                       80.23   31     68441.85                193.77   \n",
              "2                       69.47   26     59785.94                236.50   \n",
              "3                       74.15   29     54806.18                245.89   \n",
              "4                       68.37   35     73889.99                225.58   \n",
              "..                        ...  ...          ...                   ...   \n",
              "995                     72.97   30     71384.57                208.58   \n",
              "996                     51.30   45     67782.17                134.42   \n",
              "997                     51.63   51     42415.72                120.37   \n",
              "998                     55.55   19     41920.79                187.95   \n",
              "999                     45.01   26     29875.80                178.35   \n",
              "\n",
              "                             Ad Topic Line            City  Male  \\\n",
              "0       Cloned 5thgeneration orchestration     Wrightburgh     0   \n",
              "1       Monitored national standardization       West Jodi     1   \n",
              "2         Organic bottom-line service-desk        Davidton     0   \n",
              "3    Triple-buffered reciprocal time-frame  West Terrifurt     1   \n",
              "4            Robust logistical utilization    South Manuel     0   \n",
              "..                                     ...             ...   ...   \n",
              "995          Fundamental modular algorithm       Duffystad     1   \n",
              "996        Grass-roots cohesive monitoring     New Darlene     1   \n",
              "997           Expanded intangible solution   South Jessica     1   \n",
              "998   Proactive bandwidth-monitored policy     West Steven     0   \n",
              "999        Virtual 5thgeneration emulation     Ronniemouth     0   \n",
              "\n",
              "                    Country            Timestamp  Clicked on Ad     Sex  \\\n",
              "0                   Tunisia  2016-03-27 00:53:11              0  female   \n",
              "1                     Nauru  2016-04-04 01:39:02              0    male   \n",
              "2                San Marino  2016-03-13 20:35:42              0  female   \n",
              "3                     Italy  2016-01-10 02:31:19              0    male   \n",
              "4                   Iceland  2016-06-03 03:36:18              0  female   \n",
              "..                      ...                  ...            ...     ...   \n",
              "995                 Lebanon  2016-02-11 21:49:00              1    male   \n",
              "996  Bosnia and Herzegovina  2016-04-22 02:07:01              1    male   \n",
              "997                Mongolia  2016-02-01 17:24:57              1    male   \n",
              "998               Guatemala  2016-03-24 02:35:54              0  female   \n",
              "999                  Brazil  2016-06-03 21:43:21              1  female   \n",
              "\n",
              "     Sex_female  Sex_male  probability  \n",
              "0             1         0     0.009697  \n",
              "1             0         1     0.007795  \n",
              "2             1         0     0.008651  \n",
              "3             0         1     0.004189  \n",
              "4             1         0     0.014526  \n",
              "..          ...       ...          ...  \n",
              "995           0         1     0.006970  \n",
              "996           0         1     0.999071  \n",
              "997           0         1     0.999995  \n",
              "998           1         0     0.905486  \n",
              "999           1         0     0.999563  \n",
              "\n",
              "[1000 rows x 14 columns]"
            ]
          },
          "execution_count": 38,
          "metadata": {},
          "output_type": "execute_result"
        }
      ],
      "source": [
        "df_model1['probability'] = model1.predict()\n",
        "df_model1 # можем посмотреть на конкретные случаи и вероятность нажатия этих людей на рекламу"
      ]
    },
    {
      "cell_type": "markdown",
      "metadata": {
        "id": "BMNEBCDYpCFh"
      },
      "source": [
        "# Кросс-валидация"
      ]
    },
    {
      "cell_type": "markdown",
      "metadata": {
        "id": "4BR-31BCpGmH"
      },
      "source": [
        "Разделим данные на обучающую и тестовую выборки в пропорции 80% и 20% соответственно."
      ]
    },
    {
      "cell_type": "code",
      "execution_count": null,
      "metadata": {
        "colab": {
          "base_uri": "https://localhost:8080/"
        },
        "id": "oj_YEQgnp3o5",
        "outputId": "6d93d818-c1c5-4a2d-b72d-8744ae143d52"
      },
      "outputs": [
        {
          "name": "stdout",
          "output_type": "stream",
          "text": [
            "Collecting sklearn\n",
            "  Using cached sklearn-0.0.post12.tar.gz (2.6 kB)\n",
            "  Preparing metadata (setup.py): started\n",
            "  Preparing metadata (setup.py): finished with status 'error'\n"
          ]
        },
        {
          "name": "stderr",
          "output_type": "stream",
          "text": [
            "  error: subprocess-exited-with-error\n",
            "  \n",
            "  × python setup.py egg_info did not run successfully.\n",
            "  │ exit code: 1\n",
            "  ╰─> [15 lines of output]\n",
            "      The 'sklearn' PyPI package is deprecated, use 'scikit-learn'\n",
            "      rather than 'sklearn' for pip commands.\n",
            "      \n",
            "      Here is how to fix this error in the main use cases:\n",
            "      - use 'pip install scikit-learn' rather than 'pip install sklearn'\n",
            "      - replace 'sklearn' by 'scikit-learn' in your pip requirements files\n",
            "        (requirements.txt, setup.py, setup.cfg, Pipfile, etc ...)\n",
            "      - if the 'sklearn' package is used by one of your dependencies,\n",
            "        it would be great if you take some time to track which package uses\n",
            "        'sklearn' instead of 'scikit-learn' and report it to their issue tracker\n",
            "      - as a last resort, set the environment variable\n",
            "        SKLEARN_ALLOW_DEPRECATED_SKLEARN_PACKAGE_INSTALL=True to avoid this error\n",
            "      \n",
            "      More information is available at\n",
            "      https://github.com/scikit-learn/sklearn-pypi-package\n",
            "      [end of output]\n",
            "  \n",
            "  note: This error originates from a subprocess, and is likely not a problem with pip.\n",
            "\n",
            "[notice] A new release of pip is available: 24.2 -> 24.3.1\n",
            "[notice] To update, run: python.exe -m pip install --upgrade pip\n",
            "error: metadata-generation-failed\n",
            "\n",
            "× Encountered error while generating package metadata.\n",
            "╰─> See above for output.\n",
            "\n",
            "note: This is an issue with the package mentioned above, not pip.\n",
            "hint: See above for details.\n"
          ]
        }
      ],
      "source": [
        "!pip3 install sklearn"
      ]
    },
    {
      "cell_type": "code",
      "execution_count": null,
      "metadata": {
        "id": "iM2Uov5PpKNq"
      },
      "outputs": [],
      "source": [
        "import sklearn\n",
        "from sklearn.metrics import accuracy_score, confusion_matrix, classification_report\n",
        "from sklearn. model_selection import train_test_split\n",
        "X_train, X_test, y_train, y_test = train_test_split(x_mult, y, test_size=0.2, random_state=0)"
      ]
    },
    {
      "cell_type": "code",
      "execution_count": null,
      "metadata": {
        "colab": {
          "base_uri": "https://localhost:8080/"
        },
        "id": "BJAWAwe-pLs_",
        "outputId": "042a8db6-71e7-49e1-cbd6-9aa1773d8b3f"
      },
      "outputs": [
        {
          "name": "stdout",
          "output_type": "stream",
          "text": [
            "Train Result:\n",
            "================================================\n",
            "Accuracy Score: 94.62%\n",
            "_______________________________________________\n",
            "CLASSIFICATION REPORT:\n",
            "                    0           1  accuracy   macro avg  weighted avg\n",
            "precision    0.926650    0.966752   0.94625    0.946701      0.947102\n",
            "recall       0.966837    0.926471   0.94625    0.946654      0.946250\n",
            "f1-score     0.946317    0.946183   0.94625    0.946250      0.946249\n",
            "support    392.000000  408.000000   0.94625  800.000000    800.000000\n",
            "_______________________________________________\n",
            "Confusion Matrix: \n",
            " [[379  13]\n",
            " [ 30 378]]\n",
            "\n"
          ]
        }
      ],
      "source": [
        "from sklearn.linear_model import LogisticRegression\n",
        "lr = LogisticRegression()\n",
        "lr.fit(X_train, y_train)\n",
        "pred = lr.predict(X_train)\n",
        "clf_report = pd.DataFrame(classification_report(y_train, pred, output_dict=True))\n",
        "print(\"Train Result:\\n================================================\")\n",
        "print(f\"Accuracy Score: {accuracy_score(y_train, pred) * 100:.2f}%\")\n",
        "print(\"_______________________________________________\")\n",
        "print(f\"CLASSIFICATION REPORT:\\n{clf_report}\")\n",
        "print(\"_______________________________________________\")\n",
        "print(f\"Confusion Matrix: \\n {confusion_matrix(y_train, pred)}\\n\")"
      ]
    },
    {
      "cell_type": "markdown",
      "metadata": {
        "id": "jm8_YkeLvT9c"
      },
      "source": [
        "Получим, что модель имеет достаточно высокую точность (Accuracy Score: 94.62%).\n",
        "\n",
        "Precision: из всех предсказанных случаев \"не кликнул\" 92.67% были действительно \"не кликнули\", и из всех предсказанных случаев \"кликнул\" 96.68% были действительно \"кликнули\".\n",
        "\n",
        "Recall: модель верно предсказала 96.68% из всех действительно \"не кликнувших\" случаев и 92.65% из всех действительно \"кликнувших\" случаев.\n",
        "\n",
        "F1-score: F1-мера (гармоническое среднее) близка к 0.95 для обоих значений.\n",
        "\n",
        "Support: 392 случая не кликнули, и 408 случаев кликнули.\n",
        "\n",
        "Матрица ошибок:\n",
        "\n",
        "379 - TP\n",
        "13 - FP\n",
        "\n",
        "30 - FN\n",
        "378 - TN"
      ]
    },
    {
      "cell_type": "code",
      "execution_count": null,
      "metadata": {
        "colab": {
          "base_uri": "https://localhost:8080/"
        },
        "id": "X-rL-sb6s_1I",
        "outputId": "0a3b81cb-1d01-4fcf-d86d-e7fe5c089802"
      },
      "outputs": [
        {
          "name": "stdout",
          "output_type": "stream",
          "text": [
            "Test Result:\n",
            "================================================\n",
            "Accuracy Score: 94.50%\n",
            "_______________________________________________\n",
            "CLASSIFICATION REPORT:\n",
            "                    0          1  accuracy   macro avg  weighted avg\n",
            "precision    0.936937   0.955056     0.945    0.945997      0.945272\n",
            "recall       0.962963   0.923913     0.945    0.943438      0.945000\n",
            "f1-score     0.949772   0.939227     0.945    0.944499      0.944921\n",
            "support    108.000000  92.000000     0.945  200.000000    200.000000\n",
            "_______________________________________________\n",
            "Confusion Matrix: \n",
            " [[104   4]\n",
            " [  7  85]]\n",
            "\n"
          ]
        }
      ],
      "source": [
        "pred = lr.predict(X_test)\n",
        "clf_report = pd.DataFrame(classification_report(y_test, pred, output_dict=True))\n",
        "\n",
        "print(\"Test Result:\\n================================================\")\n",
        "print(f\"Accuracy Score: {accuracy_score(y_test, pred) * 100:.2f}%\")\n",
        "print(\"_______________________________________________\")\n",
        "print(f\"CLASSIFICATION REPORT:\\n{clf_report}\")\n",
        "print(\"_______________________________________________\")\n",
        "print(f\"Confusion Matrix: \\n {confusion_matrix(y_test, pred)}\\n\")"
      ]
    },
    {
      "cell_type": "markdown",
      "metadata": {
        "id": "SNBYzZZQwuHr"
      },
      "source": [
        "\n",
        "Результаты тестовой выборки\n",
        "\n",
        "Precision: из всех предсказанных \"не кликнувших\" 93.7% действительно не кликнули, а из всех предсказанных \"кликнувших\" 95.5% действительно кликнули.\n",
        "\n",
        "Recall: модель правильно предсказала 96.3% всех случаев, где пользователь не кликнул, и 92.4% всех случаев, где пользователь кликнул.\n",
        "\n",
        "F1-score: F1-мера также составляет приблизительно 0.95 для обоих значений.\n",
        "\n",
        "Support: Количество наблюдений в каждом классе: 108 - не кликнули, 92 - кликнули.\n",
        "\n",
        "Матрица ошибок:\n",
        "\n",
        "104 - TP\n",
        "4 - FP\n",
        "\n",
        "7 - FN\n",
        "85 - TN"
      ]
    },
    {
      "cell_type": "markdown",
      "metadata": {
        "id": "kh8UvSUk0QY0"
      },
      "source": [
        "Результаты показывают, что модель достаточно надежна для предсказания кликов на рекламу, хотя небольшое количество ошибок все же присутствует."
      ]
    },
    {
      "cell_type": "markdown",
      "metadata": {
        "id": "3l10fHNL552y"
      },
      "source": [
        "Общие выводы:\n",
        "\n",
        "Нажатие на рекламу не зависит от пола человека.\n",
        "\n",
        "Более старшие пользователи более склонны нажимать на рекламу.\n",
        "\n",
        "Средний доход не оказывает значимого влияния на вероятность нажатия на рекламу.\n",
        "\n",
        "С увеличением времени, проведенного в интернете, вероятность нажатия на рекламу также немного снижается, что оказалось неожиданным и опровергнуло гипотезу."
      ]
    }
  ],
  "metadata": {
    "colab": {
      "provenance": []
    },
    "kernelspec": {
      "display_name": "Python 3",
      "language": "python",
      "name": "python3"
    },
    "language_info": {
      "codemirror_mode": {
        "name": "ipython",
        "version": 3
      },
      "file_extension": ".py",
      "mimetype": "text/x-python",
      "name": "python",
      "nbconvert_exporter": "python",
      "pygments_lexer": "ipython3",
      "version": "3.12.4"
    }
  },
  "nbformat": 4,
  "nbformat_minor": 0
}