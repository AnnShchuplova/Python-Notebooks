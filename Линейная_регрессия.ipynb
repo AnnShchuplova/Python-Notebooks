{
  "cells": [
    {
      "cell_type": "markdown",
      "metadata": {
        "id": "K_ib4bSFOnQd"
      },
      "source": [
        "# Практическое задание №4"
      ]
    },
    {
      "cell_type": "markdown",
      "metadata": {
        "id": "AhP68hj_OnQf"
      },
      "source": [
        "В файле laptops_na.csv\" содержаться следующие переменные:\n",
        "\n",
        "- `\"brand\"` : Название бренда ноутбука.\n",
        "- `\"Model\"` : Конкретная модель или серия ноутбука.\n",
        "- `\"Price\"` : Цена ноутбука в индийских рупиях.\n",
        "- `\"Rating\"` : Рейтинг, присвоенный ноутбуку на основе его характеристик.\n",
        "- `\"processor_brand\"` : Марка процессора, используемого в ноутбуке.\n",
        "- `\"processor_tier\"` : Уровень производительности или категория процессора.\n",
        "- `\"num_cores\"` : Количество вычислительных ядер в процессоре.\n",
        "- `\"num_threads\"` : Количество потоков, поддерживаемых процессором.\n",
        "- `\"ram_memory\"` : Объем оперативной памяти, используемый в ноутбуке.\n",
        "- `\"primary_storage_type\"` : Тип основного хранилища (например, HDD, SSD).\n",
        "- `\"primary_storage -apacity\"` : Емкость основного хранилища ноутбука.\n",
        "- `\"secondary_storage_type\"` : Тип вторичного хранилища, если оно доступно.\n",
        "- `\"secondary_storage_capacity\"` : Емкость вторичного хранилища ноутбука.\n",
        "- `\"gpu_brand\"` : Марка графического процессора (GPU).\n",
        "- `\"gpu_type\"` : Тип графического процессора.\n",
        "- `\"is_touch_screen\"` : Указывает, оснащен ли ноутбук функцией сенсорного экрана.\n",
        "- `\"display_size\"` : Размер дисплея ноутбука в дюймах.\n",
        "- `\"resolution_width\"` : Разрешение по ширине дисплея.\n",
        "- `\"resolution_height\"` : Разрешение дисплея по высоте.\n",
        "- `\"OS\"` : Установленная на ноутбуке операционная система.\n",
        "- `\"year_of_warranty\"` : Срок гарантии, предоставляемой на ноутбук, обычно в годах.\n",
        "\n",
        "\n",
        "\n",
        "Задания:\n",
        "\n",
        "    •\tПостройте модель множественной линейной регрессии. Зависимая переменная - Price. Выберите не менее 7-ми переменных в качестве независимых. Среди независимых переменных должно быть не менее 2 категориальных.\n",
        "    \n",
        "    •\tСформулируйте гипотезы исследования.\n",
        "    \n",
        "    •\tНапишите уравнение регрессии.\n",
        "    \n",
        "    •\tОцените характеристики регрессионной модели в целом.\n",
        "    \n",
        "    •\tОцените значимость регрессионных коэффициентов. Сравните их между собой по силе взаимосвязи с зависимой переменной.\n",
        "    \n",
        "    •\tПодробно интерпретируйте особенности взаимосвязи между каждым из предикторов и зависимой переменной. Это очень важный пункт задания, поскольку именно в нем мы делаем выводы о том, какие факторы и как могут влиять на цену ноутбуков!\n",
        "    \n",
        "    •\tПроведите диагностику модели. Есть ли в модели выбросы и/или влияющие наблюдения? Чем это может объясняться?\n",
        "    \n",
        "    •\tСформулируйте общие содержательные выводы по результатам регрессионного анализа данных. Какие результаты анализа данных для вас оказались очевидными, а какие неожиданными?"
      ]
    },
    {
      "cell_type": "code",
      "execution_count": null,
      "metadata": {
        "id": "xlQp60Z4OnQg"
      },
      "outputs": [],
      "source": [
        "# from google.colab import drive\n",
        "# drive.mount('/content/drive')"
      ]
    },
    {
      "cell_type": "code",
      "execution_count": null,
      "metadata": {
        "colab": {
          "base_uri": "https://localhost:8080/",
          "height": 373
        },
        "id": "eGtk3QTOMvWh",
        "outputId": "7003cd2c-9e31-41a2-a5b2-31fbbfa4c95e"
      },
      "outputs": [
        {
          "output_type": "error",
          "ename": "FileNotFoundError",
          "evalue": "[Errno 2] No such file or directory: 'laptops.csv'",
          "traceback": [
            "\u001b[0;31m---------------------------------------------------------------------------\u001b[0m",
            "\u001b[0;31mFileNotFoundError\u001b[0m                         Traceback (most recent call last)",
            "\u001b[0;32m<ipython-input-5-44545cf94318>\u001b[0m in \u001b[0;36m<cell line: 10>\u001b[0;34m()\u001b[0m\n\u001b[1;32m      8\u001b[0m \u001b[0mwarnings\u001b[0m\u001b[0;34m.\u001b[0m\u001b[0mfilterwarnings\u001b[0m\u001b[0;34m(\u001b[0m\u001b[0;34m'ignore'\u001b[0m\u001b[0;34m)\u001b[0m\u001b[0;34m\u001b[0m\u001b[0;34m\u001b[0m\u001b[0m\n\u001b[1;32m      9\u001b[0m \u001b[0;34m\u001b[0m\u001b[0m\n\u001b[0;32m---> 10\u001b[0;31m \u001b[0mdf\u001b[0m \u001b[0;34m=\u001b[0m \u001b[0mpd\u001b[0m\u001b[0;34m.\u001b[0m\u001b[0mread_csv\u001b[0m\u001b[0;34m(\u001b[0m\u001b[0;34m'laptops.csv'\u001b[0m\u001b[0;34m,\u001b[0m \u001b[0mindex_col\u001b[0m\u001b[0;34m=\u001b[0m\u001b[0;36m0\u001b[0m\u001b[0;34m)\u001b[0m\u001b[0;34m\u001b[0m\u001b[0;34m\u001b[0m\u001b[0m\n\u001b[0m\u001b[1;32m     11\u001b[0m \u001b[0;34m\u001b[0m\u001b[0m\n\u001b[1;32m     12\u001b[0m \u001b[0mdf\u001b[0m\u001b[0;34m.\u001b[0m\u001b[0mhead\u001b[0m\u001b[0;34m(\u001b[0m\u001b[0;34m)\u001b[0m\u001b[0;34m\u001b[0m\u001b[0;34m\u001b[0m\u001b[0m\n",
            "\u001b[0;32m/usr/local/lib/python3.10/dist-packages/pandas/io/parsers/readers.py\u001b[0m in \u001b[0;36mread_csv\u001b[0;34m(filepath_or_buffer, sep, delimiter, header, names, index_col, usecols, dtype, engine, converters, true_values, false_values, skipinitialspace, skiprows, skipfooter, nrows, na_values, keep_default_na, na_filter, verbose, skip_blank_lines, parse_dates, infer_datetime_format, keep_date_col, date_parser, date_format, dayfirst, cache_dates, iterator, chunksize, compression, thousands, decimal, lineterminator, quotechar, quoting, doublequote, escapechar, comment, encoding, encoding_errors, dialect, on_bad_lines, delim_whitespace, low_memory, memory_map, float_precision, storage_options, dtype_backend)\u001b[0m\n\u001b[1;32m   1024\u001b[0m     \u001b[0mkwds\u001b[0m\u001b[0;34m.\u001b[0m\u001b[0mupdate\u001b[0m\u001b[0;34m(\u001b[0m\u001b[0mkwds_defaults\u001b[0m\u001b[0;34m)\u001b[0m\u001b[0;34m\u001b[0m\u001b[0;34m\u001b[0m\u001b[0m\n\u001b[1;32m   1025\u001b[0m \u001b[0;34m\u001b[0m\u001b[0m\n\u001b[0;32m-> 1026\u001b[0;31m     \u001b[0;32mreturn\u001b[0m \u001b[0m_read\u001b[0m\u001b[0;34m(\u001b[0m\u001b[0mfilepath_or_buffer\u001b[0m\u001b[0;34m,\u001b[0m \u001b[0mkwds\u001b[0m\u001b[0;34m)\u001b[0m\u001b[0;34m\u001b[0m\u001b[0;34m\u001b[0m\u001b[0m\n\u001b[0m\u001b[1;32m   1027\u001b[0m \u001b[0;34m\u001b[0m\u001b[0m\n\u001b[1;32m   1028\u001b[0m \u001b[0;34m\u001b[0m\u001b[0m\n",
            "\u001b[0;32m/usr/local/lib/python3.10/dist-packages/pandas/io/parsers/readers.py\u001b[0m in \u001b[0;36m_read\u001b[0;34m(filepath_or_buffer, kwds)\u001b[0m\n\u001b[1;32m    618\u001b[0m \u001b[0;34m\u001b[0m\u001b[0m\n\u001b[1;32m    619\u001b[0m     \u001b[0;31m# Create the parser.\u001b[0m\u001b[0;34m\u001b[0m\u001b[0;34m\u001b[0m\u001b[0m\n\u001b[0;32m--> 620\u001b[0;31m     \u001b[0mparser\u001b[0m \u001b[0;34m=\u001b[0m \u001b[0mTextFileReader\u001b[0m\u001b[0;34m(\u001b[0m\u001b[0mfilepath_or_buffer\u001b[0m\u001b[0;34m,\u001b[0m \u001b[0;34m**\u001b[0m\u001b[0mkwds\u001b[0m\u001b[0;34m)\u001b[0m\u001b[0;34m\u001b[0m\u001b[0;34m\u001b[0m\u001b[0m\n\u001b[0m\u001b[1;32m    621\u001b[0m \u001b[0;34m\u001b[0m\u001b[0m\n\u001b[1;32m    622\u001b[0m     \u001b[0;32mif\u001b[0m \u001b[0mchunksize\u001b[0m \u001b[0;32mor\u001b[0m \u001b[0miterator\u001b[0m\u001b[0;34m:\u001b[0m\u001b[0;34m\u001b[0m\u001b[0;34m\u001b[0m\u001b[0m\n",
            "\u001b[0;32m/usr/local/lib/python3.10/dist-packages/pandas/io/parsers/readers.py\u001b[0m in \u001b[0;36m__init__\u001b[0;34m(self, f, engine, **kwds)\u001b[0m\n\u001b[1;32m   1618\u001b[0m \u001b[0;34m\u001b[0m\u001b[0m\n\u001b[1;32m   1619\u001b[0m         \u001b[0mself\u001b[0m\u001b[0;34m.\u001b[0m\u001b[0mhandles\u001b[0m\u001b[0;34m:\u001b[0m \u001b[0mIOHandles\u001b[0m \u001b[0;34m|\u001b[0m \u001b[0;32mNone\u001b[0m \u001b[0;34m=\u001b[0m \u001b[0;32mNone\u001b[0m\u001b[0;34m\u001b[0m\u001b[0;34m\u001b[0m\u001b[0m\n\u001b[0;32m-> 1620\u001b[0;31m         \u001b[0mself\u001b[0m\u001b[0;34m.\u001b[0m\u001b[0m_engine\u001b[0m \u001b[0;34m=\u001b[0m \u001b[0mself\u001b[0m\u001b[0;34m.\u001b[0m\u001b[0m_make_engine\u001b[0m\u001b[0;34m(\u001b[0m\u001b[0mf\u001b[0m\u001b[0;34m,\u001b[0m \u001b[0mself\u001b[0m\u001b[0;34m.\u001b[0m\u001b[0mengine\u001b[0m\u001b[0;34m)\u001b[0m\u001b[0;34m\u001b[0m\u001b[0;34m\u001b[0m\u001b[0m\n\u001b[0m\u001b[1;32m   1621\u001b[0m \u001b[0;34m\u001b[0m\u001b[0m\n\u001b[1;32m   1622\u001b[0m     \u001b[0;32mdef\u001b[0m \u001b[0mclose\u001b[0m\u001b[0;34m(\u001b[0m\u001b[0mself\u001b[0m\u001b[0;34m)\u001b[0m \u001b[0;34m->\u001b[0m \u001b[0;32mNone\u001b[0m\u001b[0;34m:\u001b[0m\u001b[0;34m\u001b[0m\u001b[0;34m\u001b[0m\u001b[0m\n",
            "\u001b[0;32m/usr/local/lib/python3.10/dist-packages/pandas/io/parsers/readers.py\u001b[0m in \u001b[0;36m_make_engine\u001b[0;34m(self, f, engine)\u001b[0m\n\u001b[1;32m   1878\u001b[0m                 \u001b[0;32mif\u001b[0m \u001b[0;34m\"b\"\u001b[0m \u001b[0;32mnot\u001b[0m \u001b[0;32min\u001b[0m \u001b[0mmode\u001b[0m\u001b[0;34m:\u001b[0m\u001b[0;34m\u001b[0m\u001b[0;34m\u001b[0m\u001b[0m\n\u001b[1;32m   1879\u001b[0m                     \u001b[0mmode\u001b[0m \u001b[0;34m+=\u001b[0m \u001b[0;34m\"b\"\u001b[0m\u001b[0;34m\u001b[0m\u001b[0;34m\u001b[0m\u001b[0m\n\u001b[0;32m-> 1880\u001b[0;31m             self.handles = get_handle(\n\u001b[0m\u001b[1;32m   1881\u001b[0m                 \u001b[0mf\u001b[0m\u001b[0;34m,\u001b[0m\u001b[0;34m\u001b[0m\u001b[0;34m\u001b[0m\u001b[0m\n\u001b[1;32m   1882\u001b[0m                 \u001b[0mmode\u001b[0m\u001b[0;34m,\u001b[0m\u001b[0;34m\u001b[0m\u001b[0;34m\u001b[0m\u001b[0m\n",
            "\u001b[0;32m/usr/local/lib/python3.10/dist-packages/pandas/io/common.py\u001b[0m in \u001b[0;36mget_handle\u001b[0;34m(path_or_buf, mode, encoding, compression, memory_map, is_text, errors, storage_options)\u001b[0m\n\u001b[1;32m    871\u001b[0m         \u001b[0;32mif\u001b[0m \u001b[0mioargs\u001b[0m\u001b[0;34m.\u001b[0m\u001b[0mencoding\u001b[0m \u001b[0;32mand\u001b[0m \u001b[0;34m\"b\"\u001b[0m \u001b[0;32mnot\u001b[0m \u001b[0;32min\u001b[0m \u001b[0mioargs\u001b[0m\u001b[0;34m.\u001b[0m\u001b[0mmode\u001b[0m\u001b[0;34m:\u001b[0m\u001b[0;34m\u001b[0m\u001b[0;34m\u001b[0m\u001b[0m\n\u001b[1;32m    872\u001b[0m             \u001b[0;31m# Encoding\u001b[0m\u001b[0;34m\u001b[0m\u001b[0;34m\u001b[0m\u001b[0m\n\u001b[0;32m--> 873\u001b[0;31m             handle = open(\n\u001b[0m\u001b[1;32m    874\u001b[0m                 \u001b[0mhandle\u001b[0m\u001b[0;34m,\u001b[0m\u001b[0;34m\u001b[0m\u001b[0;34m\u001b[0m\u001b[0m\n\u001b[1;32m    875\u001b[0m                 \u001b[0mioargs\u001b[0m\u001b[0;34m.\u001b[0m\u001b[0mmode\u001b[0m\u001b[0;34m,\u001b[0m\u001b[0;34m\u001b[0m\u001b[0;34m\u001b[0m\u001b[0m\n",
            "\u001b[0;31mFileNotFoundError\u001b[0m: [Errno 2] No such file or directory: 'laptops.csv'"
          ]
        }
      ],
      "source": [
        "import pandas as pd\n",
        "import seaborn as sns\n",
        "import matplotlib.pyplot as plt\n",
        "from scipy import stats\n",
        "import numpy as np\n",
        "from statsmodels.stats.outliers_influence import variance_inflation_factor as vif\n",
        "import warnings\n",
        "warnings.filterwarnings('ignore')\n",
        "\n",
        "df = pd.read_csv('laptops.csv', index_col=0)\n",
        "\n",
        "df.head()\n"
      ]
    },
    {
      "cell_type": "code",
      "execution_count": null,
      "metadata": {
        "colab": {
          "base_uri": "https://localhost:8080/"
        },
        "id": "YQjG8ZwyTbLk",
        "outputId": "8ec870bb-1e78-4280-b0c7-6f338c7c4b5d"
      },
      "outputs": [
        {
          "name": "stdout",
          "output_type": "stream",
          "text": [
            "<class 'pandas.core.frame.DataFrame'>\n",
            "Index: 991 entries, 1.0 to nan\n",
            "Data columns (total 21 columns):\n",
            " #   Column                      Non-Null Count  Dtype  \n",
            "---  ------                      --------------  -----  \n",
            " 0   brand                       944 non-null    object \n",
            " 1   Model                       946 non-null    object \n",
            " 2   Price                       942 non-null    float64\n",
            " 3   Rating                      936 non-null    float64\n",
            " 4   processor_brand             930 non-null    object \n",
            " 5   processor_tier              950 non-null    object \n",
            " 6   num_cores                   958 non-null    float64\n",
            " 7   num_threads                 953 non-null    float64\n",
            " 8   ram_memory                  942 non-null    float64\n",
            " 9   primary_storage_type        932 non-null    object \n",
            " 10  primary_storage_capacity    928 non-null    float64\n",
            " 11  secondary_storage_type      946 non-null    object \n",
            " 12  secondary_storage_capacity  942 non-null    float64\n",
            " 13  gpu_brand                   950 non-null    object \n",
            " 14  gpu_type                    941 non-null    object \n",
            " 15  is_touch_screen             946 non-null    object \n",
            " 16  display_size                943 non-null    float64\n",
            " 17  resolution_width            938 non-null    float64\n",
            " 18  resolution_height           931 non-null    float64\n",
            " 19  OS                          947 non-null    object \n",
            " 20  year_of_warranty            961 non-null    object \n",
            "dtypes: float64(10), object(11)\n",
            "memory usage: 170.3+ KB\n"
          ]
        }
      ],
      "source": [
        "df.info()"
      ]
    },
    {
      "cell_type": "code",
      "execution_count": null,
      "metadata": {
        "colab": {
          "base_uri": "https://localhost:8080/",
          "height": 708
        },
        "id": "KN5bNeZwUpCc",
        "outputId": "186ec7c9-eeea-4e5a-f7f9-60d8bb42a223"
      },
      "outputs": [
        {
          "data": {
            "text/html": [
              "<div>\n",
              "<style scoped>\n",
              "    .dataframe tbody tr th:only-of-type {\n",
              "        vertical-align: middle;\n",
              "    }\n",
              "\n",
              "    .dataframe tbody tr th {\n",
              "        vertical-align: top;\n",
              "    }\n",
              "\n",
              "    .dataframe thead th {\n",
              "        text-align: right;\n",
              "    }\n",
              "</style>\n",
              "<table border=\"1\" class=\"dataframe\">\n",
              "  <thead>\n",
              "    <tr style=\"text-align: right;\">\n",
              "      <th></th>\n",
              "      <th>Процент пропущенных значений</th>\n",
              "    </tr>\n",
              "  </thead>\n",
              "  <tbody>\n",
              "    <tr>\n",
              "      <th>primary_storage_capacity</th>\n",
              "      <td>6.357215</td>\n",
              "    </tr>\n",
              "    <tr>\n",
              "      <th>processor_brand</th>\n",
              "      <td>6.155399</td>\n",
              "    </tr>\n",
              "    <tr>\n",
              "      <th>resolution_height</th>\n",
              "      <td>6.054490</td>\n",
              "    </tr>\n",
              "    <tr>\n",
              "      <th>primary_storage_type</th>\n",
              "      <td>5.953582</td>\n",
              "    </tr>\n",
              "    <tr>\n",
              "      <th>Rating</th>\n",
              "      <td>5.549950</td>\n",
              "    </tr>\n",
              "    <tr>\n",
              "      <th>resolution_width</th>\n",
              "      <td>5.348133</td>\n",
              "    </tr>\n",
              "    <tr>\n",
              "      <th>gpu_type</th>\n",
              "      <td>5.045409</td>\n",
              "    </tr>\n",
              "    <tr>\n",
              "      <th>secondary_storage_capacity</th>\n",
              "      <td>4.944501</td>\n",
              "    </tr>\n",
              "    <tr>\n",
              "      <th>Price</th>\n",
              "      <td>4.944501</td>\n",
              "    </tr>\n",
              "    <tr>\n",
              "      <th>ram_memory</th>\n",
              "      <td>4.944501</td>\n",
              "    </tr>\n",
              "    <tr>\n",
              "      <th>display_size</th>\n",
              "      <td>4.843592</td>\n",
              "    </tr>\n",
              "    <tr>\n",
              "      <th>brand</th>\n",
              "      <td>4.742684</td>\n",
              "    </tr>\n",
              "    <tr>\n",
              "      <th>secondary_storage_type</th>\n",
              "      <td>4.540868</td>\n",
              "    </tr>\n",
              "    <tr>\n",
              "      <th>Model</th>\n",
              "      <td>4.540868</td>\n",
              "    </tr>\n",
              "    <tr>\n",
              "      <th>is_touch_screen</th>\n",
              "      <td>4.540868</td>\n",
              "    </tr>\n",
              "    <tr>\n",
              "      <th>OS</th>\n",
              "      <td>4.439960</td>\n",
              "    </tr>\n",
              "    <tr>\n",
              "      <th>gpu_brand</th>\n",
              "      <td>4.137235</td>\n",
              "    </tr>\n",
              "    <tr>\n",
              "      <th>processor_tier</th>\n",
              "      <td>4.137235</td>\n",
              "    </tr>\n",
              "    <tr>\n",
              "      <th>num_threads</th>\n",
              "      <td>3.834511</td>\n",
              "    </tr>\n",
              "    <tr>\n",
              "      <th>num_cores</th>\n",
              "      <td>3.329970</td>\n",
              "    </tr>\n",
              "    <tr>\n",
              "      <th>year_of_warranty</th>\n",
              "      <td>3.027245</td>\n",
              "    </tr>\n",
              "  </tbody>\n",
              "</table>\n",
              "</div>"
            ],
            "text/plain": [
              "                            Процент пропущенных значений\n",
              "primary_storage_capacity                        6.357215\n",
              "processor_brand                                 6.155399\n",
              "resolution_height                               6.054490\n",
              "primary_storage_type                            5.953582\n",
              "Rating                                          5.549950\n",
              "resolution_width                                5.348133\n",
              "gpu_type                                        5.045409\n",
              "secondary_storage_capacity                      4.944501\n",
              "Price                                           4.944501\n",
              "ram_memory                                      4.944501\n",
              "display_size                                    4.843592\n",
              "brand                                           4.742684\n",
              "secondary_storage_type                          4.540868\n",
              "Model                                           4.540868\n",
              "is_touch_screen                                 4.540868\n",
              "OS                                              4.439960\n",
              "gpu_brand                                       4.137235\n",
              "processor_tier                                  4.137235\n",
              "num_threads                                     3.834511\n",
              "num_cores                                       3.329970\n",
              "year_of_warranty                                3.027245"
            ]
          },
          "execution_count": 9,
          "metadata": {},
          "output_type": "execute_result"
        }
      ],
      "source": [
        "# Процент пропущенных значений по переменным, содержащим пропуски\n",
        "missing = (df.isna().sum() / len(df)) * 100\n",
        "missing = missing[missing > 0].sort_values(ascending=False)\n",
        "missing = pd.DataFrame({'Процент пропущенных значений' : missing})\n",
        "missing"
      ]
    },
    {
      "cell_type": "markdown",
      "metadata": {
        "id": "gZKJxjBiTiOV"
      },
      "source": [
        "Заметим, что по всем переменным примерно одинаковое количество информации, около 940-950 заполненных строк данных и не более 6% пропущенных значений"
      ]
    },
    {
      "cell_type": "markdown",
      "metadata": {
        "id": "RmqTqKXcVHrM"
      },
      "source": [
        "# Зависимая переменная:"
      ]
    },
    {
      "cell_type": "code",
      "execution_count": null,
      "metadata": {
        "colab": {
          "base_uri": "https://localhost:8080/",
          "height": 335
        },
        "id": "Tn7Bw1R8UcOl",
        "outputId": "254a59f7-cf71-484e-bf70-29f70252ef3a"
      },
      "outputs": [
        {
          "data": {
            "text/plain": [
              "count       942.000000\n",
              "mean      76964.924628\n",
              "std       56821.995229\n",
              "min        9800.000000\n",
              "25%       43547.500000\n",
              "50%       61706.000000\n",
              "75%       88997.500000\n",
              "max      454490.000000\n",
              "Name: Price, dtype: float64"
            ]
          },
          "execution_count": 10,
          "metadata": {},
          "output_type": "execute_result"
        }
      ],
      "source": [
        "df['Price'].describe()"
      ]
    },
    {
      "cell_type": "code",
      "execution_count": null,
      "metadata": {
        "colab": {
          "base_uri": "https://localhost:8080/",
          "height": 482
        },
        "id": "53lKzA-QWCKT",
        "outputId": "0b110316-eb83-476e-9125-b68ef04a484b"
      },
      "outputs": [
        {
          "data": {
            "text/plain": [
              "<Axes: xlabel='Price', ylabel='Density'>"
            ]
          },
          "execution_count": 11,
          "metadata": {},
          "output_type": "execute_result"
        },
        {
          "data": {
            "image/png": "[encoded data removed]",
            "text/plain": [
              "<Figure size 640x480 with 1 Axes>"
            ]
          },
          "metadata": {},
          "output_type": "display_data"
        }
      ],
      "source": [
        "sns.distplot(df.Price, fit=stats.norm)"
      ]
    },
    {
      "cell_type": "code",
      "execution_count": null,
      "metadata": {
        "colab": {
          "base_uri": "https://localhost:8080/"
        },
        "id": "Zm-jV5RlWXfX",
        "outputId": "a638464e-f284-4063-8beb-60d1c3198c89"
      },
      "outputs": [
        {
          "name": "stdout",
          "output_type": "stream",
          "text": [
            "Skewness: 2.7843\n",
            "Kurtosis: 10.8358\n",
            "Quartile Deviation: 22725.0000\n",
            "Decile Ratio: 4.3055\n"
          ]
        }
      ],
      "source": [
        "print('Skewness: {:.4f}'.format(df['Price'].skew()))\n",
        "print('Kurtosis: {:.4f}'.format(df['Price'].kurt()))\n",
        "print('Quartile Deviation: {:.4f}'.format((df['Price'].quantile(0.75) - df['Price'].quantile(0.25))/2))\n",
        "print('Decile Ratio: {:.4f}'.format(df['Price'].quantile(0.9)/df['Price'].quantile(0.1)))"
      ]
    },
    {
      "cell_type": "code",
      "execution_count": null,
      "metadata": {
        "colab": {
          "base_uri": "https://localhost:8080/"
        },
        "id": "5YKrI30CWyem",
        "outputId": "810a519b-47ff-480f-812c-cbc83f0de90c"
      },
      "outputs": [
        {
          "data": {
            "text/plain": [
              "KstestResult(statistic=0.18025942533524242, pvalue=2.9704447687930686e-27, statistic_location=80020.0, statistic_sign=1)"
            ]
          },
          "execution_count": 13,
          "metadata": {},
          "output_type": "execute_result"
        }
      ],
      "source": [
        "df = df.dropna(subset=['Price'])\n",
        "stats.kstest(df.Price, 'norm', args=(df.Price.mean(), df.Price.std()))"
      ]
    },
    {
      "cell_type": "markdown",
      "metadata": {
        "id": "CIdmmBHZZnK8"
      },
      "source": [
        "Делаем выводы, что зависимая переменная \"Price\" демонстрирует ненормальное распределение, с выраженной асимметрией, направленной в сторону меньших значений, а также высокую пиковость. Среднее значение составляет 76964, при этом стандартное отклонение значительное — 56821, что указывает на большой разброс данных. Медиана равна 61706, а межквартильная широта составляет 22725, что также свидетельствует о значительной вариации среди средних 50% значений относительно медианы. Децильное отношение равно 4.3, что подчеркивает неравномерность распределения, где верхние 10% значений значительно превышают нижние 10%."
      ]
    },
    {
      "cell_type": "markdown",
      "metadata": {
        "id": "83dD0XaFdRGn"
      },
      "source": [
        "# Корреляции\n"
      ]
    },
    {
      "cell_type": "code",
      "execution_count": null,
      "metadata": {
        "colab": {
          "base_uri": "https://localhost:8080/",
          "height": 1000
        },
        "id": "EKCxgBULeBAC",
        "outputId": "20c8d2f6-37fb-40b3-b94e-117f66825ab6"
      },
      "outputs": [
        {
          "data": {
            "image/png": "[encoded data removed]",
            "text/plain": [
              "<Figure size 1400x1400 with 2 Axes>"
            ]
          },
          "metadata": {},
          "output_type": "display_data"
        }
      ],
      "source": [
        "corr = df.corr(numeric_only=True)\n",
        "plt.figure(figsize=(14, 14))\n",
        "sns.heatmap(corr, vmax=.8, square=True, cmap='Blues')\n",
        "plt.show()"
      ]
    },
    {
      "cell_type": "code",
      "execution_count": null,
      "metadata": {
        "colab": {
          "base_uri": "https://localhost:8080/",
          "height": 398
        },
        "id": "lRNIo4YrdXhw",
        "outputId": "a473b2a5-22de-41e4-d579-490340b0f0b1"
      },
      "outputs": [
        {
          "data": {
            "text/plain": [
              "Price                         1.000000\n",
              "num_cores                     0.725934\n",
              "num_threads                   0.716827\n",
              "Rating                        0.659263\n",
              "primary_storage_capacity      0.636234\n",
              "resolution_width              0.628331\n",
              "resolution_height             0.618031\n",
              "ram_memory                    0.612126\n",
              "display_size                  0.207328\n",
              "secondary_storage_capacity   -0.026986\n",
              "dtype: float64"
            ]
          },
          "execution_count": 15,
          "metadata": {},
          "output_type": "execute_result"
        }
      ],
      "source": [
        "# корреляции зависимой переменной со всеми остальными по убыванию значений коэффициентов корреляции\n",
        "df.corrwith(df['Price'], numeric_only=True).sort_values(ascending=False)"
      ]
    },
    {
      "cell_type": "code",
      "execution_count": null,
      "metadata": {
        "colab": {
          "base_uri": "https://localhost:8080/"
        },
        "id": "h9fkpUl1nSK3",
        "outputId": "d48af7c7-4d2f-46ed-e0ea-8b4471a56c0f"
      },
      "outputs": [
        {
          "data": {
            "text/plain": [
              "0.9033755851911407"
            ]
          },
          "execution_count": 16,
          "metadata": {},
          "output_type": "execute_result"
        }
      ],
      "source": [
        "df['num_threads'].corr(df['num_cores'])"
      ]
    },
    {
      "cell_type": "code",
      "execution_count": null,
      "metadata": {
        "colab": {
          "base_uri": "https://localhost:8080/"
        },
        "id": "49yhhHAtnf1J",
        "outputId": "5c99dc3c-3fb1-4673-f539-80766f71a214"
      },
      "outputs": [
        {
          "data": {
            "text/plain": [
              "0.770428818067209"
            ]
          },
          "execution_count": 17,
          "metadata": {},
          "output_type": "execute_result"
        }
      ],
      "source": [
        "df['num_threads'].corr(df['Rating'])"
      ]
    },
    {
      "cell_type": "code",
      "execution_count": null,
      "metadata": {
        "colab": {
          "base_uri": "https://localhost:8080/"
        },
        "id": "K_YpFyy9rAar",
        "outputId": "8777a3a3-8595-4733-d759-6c6be7b596bb"
      },
      "outputs": [
        {
          "data": {
            "text/plain": [
              "0.5907137636639062"
            ]
          },
          "execution_count": 18,
          "metadata": {},
          "output_type": "execute_result"
        }
      ],
      "source": [
        "df['num_cores'].corr(df['Rating'])"
      ]
    },
    {
      "cell_type": "code",
      "execution_count": null,
      "metadata": {
        "colab": {
          "base_uri": "https://localhost:8080/"
        },
        "id": "XwiCcORzugV4",
        "outputId": "b4c521d9-38d1-4d0a-df49-04e2bcf696db"
      },
      "outputs": [
        {
          "data": {
            "text/plain": [
              "0.8047359623345459"
            ]
          },
          "execution_count": 19,
          "metadata": {},
          "output_type": "execute_result"
        }
      ],
      "source": [
        "df['resolution_width'].corr(df['resolution_height'])"
      ]
    },
    {
      "cell_type": "code",
      "execution_count": null,
      "metadata": {
        "colab": {
          "base_uri": "https://localhost:8080/"
        },
        "id": "uhs70MZlxbxe",
        "outputId": "40277d59-e53a-4f38-b5ca-96b7d198220d"
      },
      "outputs": [
        {
          "data": {
            "text/plain": [
              "0.6448791733166135"
            ]
          },
          "execution_count": 20,
          "metadata": {},
          "output_type": "execute_result"
        }
      ],
      "source": [
        "df['ram_memory'].corr(df['Rating'])"
      ]
    },
    {
      "cell_type": "markdown",
      "metadata": {
        "id": "FIWXaZ5-n2tV"
      },
      "source": [
        "Корреляционный анализ позволяет сделать следующие выводы:\n",
        "\n",
        "Переменные \"num_cores\" и \"num_threads\" имеют самую высокую корреляцию с зависимой переменной, то есть количество вычислительных ядер в процессоре и количество потоков, поддерживаемых процессором во многом определяет цену продажи. В то же время их корреляция друг с другом очень высока, что логично. Оставим только одну переменную в качестве предиктора. Это будет \"num_cores\" так как она имеет более высокую корреляцию с зависимой переменной.\n",
        "\n",
        "Похожая ситуация с переменными \"resolution_width\" и \"resolution_height\". В модель будет включена переменная \"resolution_width\", поскольку она сильнее коррелирует с зависимой переменной.\n",
        "\n",
        "Также высокая корреляция зависимой переменной с переменной \"Rating\", отражающей рейтинг, присвоенный ноутбуку на основе его характеристик. Но в модель ее не возьмем, так как она, соответсвенно, коррелирует со многими переменными."
      ]
    },
    {
      "cell_type": "markdown",
      "metadata": {
        "id": "VXkVVi97yYFM"
      },
      "source": [
        "Построим парные графики, чтобы убедиться, что взаимосвязь носит линейный характер и диагностировать выбросы:"
      ]
    },
    {
      "cell_type": "code",
      "execution_count": null,
      "metadata": {
        "colab": {
          "base_uri": "https://localhost:8080/",
          "height": 449
        },
        "id": "y5_Q6B-RytDQ",
        "outputId": "22f4a784-da56-430d-f319-d880a739c106"
      },
      "outputs": [
        {
          "data": {
            "image/png": "[encoded data removed]",
            "text/plain": [
              "<Figure size 640x480 with 1 Axes>"
            ]
          },
          "metadata": {},
          "output_type": "display_data"
        }
      ],
      "source": [
        "plt.scatter(df.num_cores, df.Price, c = 'blue', marker = 'o', alpha=0.3)\n",
        "plt.xlabel('num_cores')\n",
        "plt.ylabel('Price')\n",
        "plt.show()"
      ]
    },
    {
      "cell_type": "code",
      "execution_count": null,
      "metadata": {
        "colab": {
          "base_uri": "https://localhost:8080/",
          "height": 450
        },
        "id": "uCi0Ph8IzM-p",
        "outputId": "8fb3015f-5dde-4c76-b7b6-49ebd2f158e3"
      },
      "outputs": [
        {
          "data": {
            "image/png": "[encoded data removed]",
            "text/plain": [
              "<Figure size 640x480 with 1 Axes>"
            ]
          },
          "metadata": {},
          "output_type": "display_data"
        }
      ],
      "source": [
        "plt.scatter(df.primary_storage_capacity, df.Price, c = 'blue', marker = 'o', alpha=0.3)\n",
        "plt.xlabel('primary_storage_capacity')\n",
        "plt.ylabel('Price')\n",
        "plt.show()"
      ]
    },
    {
      "cell_type": "code",
      "execution_count": null,
      "metadata": {
        "colab": {
          "base_uri": "https://localhost:8080/",
          "height": 450
        },
        "id": "3d9eOyDMzZJw",
        "outputId": "a964379b-afdc-44a3-d296-f19962c5302c"
      },
      "outputs": [
        {
          "data": {
            "image/png": "[encoded data removed]",
            "text/plain": [
              "<Figure size 640x480 with 1 Axes>"
            ]
          },
          "metadata": {},
          "output_type": "display_data"
        }
      ],
      "source": [
        "plt.scatter(df.resolution_width, df.Price, c = 'blue', marker = 'o', alpha=0.3)\n",
        "plt.xlabel('resolution_width')\n",
        "plt.ylabel('Price')\n",
        "plt.show() # есть выбросы"
      ]
    },
    {
      "cell_type": "code",
      "execution_count": null,
      "metadata": {
        "colab": {
          "base_uri": "https://localhost:8080/",
          "height": 449
        },
        "id": "j1f8ZST90H3R",
        "outputId": "e91eae14-7fd2-4c65-a8c0-27430e71da8a"
      },
      "outputs": [
        {
          "data": {
            "image/png": "[encoded data removed]",
            "text/plain": [
              "<Figure size 640x480 with 1 Axes>"
            ]
          },
          "metadata": {},
          "output_type": "display_data"
        }
      ],
      "source": [
        "plt.scatter(df.ram_memory, df.Price, c = 'blue', marker = 'o', alpha=0.3)\n",
        "plt.xlabel('ram_memory')\n",
        "plt.ylabel('Price')\n",
        "plt.show() # есть выбросы"
      ]
    },
    {
      "cell_type": "code",
      "execution_count": null,
      "metadata": {
        "colab": {
          "base_uri": "https://localhost:8080/",
          "height": 175
        },
        "id": "agP5y3jQ0bSU",
        "outputId": "3fc1857f-fe14-463d-df34-2a302dcfab78"
      },
      "outputs": [
        {
          "data": {
            "text/html": [
              "<div>\n",
              "<style scoped>\n",
              "    .dataframe tbody tr th:only-of-type {\n",
              "        vertical-align: middle;\n",
              "    }\n",
              "\n",
              "    .dataframe tbody tr th {\n",
              "        vertical-align: top;\n",
              "    }\n",
              "\n",
              "    .dataframe thead th {\n",
              "        text-align: right;\n",
              "    }\n",
              "</style>\n",
              "<table border=\"1\" class=\"dataframe\">\n",
              "  <thead>\n",
              "    <tr style=\"text-align: right;\">\n",
              "      <th></th>\n",
              "      <th>num_cores</th>\n",
              "      <th>primary_storage_capacity</th>\n",
              "      <th>resolution_width</th>\n",
              "      <th>ram_memory</th>\n",
              "    </tr>\n",
              "  </thead>\n",
              "  <tbody>\n",
              "    <tr>\n",
              "      <th>num_cores</th>\n",
              "      <td>1.000000</td>\n",
              "      <td>0.492758</td>\n",
              "      <td>0.478386</td>\n",
              "      <td>0.562307</td>\n",
              "    </tr>\n",
              "    <tr>\n",
              "      <th>primary_storage_capacity</th>\n",
              "      <td>0.492758</td>\n",
              "      <td>1.000000</td>\n",
              "      <td>0.391985</td>\n",
              "      <td>0.517003</td>\n",
              "    </tr>\n",
              "    <tr>\n",
              "      <th>resolution_width</th>\n",
              "      <td>0.478386</td>\n",
              "      <td>0.391985</td>\n",
              "      <td>1.000000</td>\n",
              "      <td>0.400734</td>\n",
              "    </tr>\n",
              "    <tr>\n",
              "      <th>ram_memory</th>\n",
              "      <td>0.562307</td>\n",
              "      <td>0.517003</td>\n",
              "      <td>0.400734</td>\n",
              "      <td>1.000000</td>\n",
              "    </tr>\n",
              "  </tbody>\n",
              "</table>\n",
              "</div>"
            ],
            "text/plain": [
              "                          num_cores  primary_storage_capacity  \\\n",
              "num_cores                  1.000000                  0.492758   \n",
              "primary_storage_capacity   0.492758                  1.000000   \n",
              "resolution_width           0.478386                  0.391985   \n",
              "ram_memory                 0.562307                  0.517003   \n",
              "\n",
              "                          resolution_width  ram_memory  \n",
              "num_cores                         0.478386    0.562307  \n",
              "primary_storage_capacity          0.391985    0.517003  \n",
              "resolution_width                  1.000000    0.400734  \n",
              "ram_memory                        0.400734    1.000000  "
            ]
          },
          "execution_count": 25,
          "metadata": {},
          "output_type": "execute_result"
        }
      ],
      "source": [
        "df[['num_cores','primary_storage_capacity','resolution_width','ram_memory']].corr()"
      ]
    },
    {
      "cell_type": "markdown",
      "metadata": {
        "id": "zu0cJ86l037w"
      },
      "source": [
        "Значительная корреляция между 'ram_memory' и 'num_cores', 'primary_storage_capacity'"
      ]
    },
    {
      "cell_type": "code",
      "execution_count": null,
      "metadata": {
        "colab": {
          "base_uri": "https://localhost:8080/",
          "height": 143
        },
        "id": "TSQj33Gh1O3P",
        "outputId": "1025c65c-cc15-4eaf-da62-4fda453bd468"
      },
      "outputs": [
        {
          "data": {
            "text/html": [
              "<div>\n",
              "<style scoped>\n",
              "    .dataframe tbody tr th:only-of-type {\n",
              "        vertical-align: middle;\n",
              "    }\n",
              "\n",
              "    .dataframe tbody tr th {\n",
              "        vertical-align: top;\n",
              "    }\n",
              "\n",
              "    .dataframe thead th {\n",
              "        text-align: right;\n",
              "    }\n",
              "</style>\n",
              "<table border=\"1\" class=\"dataframe\">\n",
              "  <thead>\n",
              "    <tr style=\"text-align: right;\">\n",
              "      <th></th>\n",
              "      <th>num_cores</th>\n",
              "      <th>primary_storage_capacity</th>\n",
              "      <th>resolution_width</th>\n",
              "    </tr>\n",
              "  </thead>\n",
              "  <tbody>\n",
              "    <tr>\n",
              "      <th>num_cores</th>\n",
              "      <td>1.000000</td>\n",
              "      <td>0.492758</td>\n",
              "      <td>0.478386</td>\n",
              "    </tr>\n",
              "    <tr>\n",
              "      <th>primary_storage_capacity</th>\n",
              "      <td>0.492758</td>\n",
              "      <td>1.000000</td>\n",
              "      <td>0.391985</td>\n",
              "    </tr>\n",
              "    <tr>\n",
              "      <th>resolution_width</th>\n",
              "      <td>0.478386</td>\n",
              "      <td>0.391985</td>\n",
              "      <td>1.000000</td>\n",
              "    </tr>\n",
              "  </tbody>\n",
              "</table>\n",
              "</div>"
            ],
            "text/plain": [
              "                          num_cores  primary_storage_capacity  \\\n",
              "num_cores                  1.000000                  0.492758   \n",
              "primary_storage_capacity   0.492758                  1.000000   \n",
              "resolution_width           0.478386                  0.391985   \n",
              "\n",
              "                          resolution_width  \n",
              "num_cores                         0.478386  \n",
              "primary_storage_capacity          0.391985  \n",
              "resolution_width                  1.000000  "
            ]
          },
          "execution_count": 26,
          "metadata": {},
          "output_type": "execute_result"
        }
      ],
      "source": [
        "df[['num_cores','primary_storage_capacity','resolution_width']].corr()"
      ]
    },
    {
      "cell_type": "markdown",
      "metadata": {
        "id": "Wyj9N6m61iQg"
      },
      "source": [
        "# Категориальные предикторы"
      ]
    },
    {
      "cell_type": "code",
      "execution_count": null,
      "metadata": {
        "colab": {
          "base_uri": "https://localhost:8080/",
          "height": 931
        },
        "id": "3qaWb1Oa1lZ0",
        "outputId": "24ab1caa-741b-4062-997a-febe1a49227d"
      },
      "outputs": [
        {
          "data": {
            "text/plain": [
              "brand\n",
              "asus         186\n",
              "lenovo       185\n",
              "hp           183\n",
              "dell          97\n",
              "acer          83\n",
              "msi           80\n",
              "apple         15\n",
              "infinix       11\n",
              "zebronics      6\n",
              "lg             6\n",
              "ultimus        6\n",
              "samsung        6\n",
              "fujitsu        5\n",
              "avita          5\n",
              "chuwi          4\n",
              "wings          3\n",
              "realme         2\n",
              "microsoft      2\n",
              "tecno          2\n",
              "honor          2\n",
              "primebook      2\n",
              "axl            2\n",
              "jio            1\n",
              "iball          1\n",
              "gigabyte       1\n",
              "walker         1\n",
              "Name: count, dtype: int64"
            ]
          },
          "execution_count": 27,
          "metadata": {},
          "output_type": "execute_result"
        }
      ],
      "source": [
        "df['brand'].value_counts()"
      ]
    },
    {
      "cell_type": "code",
      "execution_count": null,
      "metadata": {
        "colab": {
          "base_uri": "https://localhost:8080/",
          "height": 366
        },
        "id": "CUmbYVOO_HqE",
        "outputId": "238d8e07-ce84-4a29-f944-da5094345e75"
      },
      "outputs": [
        {
          "data": {
            "text/plain": [
              "brand\n",
              "asus       186\n",
              "lenovo     185\n",
              "hp         183\n",
              "dell        97\n",
              "acer        83\n",
              "msi         80\n",
              "apple       15\n",
              "infinix     11\n",
              "Name: count, dtype: int64"
            ]
          },
          "execution_count": 28,
          "metadata": {},
          "output_type": "execute_result"
        }
      ],
      "source": [
        "brands = ['asus', 'lenovo', 'hp', 'dell', 'acer', 'msi', 'apple', 'infinix']\n",
        "df = df[(df['brand'] == 'asus') | (df['brand'] == 'lenovo') | (df['brand'] == 'hp') | (df['brand'] == 'dell') | (df['brand'] == 'acer') | (df['brand'] == 'msi') | (df['brand'] == 'apple') | (df['brand'] == 'infinix')]\n",
        "df['brand'].value_counts()"
      ]
    },
    {
      "cell_type": "code",
      "execution_count": null,
      "metadata": {
        "colab": {
          "base_uri": "https://localhost:8080/",
          "height": 238
        },
        "id": "eFN_AHbfCCyf",
        "outputId": "56332399-60ce-4550-bbc8-98bfdf582600"
      },
      "outputs": [
        {
          "data": {
            "text/html": [
              "<div>\n",
              "<style scoped>\n",
              "    .dataframe tbody tr th:only-of-type {\n",
              "        vertical-align: middle;\n",
              "    }\n",
              "\n",
              "    .dataframe tbody tr th {\n",
              "        vertical-align: top;\n",
              "    }\n",
              "\n",
              "    .dataframe thead th {\n",
              "        text-align: right;\n",
              "    }\n",
              "</style>\n",
              "<table border=\"1\" class=\"dataframe\">\n",
              "  <thead>\n",
              "    <tr style=\"text-align: right;\">\n",
              "      <th></th>\n",
              "      <th>brand_acer</th>\n",
              "      <th>brand_apple</th>\n",
              "      <th>brand_asus</th>\n",
              "      <th>brand_dell</th>\n",
              "      <th>brand_hp</th>\n",
              "      <th>brand_infinix</th>\n",
              "      <th>brand_lenovo</th>\n",
              "      <th>brand_msi</th>\n",
              "    </tr>\n",
              "    <tr>\n",
              "      <th>index</th>\n",
              "      <th></th>\n",
              "      <th></th>\n",
              "      <th></th>\n",
              "      <th></th>\n",
              "      <th></th>\n",
              "      <th></th>\n",
              "      <th></th>\n",
              "      <th></th>\n",
              "    </tr>\n",
              "  </thead>\n",
              "  <tbody>\n",
              "    <tr>\n",
              "      <th>3.0</th>\n",
              "      <td>0</td>\n",
              "      <td>0</td>\n",
              "      <td>0</td>\n",
              "      <td>0</td>\n",
              "      <td>1</td>\n",
              "      <td>0</td>\n",
              "      <td>0</td>\n",
              "      <td>0</td>\n",
              "    </tr>\n",
              "    <tr>\n",
              "      <th>4.0</th>\n",
              "      <td>1</td>\n",
              "      <td>0</td>\n",
              "      <td>0</td>\n",
              "      <td>0</td>\n",
              "      <td>0</td>\n",
              "      <td>0</td>\n",
              "      <td>0</td>\n",
              "      <td>0</td>\n",
              "    </tr>\n",
              "    <tr>\n",
              "      <th>5.0</th>\n",
              "      <td>0</td>\n",
              "      <td>0</td>\n",
              "      <td>0</td>\n",
              "      <td>0</td>\n",
              "      <td>0</td>\n",
              "      <td>0</td>\n",
              "      <td>1</td>\n",
              "      <td>0</td>\n",
              "    </tr>\n",
              "    <tr>\n",
              "      <th>6.0</th>\n",
              "      <td>0</td>\n",
              "      <td>1</td>\n",
              "      <td>0</td>\n",
              "      <td>0</td>\n",
              "      <td>0</td>\n",
              "      <td>0</td>\n",
              "      <td>0</td>\n",
              "      <td>0</td>\n",
              "    </tr>\n",
              "    <tr>\n",
              "      <th>7.0</th>\n",
              "      <td>0</td>\n",
              "      <td>0</td>\n",
              "      <td>0</td>\n",
              "      <td>0</td>\n",
              "      <td>0</td>\n",
              "      <td>1</td>\n",
              "      <td>0</td>\n",
              "      <td>0</td>\n",
              "    </tr>\n",
              "  </tbody>\n",
              "</table>\n",
              "</div>"
            ],
            "text/plain": [
              "       brand_acer  brand_apple  brand_asus  brand_dell  brand_hp  \\\n",
              "index                                                              \n",
              "3.0             0            0           0           0         1   \n",
              "4.0             1            0           0           0         0   \n",
              "5.0             0            0           0           0         0   \n",
              "6.0             0            1           0           0         0   \n",
              "7.0             0            0           0           0         0   \n",
              "\n",
              "       brand_infinix  brand_lenovo  brand_msi  \n",
              "index                                          \n",
              "3.0                0             0          0  \n",
              "4.0                0             0          0  \n",
              "5.0                0             1          0  \n",
              "6.0                0             0          0  \n",
              "7.0                1             0          0  "
            ]
          },
          "execution_count": 29,
          "metadata": {},
          "output_type": "execute_result"
        }
      ],
      "source": [
        "brand_dummies=pd.get_dummies(df.brand, prefix='brand', prefix_sep='_', dtype=int)\n",
        "brand_dummies.head()"
      ]
    },
    {
      "cell_type": "code",
      "execution_count": null,
      "metadata": {
        "colab": {
          "base_uri": "https://localhost:8080/",
          "height": 565
        },
        "id": "nbjzlat4CbJF",
        "outputId": "d9390a66-adbf-48b3-f168-5220a037022c"
      },
      "outputs": [
        {
          "data": {
            "text/html": [
              "<div>\n",
              "<style scoped>\n",
              "    .dataframe tbody tr th:only-of-type {\n",
              "        vertical-align: middle;\n",
              "    }\n",
              "\n",
              "    .dataframe tbody tr th {\n",
              "        vertical-align: top;\n",
              "    }\n",
              "\n",
              "    .dataframe thead th {\n",
              "        text-align: right;\n",
              "    }\n",
              "</style>\n",
              "<table border=\"1\" class=\"dataframe\">\n",
              "  <thead>\n",
              "    <tr style=\"text-align: right;\">\n",
              "      <th></th>\n",
              "      <th>brand</th>\n",
              "      <th>Model</th>\n",
              "      <th>Price</th>\n",
              "      <th>Rating</th>\n",
              "      <th>processor_brand</th>\n",
              "      <th>processor_tier</th>\n",
              "      <th>num_cores</th>\n",
              "      <th>num_threads</th>\n",
              "      <th>ram_memory</th>\n",
              "      <th>primary_storage_type</th>\n",
              "      <th>...</th>\n",
              "      <th>OS</th>\n",
              "      <th>year_of_warranty</th>\n",
              "      <th>brand_acer</th>\n",
              "      <th>brand_apple</th>\n",
              "      <th>brand_asus</th>\n",
              "      <th>brand_dell</th>\n",
              "      <th>brand_hp</th>\n",
              "      <th>brand_infinix</th>\n",
              "      <th>brand_lenovo</th>\n",
              "      <th>brand_msi</th>\n",
              "    </tr>\n",
              "    <tr>\n",
              "      <th>index</th>\n",
              "      <th></th>\n",
              "      <th></th>\n",
              "      <th></th>\n",
              "      <th></th>\n",
              "      <th></th>\n",
              "      <th></th>\n",
              "      <th></th>\n",
              "      <th></th>\n",
              "      <th></th>\n",
              "      <th></th>\n",
              "      <th></th>\n",
              "      <th></th>\n",
              "      <th></th>\n",
              "      <th></th>\n",
              "      <th></th>\n",
              "      <th></th>\n",
              "      <th></th>\n",
              "      <th></th>\n",
              "      <th></th>\n",
              "      <th></th>\n",
              "      <th></th>\n",
              "    </tr>\n",
              "  </thead>\n",
              "  <tbody>\n",
              "    <tr>\n",
              "      <th>3.0</th>\n",
              "      <td>hp</td>\n",
              "      <td>HP Victus 15-fb0157AX Gaming Laptop (AMD Ryzen...</td>\n",
              "      <td>51100.0</td>\n",
              "      <td>73.0</td>\n",
              "      <td>amd</td>\n",
              "      <td>ryzen 5</td>\n",
              "      <td>6.0</td>\n",
              "      <td>12.0</td>\n",
              "      <td>8.0</td>\n",
              "      <td>SSD</td>\n",
              "      <td>...</td>\n",
              "      <td>windows</td>\n",
              "      <td>1</td>\n",
              "      <td>0</td>\n",
              "      <td>0</td>\n",
              "      <td>0</td>\n",
              "      <td>0</td>\n",
              "      <td>1</td>\n",
              "      <td>0</td>\n",
              "      <td>0</td>\n",
              "      <td>0</td>\n",
              "    </tr>\n",
              "    <tr>\n",
              "      <th>4.0</th>\n",
              "      <td>acer</td>\n",
              "      <td>Acer Extensa EX214-53 Laptop (12th Gen Core i5...</td>\n",
              "      <td>39990.0</td>\n",
              "      <td>62.0</td>\n",
              "      <td>intel</td>\n",
              "      <td>core i5</td>\n",
              "      <td>12.0</td>\n",
              "      <td>NaN</td>\n",
              "      <td>8.0</td>\n",
              "      <td>SSD</td>\n",
              "      <td>...</td>\n",
              "      <td>windows</td>\n",
              "      <td>1</td>\n",
              "      <td>1</td>\n",
              "      <td>0</td>\n",
              "      <td>0</td>\n",
              "      <td>0</td>\n",
              "      <td>0</td>\n",
              "      <td>0</td>\n",
              "      <td>0</td>\n",
              "      <td>0</td>\n",
              "    </tr>\n",
              "    <tr>\n",
              "      <th>5.0</th>\n",
              "      <td>lenovo</td>\n",
              "      <td>Lenovo V15 82KDA01BIH Laptop (AMD Ryzen 3 5300...</td>\n",
              "      <td>28580.0</td>\n",
              "      <td>62.0</td>\n",
              "      <td>amd</td>\n",
              "      <td>ryzen 3</td>\n",
              "      <td>4.0</td>\n",
              "      <td>8.0</td>\n",
              "      <td>8.0</td>\n",
              "      <td>SSD</td>\n",
              "      <td>...</td>\n",
              "      <td>windows</td>\n",
              "      <td>1</td>\n",
              "      <td>0</td>\n",
              "      <td>0</td>\n",
              "      <td>0</td>\n",
              "      <td>0</td>\n",
              "      <td>0</td>\n",
              "      <td>0</td>\n",
              "      <td>1</td>\n",
              "      <td>0</td>\n",
              "    </tr>\n",
              "    <tr>\n",
              "      <th>6.0</th>\n",
              "      <td>apple</td>\n",
              "      <td>NaN</td>\n",
              "      <td>70990.0</td>\n",
              "      <td>NaN</td>\n",
              "      <td>apple</td>\n",
              "      <td>m1</td>\n",
              "      <td>8.0</td>\n",
              "      <td>8.0</td>\n",
              "      <td>8.0</td>\n",
              "      <td>SSD</td>\n",
              "      <td>...</td>\n",
              "      <td>mac</td>\n",
              "      <td>1</td>\n",
              "      <td>0</td>\n",
              "      <td>1</td>\n",
              "      <td>0</td>\n",
              "      <td>0</td>\n",
              "      <td>0</td>\n",
              "      <td>0</td>\n",
              "      <td>0</td>\n",
              "      <td>0</td>\n",
              "    </tr>\n",
              "    <tr>\n",
              "      <th>7.0</th>\n",
              "      <td>infinix</td>\n",
              "      <td>Infinix INBook Y2 Plus Laptop (11th Gen Core i...</td>\n",
              "      <td>34990.0</td>\n",
              "      <td>56.0</td>\n",
              "      <td>intel</td>\n",
              "      <td>core i5</td>\n",
              "      <td>4.0</td>\n",
              "      <td>8.0</td>\n",
              "      <td>16.0</td>\n",
              "      <td>SSD</td>\n",
              "      <td>...</td>\n",
              "      <td>windows</td>\n",
              "      <td>1</td>\n",
              "      <td>0</td>\n",
              "      <td>0</td>\n",
              "      <td>0</td>\n",
              "      <td>0</td>\n",
              "      <td>0</td>\n",
              "      <td>1</td>\n",
              "      <td>0</td>\n",
              "      <td>0</td>\n",
              "    </tr>\n",
              "  </tbody>\n",
              "</table>\n",
              "<p>5 rows × 29 columns</p>\n",
              "</div>"
            ],
            "text/plain": [
              "         brand                                              Model    Price  \\\n",
              "index                                                                        \n",
              "3.0         hp  HP Victus 15-fb0157AX Gaming Laptop (AMD Ryzen...  51100.0   \n",
              "4.0       acer  Acer Extensa EX214-53 Laptop (12th Gen Core i5...  39990.0   \n",
              "5.0     lenovo  Lenovo V15 82KDA01BIH Laptop (AMD Ryzen 3 5300...  28580.0   \n",
              "6.0      apple                                                NaN  70990.0   \n",
              "7.0    infinix  Infinix INBook Y2 Plus Laptop (11th Gen Core i...  34990.0   \n",
              "\n",
              "       Rating processor_brand processor_tier  num_cores  num_threads  \\\n",
              "index                                                                  \n",
              "3.0      73.0             amd        ryzen 5        6.0         12.0   \n",
              "4.0      62.0           intel        core i5       12.0          NaN   \n",
              "5.0      62.0             amd        ryzen 3        4.0          8.0   \n",
              "6.0       NaN           apple             m1        8.0          8.0   \n",
              "7.0      56.0           intel        core i5        4.0          8.0   \n",
              "\n",
              "       ram_memory primary_storage_type  ...       OS year_of_warranty  \\\n",
              "index                                   ...                             \n",
              "3.0           8.0                  SSD  ...  windows                1   \n",
              "4.0           8.0                  SSD  ...  windows                1   \n",
              "5.0           8.0                  SSD  ...  windows                1   \n",
              "6.0           8.0                  SSD  ...      mac                1   \n",
              "7.0          16.0                  SSD  ...  windows                1   \n",
              "\n",
              "       brand_acer brand_apple brand_asus brand_dell  brand_hp  brand_infinix  \\\n",
              "index                                                                          \n",
              "3.0             0           0          0          0         1              0   \n",
              "4.0             1           0          0          0         0              0   \n",
              "5.0             0           0          0          0         0              0   \n",
              "6.0             0           1          0          0         0              0   \n",
              "7.0             0           0          0          0         0              1   \n",
              "\n",
              "       brand_lenovo brand_msi  \n",
              "index                          \n",
              "3.0               0         0  \n",
              "4.0               0         0  \n",
              "5.0               1         0  \n",
              "6.0               0         0  \n",
              "7.0               0         0  \n",
              "\n",
              "[5 rows x 29 columns]"
            ]
          },
          "execution_count": 30,
          "metadata": {},
          "output_type": "execute_result"
        }
      ],
      "source": [
        "df = pd.concat([df, brand_dummies], axis=1)\n",
        "df.head()"
      ]
    },
    {
      "cell_type": "code",
      "execution_count": null,
      "metadata": {
        "colab": {
          "base_uri": "https://localhost:8080/",
          "height": 490
        },
        "id": "E6-mMkgP4OBG",
        "outputId": "13973f30-a885-4f12-a83b-6d6e380201de"
      },
      "outputs": [
        {
          "data": {
            "text/plain": [
              "Model\n",
              "HP Victus 15-fb0157AX Gaming Laptop (AMD Ryzen 5 5600H/ 8GB/ 512GB SSD/ Win11/ 4GB Graph)                      1\n",
              "Lenovo IdeaPad Gaming 3 82K2025LIN Laptop (AMD Ryzen 5 5600H/ 16GB/ 512GB SSD/ Win11 Home/ 4GB Graph)          1\n",
              "HP Pavilion Plus 14-eh1022TU Laptop (13th Gen Core i5/ 16GB/ 512GB SSD/ Win 11)                                1\n",
              "Acer Aspire Lite AL15-51 UN.431SI.252 Laptop (11th Gen Core i3/ 8GB/ 512GB SSD/ Win11)                         1\n",
              "Lenovo IdeaPad Gaming 3 15ACH6 82K2025JIN Laptop (AMD Ryzen 5 5600H/ 8GB/ 512GB SSD/ Win11 Home/ 4GB Graph)    1\n",
              "                                                                                                              ..\n",
              "Acer Aspire Lite AL15-41 Laptop (AMD Ryzen 5 5500U/ 16GB/ 1TB SSD/ Win11)                                      1\n",
              "Lenovo IdeaPad Gaming 3 82K101LJIN Laptop (11th Gen Core i5/ 16GB/ 512GB SSD/ Win11 Home/ 4GB Graph)           1\n",
              "HP Omen 16-XD0007ax Gaming Laptop (AMD Ryzen 7 7840HS/ 16GB/ 1TB SSD/ Win11/ 6GB Graph)                        1\n",
              "Asus Vivobook Pro 15 OLED M6500QC-LK751WS Laptop (Ryzen 7 5800HS/ 16GB/ 1TB SSD/ Win11/ 4GB Graph)             1\n",
              "HP Chromebook 15a-na0008TU Laptop (Intel Celeron N4500/ 4GB/ 128GB eMMC/ Chrome OS)                            1\n",
              "Name: count, Length: 799, dtype: int64"
            ]
          },
          "execution_count": 31,
          "metadata": {},
          "output_type": "execute_result"
        }
      ],
      "source": [
        "df['Model'].value_counts() # не подходит"
      ]
    },
    {
      "cell_type": "code",
      "execution_count": null,
      "metadata": {
        "colab": {
          "base_uri": "https://localhost:8080/",
          "height": 241
        },
        "id": "vNH-P2hB2Jo1",
        "outputId": "196fa550-5c2b-40c4-e67f-d11be1da0a77"
      },
      "outputs": [
        {
          "data": {
            "text/plain": [
              "processor_brand\n",
              "intel    552\n",
              "amd      218\n",
              "apple     13\n",
              "other      1\n",
              "Name: count, dtype: int64"
            ]
          },
          "execution_count": 32,
          "metadata": {},
          "output_type": "execute_result"
        }
      ],
      "source": [
        "df['processor_brand'].value_counts()"
      ]
    },
    {
      "cell_type": "code",
      "execution_count": null,
      "metadata": {
        "colab": {
          "base_uri": "https://localhost:8080/",
          "height": 210
        },
        "id": "w6atVxhS5APZ",
        "outputId": "cb23e08b-bd04-4be7-c619-c0e02dac9fc3"
      },
      "outputs": [
        {
          "data": {
            "text/plain": [
              "processor_brand\n",
              "intel    552\n",
              "amd      218\n",
              "apple     13\n",
              "Name: count, dtype: int64"
            ]
          },
          "execution_count": 33,
          "metadata": {},
          "output_type": "execute_result"
        }
      ],
      "source": [
        "df = df[df['processor_brand'] != 'other']\n",
        "df['processor_brand'].value_counts()"
      ]
    },
    {
      "cell_type": "code",
      "execution_count": null,
      "metadata": {
        "colab": {
          "base_uri": "https://localhost:8080/",
          "height": 238
        },
        "id": "XfB9CF5KDLWt",
        "outputId": "7600b432-a606-4470-e803-43eb2ac09b8c"
      },
      "outputs": [
        {
          "data": {
            "text/html": [
              "<div>\n",
              "<style scoped>\n",
              "    .dataframe tbody tr th:only-of-type {\n",
              "        vertical-align: middle;\n",
              "    }\n",
              "\n",
              "    .dataframe tbody tr th {\n",
              "        vertical-align: top;\n",
              "    }\n",
              "\n",
              "    .dataframe thead th {\n",
              "        text-align: right;\n",
              "    }\n",
              "</style>\n",
              "<table border=\"1\" class=\"dataframe\">\n",
              "  <thead>\n",
              "    <tr style=\"text-align: right;\">\n",
              "      <th></th>\n",
              "      <th>processor_brand_amd</th>\n",
              "      <th>processor_brand_apple</th>\n",
              "      <th>processor_brand_intel</th>\n",
              "    </tr>\n",
              "    <tr>\n",
              "      <th>index</th>\n",
              "      <th></th>\n",
              "      <th></th>\n",
              "      <th></th>\n",
              "    </tr>\n",
              "  </thead>\n",
              "  <tbody>\n",
              "    <tr>\n",
              "      <th>3.0</th>\n",
              "      <td>1</td>\n",
              "      <td>0</td>\n",
              "      <td>0</td>\n",
              "    </tr>\n",
              "    <tr>\n",
              "      <th>4.0</th>\n",
              "      <td>0</td>\n",
              "      <td>0</td>\n",
              "      <td>1</td>\n",
              "    </tr>\n",
              "    <tr>\n",
              "      <th>5.0</th>\n",
              "      <td>1</td>\n",
              "      <td>0</td>\n",
              "      <td>0</td>\n",
              "    </tr>\n",
              "    <tr>\n",
              "      <th>6.0</th>\n",
              "      <td>0</td>\n",
              "      <td>1</td>\n",
              "      <td>0</td>\n",
              "    </tr>\n",
              "    <tr>\n",
              "      <th>7.0</th>\n",
              "      <td>0</td>\n",
              "      <td>0</td>\n",
              "      <td>1</td>\n",
              "    </tr>\n",
              "  </tbody>\n",
              "</table>\n",
              "</div>"
            ],
            "text/plain": [
              "       processor_brand_amd  processor_brand_apple  processor_brand_intel\n",
              "index                                                                   \n",
              "3.0                      1                      0                      0\n",
              "4.0                      0                      0                      1\n",
              "5.0                      1                      0                      0\n",
              "6.0                      0                      1                      0\n",
              "7.0                      0                      0                      1"
            ]
          },
          "execution_count": 34,
          "metadata": {},
          "output_type": "execute_result"
        }
      ],
      "source": [
        "processor_brand_dummies=pd.get_dummies(df.processor_brand, prefix='processor_brand', prefix_sep='_', dtype=int)\n",
        "processor_brand_dummies.head()"
      ]
    },
    {
      "cell_type": "code",
      "execution_count": null,
      "metadata": {
        "colab": {
          "base_uri": "https://localhost:8080/",
          "height": 565
        },
        "id": "-dESvt-GDFZT",
        "outputId": "3c2606c8-5af8-474e-da7f-eac9dfbeb2dc"
      },
      "outputs": [
        {
          "data": {
            "text/html": [
              "<div>\n",
              "<style scoped>\n",
              "    .dataframe tbody tr th:only-of-type {\n",
              "        vertical-align: middle;\n",
              "    }\n",
              "\n",
              "    .dataframe tbody tr th {\n",
              "        vertical-align: top;\n",
              "    }\n",
              "\n",
              "    .dataframe thead th {\n",
              "        text-align: right;\n",
              "    }\n",
              "</style>\n",
              "<table border=\"1\" class=\"dataframe\">\n",
              "  <thead>\n",
              "    <tr style=\"text-align: right;\">\n",
              "      <th></th>\n",
              "      <th>brand</th>\n",
              "      <th>Model</th>\n",
              "      <th>Price</th>\n",
              "      <th>Rating</th>\n",
              "      <th>processor_brand</th>\n",
              "      <th>processor_tier</th>\n",
              "      <th>num_cores</th>\n",
              "      <th>num_threads</th>\n",
              "      <th>ram_memory</th>\n",
              "      <th>primary_storage_type</th>\n",
              "      <th>...</th>\n",
              "      <th>brand_apple</th>\n",
              "      <th>brand_asus</th>\n",
              "      <th>brand_dell</th>\n",
              "      <th>brand_hp</th>\n",
              "      <th>brand_infinix</th>\n",
              "      <th>brand_lenovo</th>\n",
              "      <th>brand_msi</th>\n",
              "      <th>processor_brand_amd</th>\n",
              "      <th>processor_brand_apple</th>\n",
              "      <th>processor_brand_intel</th>\n",
              "    </tr>\n",
              "    <tr>\n",
              "      <th>index</th>\n",
              "      <th></th>\n",
              "      <th></th>\n",
              "      <th></th>\n",
              "      <th></th>\n",
              "      <th></th>\n",
              "      <th></th>\n",
              "      <th></th>\n",
              "      <th></th>\n",
              "      <th></th>\n",
              "      <th></th>\n",
              "      <th></th>\n",
              "      <th></th>\n",
              "      <th></th>\n",
              "      <th></th>\n",
              "      <th></th>\n",
              "      <th></th>\n",
              "      <th></th>\n",
              "      <th></th>\n",
              "      <th></th>\n",
              "      <th></th>\n",
              "      <th></th>\n",
              "    </tr>\n",
              "  </thead>\n",
              "  <tbody>\n",
              "    <tr>\n",
              "      <th>3.0</th>\n",
              "      <td>hp</td>\n",
              "      <td>HP Victus 15-fb0157AX Gaming Laptop (AMD Ryzen...</td>\n",
              "      <td>51100.0</td>\n",
              "      <td>73.0</td>\n",
              "      <td>amd</td>\n",
              "      <td>ryzen 5</td>\n",
              "      <td>6.0</td>\n",
              "      <td>12.0</td>\n",
              "      <td>8.0</td>\n",
              "      <td>SSD</td>\n",
              "      <td>...</td>\n",
              "      <td>0</td>\n",
              "      <td>0</td>\n",
              "      <td>0</td>\n",
              "      <td>1</td>\n",
              "      <td>0</td>\n",
              "      <td>0</td>\n",
              "      <td>0</td>\n",
              "      <td>1</td>\n",
              "      <td>0</td>\n",
              "      <td>0</td>\n",
              "    </tr>\n",
              "    <tr>\n",
              "      <th>4.0</th>\n",
              "      <td>acer</td>\n",
              "      <td>Acer Extensa EX214-53 Laptop (12th Gen Core i5...</td>\n",
              "      <td>39990.0</td>\n",
              "      <td>62.0</td>\n",
              "      <td>intel</td>\n",
              "      <td>core i5</td>\n",
              "      <td>12.0</td>\n",
              "      <td>NaN</td>\n",
              "      <td>8.0</td>\n",
              "      <td>SSD</td>\n",
              "      <td>...</td>\n",
              "      <td>0</td>\n",
              "      <td>0</td>\n",
              "      <td>0</td>\n",
              "      <td>0</td>\n",
              "      <td>0</td>\n",
              "      <td>0</td>\n",
              "      <td>0</td>\n",
              "      <td>0</td>\n",
              "      <td>0</td>\n",
              "      <td>1</td>\n",
              "    </tr>\n",
              "    <tr>\n",
              "      <th>5.0</th>\n",
              "      <td>lenovo</td>\n",
              "      <td>Lenovo V15 82KDA01BIH Laptop (AMD Ryzen 3 5300...</td>\n",
              "      <td>28580.0</td>\n",
              "      <td>62.0</td>\n",
              "      <td>amd</td>\n",
              "      <td>ryzen 3</td>\n",
              "      <td>4.0</td>\n",
              "      <td>8.0</td>\n",
              "      <td>8.0</td>\n",
              "      <td>SSD</td>\n",
              "      <td>...</td>\n",
              "      <td>0</td>\n",
              "      <td>0</td>\n",
              "      <td>0</td>\n",
              "      <td>0</td>\n",
              "      <td>0</td>\n",
              "      <td>1</td>\n",
              "      <td>0</td>\n",
              "      <td>1</td>\n",
              "      <td>0</td>\n",
              "      <td>0</td>\n",
              "    </tr>\n",
              "    <tr>\n",
              "      <th>6.0</th>\n",
              "      <td>apple</td>\n",
              "      <td>NaN</td>\n",
              "      <td>70990.0</td>\n",
              "      <td>NaN</td>\n",
              "      <td>apple</td>\n",
              "      <td>m1</td>\n",
              "      <td>8.0</td>\n",
              "      <td>8.0</td>\n",
              "      <td>8.0</td>\n",
              "      <td>SSD</td>\n",
              "      <td>...</td>\n",
              "      <td>1</td>\n",
              "      <td>0</td>\n",
              "      <td>0</td>\n",
              "      <td>0</td>\n",
              "      <td>0</td>\n",
              "      <td>0</td>\n",
              "      <td>0</td>\n",
              "      <td>0</td>\n",
              "      <td>1</td>\n",
              "      <td>0</td>\n",
              "    </tr>\n",
              "    <tr>\n",
              "      <th>7.0</th>\n",
              "      <td>infinix</td>\n",
              "      <td>Infinix INBook Y2 Plus Laptop (11th Gen Core i...</td>\n",
              "      <td>34990.0</td>\n",
              "      <td>56.0</td>\n",
              "      <td>intel</td>\n",
              "      <td>core i5</td>\n",
              "      <td>4.0</td>\n",
              "      <td>8.0</td>\n",
              "      <td>16.0</td>\n",
              "      <td>SSD</td>\n",
              "      <td>...</td>\n",
              "      <td>0</td>\n",
              "      <td>0</td>\n",
              "      <td>0</td>\n",
              "      <td>0</td>\n",
              "      <td>1</td>\n",
              "      <td>0</td>\n",
              "      <td>0</td>\n",
              "      <td>0</td>\n",
              "      <td>0</td>\n",
              "      <td>1</td>\n",
              "    </tr>\n",
              "  </tbody>\n",
              "</table>\n",
              "<p>5 rows × 32 columns</p>\n",
              "</div>"
            ],
            "text/plain": [
              "         brand                                              Model    Price  \\\n",
              "index                                                                        \n",
              "3.0         hp  HP Victus 15-fb0157AX Gaming Laptop (AMD Ryzen...  51100.0   \n",
              "4.0       acer  Acer Extensa EX214-53 Laptop (12th Gen Core i5...  39990.0   \n",
              "5.0     lenovo  Lenovo V15 82KDA01BIH Laptop (AMD Ryzen 3 5300...  28580.0   \n",
              "6.0      apple                                                NaN  70990.0   \n",
              "7.0    infinix  Infinix INBook Y2 Plus Laptop (11th Gen Core i...  34990.0   \n",
              "\n",
              "       Rating processor_brand processor_tier  num_cores  num_threads  \\\n",
              "index                                                                  \n",
              "3.0      73.0             amd        ryzen 5        6.0         12.0   \n",
              "4.0      62.0           intel        core i5       12.0          NaN   \n",
              "5.0      62.0             amd        ryzen 3        4.0          8.0   \n",
              "6.0       NaN           apple             m1        8.0          8.0   \n",
              "7.0      56.0           intel        core i5        4.0          8.0   \n",
              "\n",
              "       ram_memory primary_storage_type  ...  brand_apple brand_asus  \\\n",
              "index                                   ...                           \n",
              "3.0           8.0                  SSD  ...            0          0   \n",
              "4.0           8.0                  SSD  ...            0          0   \n",
              "5.0           8.0                  SSD  ...            0          0   \n",
              "6.0           8.0                  SSD  ...            1          0   \n",
              "7.0          16.0                  SSD  ...            0          0   \n",
              "\n",
              "       brand_dell brand_hp brand_infinix brand_lenovo  brand_msi  \\\n",
              "index                                                              \n",
              "3.0             0        1             0            0          0   \n",
              "4.0             0        0             0            0          0   \n",
              "5.0             0        0             0            1          0   \n",
              "6.0             0        0             0            0          0   \n",
              "7.0             0        0             1            0          0   \n",
              "\n",
              "       processor_brand_amd  processor_brand_apple processor_brand_intel  \n",
              "index                                                                    \n",
              "3.0                      1                      0                     0  \n",
              "4.0                      0                      0                     1  \n",
              "5.0                      1                      0                     0  \n",
              "6.0                      0                      1                     0  \n",
              "7.0                      0                      0                     1  \n",
              "\n",
              "[5 rows x 32 columns]"
            ]
          },
          "execution_count": 35,
          "metadata": {},
          "output_type": "execute_result"
        }
      ],
      "source": [
        "df = pd.concat([df, processor_brand_dummies], axis=1)\n",
        "df.head()"
      ]
    },
    {
      "cell_type": "code",
      "execution_count": null,
      "metadata": {
        "colab": {
          "base_uri": "https://localhost:8080/",
          "height": 241
        },
        "id": "TYqwpgMX3HEH",
        "outputId": "13e3f83f-fa10-46c2-bfa4-f2af479f9243"
      },
      "outputs": [
        {
          "data": {
            "text/plain": [
              "OS\n",
              "windows    747\n",
              "dos         30\n",
              "mac         14\n",
              "chrome      14\n",
              "Name: count, dtype: int64"
            ]
          },
          "execution_count": 36,
          "metadata": {},
          "output_type": "execute_result"
        }
      ],
      "source": [
        "df['OS'].value_counts()"
      ]
    },
    {
      "cell_type": "code",
      "execution_count": null,
      "metadata": {
        "colab": {
          "base_uri": "https://localhost:8080/",
          "height": 241
        },
        "id": "aOX34NFx8LX1",
        "outputId": "01ef5481-5d1f-4f00-ddfc-aa20e15493ae"
      },
      "outputs": [
        {
          "data": {
            "text/plain": [
              "OS\n",
              "windows    747\n",
              "dos         30\n",
              "mac         14\n",
              "chrome      14\n",
              "Name: count, dtype: int64"
            ]
          },
          "execution_count": 37,
          "metadata": {},
          "output_type": "execute_result"
        }
      ],
      "source": [
        "df = df[df['OS'] != 'other']\n",
        "df['OS'].value_counts()"
      ]
    },
    {
      "cell_type": "code",
      "execution_count": null,
      "metadata": {
        "colab": {
          "base_uri": "https://localhost:8080/",
          "height": 238
        },
        "id": "yVdzHd39PfJt",
        "outputId": "746a7d01-8f35-4ace-d0c4-cb45040fb605"
      },
      "outputs": [
        {
          "data": {
            "text/html": [
              "<div>\n",
              "<style scoped>\n",
              "    .dataframe tbody tr th:only-of-type {\n",
              "        vertical-align: middle;\n",
              "    }\n",
              "\n",
              "    .dataframe tbody tr th {\n",
              "        vertical-align: top;\n",
              "    }\n",
              "\n",
              "    .dataframe thead th {\n",
              "        text-align: right;\n",
              "    }\n",
              "</style>\n",
              "<table border=\"1\" class=\"dataframe\">\n",
              "  <thead>\n",
              "    <tr style=\"text-align: right;\">\n",
              "      <th></th>\n",
              "      <th>OS_chrome</th>\n",
              "      <th>OS_dos</th>\n",
              "      <th>OS_mac</th>\n",
              "      <th>OS_windows</th>\n",
              "    </tr>\n",
              "    <tr>\n",
              "      <th>index</th>\n",
              "      <th></th>\n",
              "      <th></th>\n",
              "      <th></th>\n",
              "      <th></th>\n",
              "    </tr>\n",
              "  </thead>\n",
              "  <tbody>\n",
              "    <tr>\n",
              "      <th>3.0</th>\n",
              "      <td>0</td>\n",
              "      <td>0</td>\n",
              "      <td>0</td>\n",
              "      <td>1</td>\n",
              "    </tr>\n",
              "    <tr>\n",
              "      <th>4.0</th>\n",
              "      <td>0</td>\n",
              "      <td>0</td>\n",
              "      <td>0</td>\n",
              "      <td>1</td>\n",
              "    </tr>\n",
              "    <tr>\n",
              "      <th>5.0</th>\n",
              "      <td>0</td>\n",
              "      <td>0</td>\n",
              "      <td>0</td>\n",
              "      <td>1</td>\n",
              "    </tr>\n",
              "    <tr>\n",
              "      <th>6.0</th>\n",
              "      <td>0</td>\n",
              "      <td>0</td>\n",
              "      <td>1</td>\n",
              "      <td>0</td>\n",
              "    </tr>\n",
              "    <tr>\n",
              "      <th>7.0</th>\n",
              "      <td>0</td>\n",
              "      <td>0</td>\n",
              "      <td>0</td>\n",
              "      <td>1</td>\n",
              "    </tr>\n",
              "  </tbody>\n",
              "</table>\n",
              "</div>"
            ],
            "text/plain": [
              "       OS_chrome  OS_dos  OS_mac  OS_windows\n",
              "index                                       \n",
              "3.0            0       0       0           1\n",
              "4.0            0       0       0           1\n",
              "5.0            0       0       0           1\n",
              "6.0            0       0       1           0\n",
              "7.0            0       0       0           1"
            ]
          },
          "execution_count": 38,
          "metadata": {},
          "output_type": "execute_result"
        }
      ],
      "source": [
        "OS_dummies=pd.get_dummies(df.OS, prefix='OS', prefix_sep='_', dtype=int)\n",
        "OS_dummies.head()"
      ]
    },
    {
      "cell_type": "code",
      "execution_count": null,
      "metadata": {
        "colab": {
          "base_uri": "https://localhost:8080/",
          "height": 565
        },
        "id": "Xx4VzZ_MPyeH",
        "outputId": "918318ab-bdd3-4fc0-af28-1dc91bbd9758"
      },
      "outputs": [
        {
          "data": {
            "text/html": [
              "<div>\n",
              "<style scoped>\n",
              "    .dataframe tbody tr th:only-of-type {\n",
              "        vertical-align: middle;\n",
              "    }\n",
              "\n",
              "    .dataframe tbody tr th {\n",
              "        vertical-align: top;\n",
              "    }\n",
              "\n",
              "    .dataframe thead th {\n",
              "        text-align: right;\n",
              "    }\n",
              "</style>\n",
              "<table border=\"1\" class=\"dataframe\">\n",
              "  <thead>\n",
              "    <tr style=\"text-align: right;\">\n",
              "      <th></th>\n",
              "      <th>brand</th>\n",
              "      <th>Model</th>\n",
              "      <th>Price</th>\n",
              "      <th>Rating</th>\n",
              "      <th>processor_brand</th>\n",
              "      <th>processor_tier</th>\n",
              "      <th>num_cores</th>\n",
              "      <th>num_threads</th>\n",
              "      <th>ram_memory</th>\n",
              "      <th>primary_storage_type</th>\n",
              "      <th>...</th>\n",
              "      <th>brand_infinix</th>\n",
              "      <th>brand_lenovo</th>\n",
              "      <th>brand_msi</th>\n",
              "      <th>processor_brand_amd</th>\n",
              "      <th>processor_brand_apple</th>\n",
              "      <th>processor_brand_intel</th>\n",
              "      <th>OS_chrome</th>\n",
              "      <th>OS_dos</th>\n",
              "      <th>OS_mac</th>\n",
              "      <th>OS_windows</th>\n",
              "    </tr>\n",
              "    <tr>\n",
              "      <th>index</th>\n",
              "      <th></th>\n",
              "      <th></th>\n",
              "      <th></th>\n",
              "      <th></th>\n",
              "      <th></th>\n",
              "      <th></th>\n",
              "      <th></th>\n",
              "      <th></th>\n",
              "      <th></th>\n",
              "      <th></th>\n",
              "      <th></th>\n",
              "      <th></th>\n",
              "      <th></th>\n",
              "      <th></th>\n",
              "      <th></th>\n",
              "      <th></th>\n",
              "      <th></th>\n",
              "      <th></th>\n",
              "      <th></th>\n",
              "      <th></th>\n",
              "      <th></th>\n",
              "    </tr>\n",
              "  </thead>\n",
              "  <tbody>\n",
              "    <tr>\n",
              "      <th>3.0</th>\n",
              "      <td>hp</td>\n",
              "      <td>HP Victus 15-fb0157AX Gaming Laptop (AMD Ryzen...</td>\n",
              "      <td>51100.0</td>\n",
              "      <td>73.0</td>\n",
              "      <td>amd</td>\n",
              "      <td>ryzen 5</td>\n",
              "      <td>6.0</td>\n",
              "      <td>12.0</td>\n",
              "      <td>8.0</td>\n",
              "      <td>SSD</td>\n",
              "      <td>...</td>\n",
              "      <td>0</td>\n",
              "      <td>0</td>\n",
              "      <td>0</td>\n",
              "      <td>1</td>\n",
              "      <td>0</td>\n",
              "      <td>0</td>\n",
              "      <td>0</td>\n",
              "      <td>0</td>\n",
              "      <td>0</td>\n",
              "      <td>1</td>\n",
              "    </tr>\n",
              "    <tr>\n",
              "      <th>4.0</th>\n",
              "      <td>acer</td>\n",
              "      <td>Acer Extensa EX214-53 Laptop (12th Gen Core i5...</td>\n",
              "      <td>39990.0</td>\n",
              "      <td>62.0</td>\n",
              "      <td>intel</td>\n",
              "      <td>core i5</td>\n",
              "      <td>12.0</td>\n",
              "      <td>NaN</td>\n",
              "      <td>8.0</td>\n",
              "      <td>SSD</td>\n",
              "      <td>...</td>\n",
              "      <td>0</td>\n",
              "      <td>0</td>\n",
              "      <td>0</td>\n",
              "      <td>0</td>\n",
              "      <td>0</td>\n",
              "      <td>1</td>\n",
              "      <td>0</td>\n",
              "      <td>0</td>\n",
              "      <td>0</td>\n",
              "      <td>1</td>\n",
              "    </tr>\n",
              "    <tr>\n",
              "      <th>5.0</th>\n",
              "      <td>lenovo</td>\n",
              "      <td>Lenovo V15 82KDA01BIH Laptop (AMD Ryzen 3 5300...</td>\n",
              "      <td>28580.0</td>\n",
              "      <td>62.0</td>\n",
              "      <td>amd</td>\n",
              "      <td>ryzen 3</td>\n",
              "      <td>4.0</td>\n",
              "      <td>8.0</td>\n",
              "      <td>8.0</td>\n",
              "      <td>SSD</td>\n",
              "      <td>...</td>\n",
              "      <td>0</td>\n",
              "      <td>1</td>\n",
              "      <td>0</td>\n",
              "      <td>1</td>\n",
              "      <td>0</td>\n",
              "      <td>0</td>\n",
              "      <td>0</td>\n",
              "      <td>0</td>\n",
              "      <td>0</td>\n",
              "      <td>1</td>\n",
              "    </tr>\n",
              "    <tr>\n",
              "      <th>6.0</th>\n",
              "      <td>apple</td>\n",
              "      <td>NaN</td>\n",
              "      <td>70990.0</td>\n",
              "      <td>NaN</td>\n",
              "      <td>apple</td>\n",
              "      <td>m1</td>\n",
              "      <td>8.0</td>\n",
              "      <td>8.0</td>\n",
              "      <td>8.0</td>\n",
              "      <td>SSD</td>\n",
              "      <td>...</td>\n",
              "      <td>0</td>\n",
              "      <td>0</td>\n",
              "      <td>0</td>\n",
              "      <td>0</td>\n",
              "      <td>1</td>\n",
              "      <td>0</td>\n",
              "      <td>0</td>\n",
              "      <td>0</td>\n",
              "      <td>1</td>\n",
              "      <td>0</td>\n",
              "    </tr>\n",
              "    <tr>\n",
              "      <th>7.0</th>\n",
              "      <td>infinix</td>\n",
              "      <td>Infinix INBook Y2 Plus Laptop (11th Gen Core i...</td>\n",
              "      <td>34990.0</td>\n",
              "      <td>56.0</td>\n",
              "      <td>intel</td>\n",
              "      <td>core i5</td>\n",
              "      <td>4.0</td>\n",
              "      <td>8.0</td>\n",
              "      <td>16.0</td>\n",
              "      <td>SSD</td>\n",
              "      <td>...</td>\n",
              "      <td>1</td>\n",
              "      <td>0</td>\n",
              "      <td>0</td>\n",
              "      <td>0</td>\n",
              "      <td>0</td>\n",
              "      <td>1</td>\n",
              "      <td>0</td>\n",
              "      <td>0</td>\n",
              "      <td>0</td>\n",
              "      <td>1</td>\n",
              "    </tr>\n",
              "  </tbody>\n",
              "</table>\n",
              "<p>5 rows × 36 columns</p>\n",
              "</div>"
            ],
            "text/plain": [
              "         brand                                              Model    Price  \\\n",
              "index                                                                        \n",
              "3.0         hp  HP Victus 15-fb0157AX Gaming Laptop (AMD Ryzen...  51100.0   \n",
              "4.0       acer  Acer Extensa EX214-53 Laptop (12th Gen Core i5...  39990.0   \n",
              "5.0     lenovo  Lenovo V15 82KDA01BIH Laptop (AMD Ryzen 3 5300...  28580.0   \n",
              "6.0      apple                                                NaN  70990.0   \n",
              "7.0    infinix  Infinix INBook Y2 Plus Laptop (11th Gen Core i...  34990.0   \n",
              "\n",
              "       Rating processor_brand processor_tier  num_cores  num_threads  \\\n",
              "index                                                                  \n",
              "3.0      73.0             amd        ryzen 5        6.0         12.0   \n",
              "4.0      62.0           intel        core i5       12.0          NaN   \n",
              "5.0      62.0             amd        ryzen 3        4.0          8.0   \n",
              "6.0       NaN           apple             m1        8.0          8.0   \n",
              "7.0      56.0           intel        core i5        4.0          8.0   \n",
              "\n",
              "       ram_memory primary_storage_type  ...  brand_infinix brand_lenovo  \\\n",
              "index                                   ...                               \n",
              "3.0           8.0                  SSD  ...              0            0   \n",
              "4.0           8.0                  SSD  ...              0            0   \n",
              "5.0           8.0                  SSD  ...              0            1   \n",
              "6.0           8.0                  SSD  ...              0            0   \n",
              "7.0          16.0                  SSD  ...              1            0   \n",
              "\n",
              "       brand_msi processor_brand_amd processor_brand_apple  \\\n",
              "index                                                        \n",
              "3.0            0                   1                     0   \n",
              "4.0            0                   0                     0   \n",
              "5.0            0                   1                     0   \n",
              "6.0            0                   0                     1   \n",
              "7.0            0                   0                     0   \n",
              "\n",
              "      processor_brand_intel  OS_chrome  OS_dos  OS_mac OS_windows  \n",
              "index                                                              \n",
              "3.0                       0          0       0       0          1  \n",
              "4.0                       1          0       0       0          1  \n",
              "5.0                       0          0       0       0          1  \n",
              "6.0                       0          0       0       1          0  \n",
              "7.0                       1          0       0       0          1  \n",
              "\n",
              "[5 rows x 36 columns]"
            ]
          },
          "execution_count": 39,
          "metadata": {},
          "output_type": "execute_result"
        }
      ],
      "source": [
        "df = pd.concat([df, OS_dummies], axis=1)\n",
        "df.head()"
      ]
    },
    {
      "cell_type": "code",
      "execution_count": null,
      "metadata": {
        "colab": {
          "base_uri": "https://localhost:8080/",
          "height": 586
        },
        "id": "4dElZ4tS3jBw",
        "outputId": "da1dd886-ab0c-45c1-e31b-b64d5c9ad8af"
      },
      "outputs": [
        {
          "data": {
            "text/plain": [
              "processor_tier\n",
              "core i5         269\n",
              "core i7         126\n",
              "ryzen 5         122\n",
              "core i3         105\n",
              "ryzen 7          61\n",
              "core i9          32\n",
              "ryzen 3          30\n",
              "celeron          25\n",
              "ryzen 9          10\n",
              "m3                7\n",
              "other             6\n",
              "m2                4\n",
              "core ultra 7      3\n",
              "pentium           2\n",
              "m1                1\n",
              "Name: count, dtype: int64"
            ]
          },
          "execution_count": 40,
          "metadata": {},
          "output_type": "execute_result"
        }
      ],
      "source": [
        "df['processor_tier'].value_counts() # не берем"
      ]
    },
    {
      "cell_type": "code",
      "execution_count": null,
      "metadata": {
        "colab": {
          "base_uri": "https://localhost:8080/",
          "height": 178
        },
        "id": "R232DQ82300P",
        "outputId": "8db034dc-e46a-4517-9623-5dd8720c848e"
      },
      "outputs": [
        {
          "data": {
            "text/plain": [
              "primary_storage_type\n",
              "SSD    771\n",
              "HDD     18\n",
              "Name: count, dtype: int64"
            ]
          },
          "execution_count": 41,
          "metadata": {},
          "output_type": "execute_result"
        }
      ],
      "source": [
        "df['primary_storage_type'].value_counts()"
      ]
    },
    {
      "cell_type": "code",
      "execution_count": null,
      "metadata": {
        "colab": {
          "base_uri": "https://localhost:8080/",
          "height": 210
        },
        "id": "CKKCHW7u8X_E",
        "outputId": "5dbd9a42-087f-41a8-b14d-f0708b9ab6ee"
      },
      "outputs": [
        {
          "data": {
            "text/plain": [
              "gpu_type\n",
              "integrated    487\n",
              "dedicated     300\n",
              "apple          14\n",
              "Name: count, dtype: int64"
            ]
          },
          "execution_count": 42,
          "metadata": {},
          "output_type": "execute_result"
        }
      ],
      "source": [
        "df['gpu_type'].value_counts()"
      ]
    },
    {
      "cell_type": "code",
      "execution_count": null,
      "metadata": {
        "colab": {
          "base_uri": "https://localhost:8080/",
          "height": 238
        },
        "id": "kNYFIZpc80LH",
        "outputId": "2b0ed826-ace6-4a45-f695-66f9059a04ce"
      },
      "outputs": [
        {
          "data": {
            "text/html": [
              "<div>\n",
              "<style scoped>\n",
              "    .dataframe tbody tr th:only-of-type {\n",
              "        vertical-align: middle;\n",
              "    }\n",
              "\n",
              "    .dataframe tbody tr th {\n",
              "        vertical-align: top;\n",
              "    }\n",
              "\n",
              "    .dataframe thead th {\n",
              "        text-align: right;\n",
              "    }\n",
              "</style>\n",
              "<table border=\"1\" class=\"dataframe\">\n",
              "  <thead>\n",
              "    <tr style=\"text-align: right;\">\n",
              "      <th></th>\n",
              "      <th>gpu_type_apple</th>\n",
              "      <th>gpu_type_dedicated</th>\n",
              "      <th>gpu_type_integrated</th>\n",
              "    </tr>\n",
              "    <tr>\n",
              "      <th>index</th>\n",
              "      <th></th>\n",
              "      <th></th>\n",
              "      <th></th>\n",
              "    </tr>\n",
              "  </thead>\n",
              "  <tbody>\n",
              "    <tr>\n",
              "      <th>3.0</th>\n",
              "      <td>0</td>\n",
              "      <td>1</td>\n",
              "      <td>0</td>\n",
              "    </tr>\n",
              "    <tr>\n",
              "      <th>4.0</th>\n",
              "      <td>0</td>\n",
              "      <td>0</td>\n",
              "      <td>1</td>\n",
              "    </tr>\n",
              "    <tr>\n",
              "      <th>5.0</th>\n",
              "      <td>0</td>\n",
              "      <td>0</td>\n",
              "      <td>1</td>\n",
              "    </tr>\n",
              "    <tr>\n",
              "      <th>6.0</th>\n",
              "      <td>1</td>\n",
              "      <td>0</td>\n",
              "      <td>0</td>\n",
              "    </tr>\n",
              "    <tr>\n",
              "      <th>7.0</th>\n",
              "      <td>0</td>\n",
              "      <td>0</td>\n",
              "      <td>1</td>\n",
              "    </tr>\n",
              "  </tbody>\n",
              "</table>\n",
              "</div>"
            ],
            "text/plain": [
              "       gpu_type_apple  gpu_type_dedicated  gpu_type_integrated\n",
              "index                                                         \n",
              "3.0                 0                   1                    0\n",
              "4.0                 0                   0                    1\n",
              "5.0                 0                   0                    1\n",
              "6.0                 1                   0                    0\n",
              "7.0                 0                   0                    1"
            ]
          },
          "execution_count": 43,
          "metadata": {},
          "output_type": "execute_result"
        }
      ],
      "source": [
        "gpu_type_dummies=pd.get_dummies(df.gpu_type, prefix='gpu_type', prefix_sep='_', dtype=int)\n",
        "gpu_type_dummies.head()"
      ]
    },
    {
      "cell_type": "code",
      "execution_count": null,
      "metadata": {
        "colab": {
          "base_uri": "https://localhost:8080/",
          "height": 565
        },
        "id": "bSi20nKsQ3QO",
        "outputId": "43f27649-efaf-4df6-9d37-840c4359f4de"
      },
      "outputs": [
        {
          "data": {
            "text/html": [
              "<div>\n",
              "<style scoped>\n",
              "    .dataframe tbody tr th:only-of-type {\n",
              "        vertical-align: middle;\n",
              "    }\n",
              "\n",
              "    .dataframe tbody tr th {\n",
              "        vertical-align: top;\n",
              "    }\n",
              "\n",
              "    .dataframe thead th {\n",
              "        text-align: right;\n",
              "    }\n",
              "</style>\n",
              "<table border=\"1\" class=\"dataframe\">\n",
              "  <thead>\n",
              "    <tr style=\"text-align: right;\">\n",
              "      <th></th>\n",
              "      <th>brand</th>\n",
              "      <th>Model</th>\n",
              "      <th>Price</th>\n",
              "      <th>Rating</th>\n",
              "      <th>processor_brand</th>\n",
              "      <th>processor_tier</th>\n",
              "      <th>num_cores</th>\n",
              "      <th>num_threads</th>\n",
              "      <th>ram_memory</th>\n",
              "      <th>primary_storage_type</th>\n",
              "      <th>...</th>\n",
              "      <th>processor_brand_amd</th>\n",
              "      <th>processor_brand_apple</th>\n",
              "      <th>processor_brand_intel</th>\n",
              "      <th>OS_chrome</th>\n",
              "      <th>OS_dos</th>\n",
              "      <th>OS_mac</th>\n",
              "      <th>OS_windows</th>\n",
              "      <th>gpu_type_apple</th>\n",
              "      <th>gpu_type_dedicated</th>\n",
              "      <th>gpu_type_integrated</th>\n",
              "    </tr>\n",
              "    <tr>\n",
              "      <th>index</th>\n",
              "      <th></th>\n",
              "      <th></th>\n",
              "      <th></th>\n",
              "      <th></th>\n",
              "      <th></th>\n",
              "      <th></th>\n",
              "      <th></th>\n",
              "      <th></th>\n",
              "      <th></th>\n",
              "      <th></th>\n",
              "      <th></th>\n",
              "      <th></th>\n",
              "      <th></th>\n",
              "      <th></th>\n",
              "      <th></th>\n",
              "      <th></th>\n",
              "      <th></th>\n",
              "      <th></th>\n",
              "      <th></th>\n",
              "      <th></th>\n",
              "      <th></th>\n",
              "    </tr>\n",
              "  </thead>\n",
              "  <tbody>\n",
              "    <tr>\n",
              "      <th>3.0</th>\n",
              "      <td>hp</td>\n",
              "      <td>HP Victus 15-fb0157AX Gaming Laptop (AMD Ryzen...</td>\n",
              "      <td>51100.0</td>\n",
              "      <td>73.0</td>\n",
              "      <td>amd</td>\n",
              "      <td>ryzen 5</td>\n",
              "      <td>6.0</td>\n",
              "      <td>12.0</td>\n",
              "      <td>8.0</td>\n",
              "      <td>SSD</td>\n",
              "      <td>...</td>\n",
              "      <td>1</td>\n",
              "      <td>0</td>\n",
              "      <td>0</td>\n",
              "      <td>0</td>\n",
              "      <td>0</td>\n",
              "      <td>0</td>\n",
              "      <td>1</td>\n",
              "      <td>0</td>\n",
              "      <td>1</td>\n",
              "      <td>0</td>\n",
              "    </tr>\n",
              "    <tr>\n",
              "      <th>4.0</th>\n",
              "      <td>acer</td>\n",
              "      <td>Acer Extensa EX214-53 Laptop (12th Gen Core i5...</td>\n",
              "      <td>39990.0</td>\n",
              "      <td>62.0</td>\n",
              "      <td>intel</td>\n",
              "      <td>core i5</td>\n",
              "      <td>12.0</td>\n",
              "      <td>NaN</td>\n",
              "      <td>8.0</td>\n",
              "      <td>SSD</td>\n",
              "      <td>...</td>\n",
              "      <td>0</td>\n",
              "      <td>0</td>\n",
              "      <td>1</td>\n",
              "      <td>0</td>\n",
              "      <td>0</td>\n",
              "      <td>0</td>\n",
              "      <td>1</td>\n",
              "      <td>0</td>\n",
              "      <td>0</td>\n",
              "      <td>1</td>\n",
              "    </tr>\n",
              "    <tr>\n",
              "      <th>5.0</th>\n",
              "      <td>lenovo</td>\n",
              "      <td>Lenovo V15 82KDA01BIH Laptop (AMD Ryzen 3 5300...</td>\n",
              "      <td>28580.0</td>\n",
              "      <td>62.0</td>\n",
              "      <td>amd</td>\n",
              "      <td>ryzen 3</td>\n",
              "      <td>4.0</td>\n",
              "      <td>8.0</td>\n",
              "      <td>8.0</td>\n",
              "      <td>SSD</td>\n",
              "      <td>...</td>\n",
              "      <td>1</td>\n",
              "      <td>0</td>\n",
              "      <td>0</td>\n",
              "      <td>0</td>\n",
              "      <td>0</td>\n",
              "      <td>0</td>\n",
              "      <td>1</td>\n",
              "      <td>0</td>\n",
              "      <td>0</td>\n",
              "      <td>1</td>\n",
              "    </tr>\n",
              "    <tr>\n",
              "      <th>6.0</th>\n",
              "      <td>apple</td>\n",
              "      <td>NaN</td>\n",
              "      <td>70990.0</td>\n",
              "      <td>NaN</td>\n",
              "      <td>apple</td>\n",
              "      <td>m1</td>\n",
              "      <td>8.0</td>\n",
              "      <td>8.0</td>\n",
              "      <td>8.0</td>\n",
              "      <td>SSD</td>\n",
              "      <td>...</td>\n",
              "      <td>0</td>\n",
              "      <td>1</td>\n",
              "      <td>0</td>\n",
              "      <td>0</td>\n",
              "      <td>0</td>\n",
              "      <td>1</td>\n",
              "      <td>0</td>\n",
              "      <td>1</td>\n",
              "      <td>0</td>\n",
              "      <td>0</td>\n",
              "    </tr>\n",
              "    <tr>\n",
              "      <th>7.0</th>\n",
              "      <td>infinix</td>\n",
              "      <td>Infinix INBook Y2 Plus Laptop (11th Gen Core i...</td>\n",
              "      <td>34990.0</td>\n",
              "      <td>56.0</td>\n",
              "      <td>intel</td>\n",
              "      <td>core i5</td>\n",
              "      <td>4.0</td>\n",
              "      <td>8.0</td>\n",
              "      <td>16.0</td>\n",
              "      <td>SSD</td>\n",
              "      <td>...</td>\n",
              "      <td>0</td>\n",
              "      <td>0</td>\n",
              "      <td>1</td>\n",
              "      <td>0</td>\n",
              "      <td>0</td>\n",
              "      <td>0</td>\n",
              "      <td>1</td>\n",
              "      <td>0</td>\n",
              "      <td>0</td>\n",
              "      <td>1</td>\n",
              "    </tr>\n",
              "  </tbody>\n",
              "</table>\n",
              "<p>5 rows × 39 columns</p>\n",
              "</div>"
            ],
            "text/plain": [
              "         brand                                              Model    Price  \\\n",
              "index                                                                        \n",
              "3.0         hp  HP Victus 15-fb0157AX Gaming Laptop (AMD Ryzen...  51100.0   \n",
              "4.0       acer  Acer Extensa EX214-53 Laptop (12th Gen Core i5...  39990.0   \n",
              "5.0     lenovo  Lenovo V15 82KDA01BIH Laptop (AMD Ryzen 3 5300...  28580.0   \n",
              "6.0      apple                                                NaN  70990.0   \n",
              "7.0    infinix  Infinix INBook Y2 Plus Laptop (11th Gen Core i...  34990.0   \n",
              "\n",
              "       Rating processor_brand processor_tier  num_cores  num_threads  \\\n",
              "index                                                                  \n",
              "3.0      73.0             amd        ryzen 5        6.0         12.0   \n",
              "4.0      62.0           intel        core i5       12.0          NaN   \n",
              "5.0      62.0             amd        ryzen 3        4.0          8.0   \n",
              "6.0       NaN           apple             m1        8.0          8.0   \n",
              "7.0      56.0           intel        core i5        4.0          8.0   \n",
              "\n",
              "       ram_memory primary_storage_type  ...  processor_brand_amd  \\\n",
              "index                                   ...                        \n",
              "3.0           8.0                  SSD  ...                    1   \n",
              "4.0           8.0                  SSD  ...                    0   \n",
              "5.0           8.0                  SSD  ...                    1   \n",
              "6.0           8.0                  SSD  ...                    0   \n",
              "7.0          16.0                  SSD  ...                    0   \n",
              "\n",
              "      processor_brand_apple  processor_brand_intel OS_chrome OS_dos OS_mac  \\\n",
              "index                                                                        \n",
              "3.0                       0                      0         0      0      0   \n",
              "4.0                       0                      1         0      0      0   \n",
              "5.0                       0                      0         0      0      0   \n",
              "6.0                       1                      0         0      0      1   \n",
              "7.0                       0                      1         0      0      0   \n",
              "\n",
              "       OS_windows  gpu_type_apple  gpu_type_dedicated gpu_type_integrated  \n",
              "index                                                                      \n",
              "3.0             1               0                   1                   0  \n",
              "4.0             1               0                   0                   1  \n",
              "5.0             1               0                   0                   1  \n",
              "6.0             0               1                   0                   0  \n",
              "7.0             1               0                   0                   1  \n",
              "\n",
              "[5 rows x 39 columns]"
            ]
          },
          "execution_count": 44,
          "metadata": {},
          "output_type": "execute_result"
        }
      ],
      "source": [
        "df = pd.concat([df, gpu_type_dummies], axis=1)\n",
        "df.head()"
      ]
    },
    {
      "cell_type": "markdown",
      "metadata": {
        "id": "sME1fg0NSKrF"
      },
      "source": [
        "# Множественная линейная регрессия"
      ]
    },
    {
      "cell_type": "code",
      "execution_count": null,
      "metadata": {
        "colab": {
          "base_uri": "https://localhost:8080/"
        },
        "id": "w2jmL4YBSRE-",
        "outputId": "fcab7217-5ede-4811-c567-6b3fbfa611ae"
      },
      "outputs": [
        {
          "data": {
            "text/plain": [
              "(715, 39)"
            ]
          },
          "execution_count": 45,
          "metadata": {},
          "output_type": "execute_result"
        }
      ],
      "source": [
        "import statsmodels.api as sm\n",
        "df_model2 = df.dropna(subset=['Price', 'num_cores', 'primary_storage_capacity',\t'resolution_width', 'brand_lenovo', 'brand_hp', 'brand_dell', 'brand_acer', 'brand_msi', 'brand_apple', 'brand_infinix', 'processor_brand_amd',\t'processor_brand_apple', \t'OS_chrome',\t'OS_dos',\t'OS_mac', 'gpu_type_dedicated',\t'gpu_type_integrated'])\n",
        "# brand_asus, processor_brand_intel, OS_windows, gpu_type_apple - референтные группы\n",
        "df_model2.shape"
      ]
    },
    {
      "cell_type": "markdown",
      "metadata": {
        "id": "pdwZrrZrBe5g"
      },
      "source": [
        "<font color='red'> остатки можно было и обработать</font>"
      ]
    },
    {
      "cell_type": "code",
      "execution_count": null,
      "metadata": {
        "id": "F9pVbIEIXTPi"
      },
      "outputs": [],
      "source": [
        "x_mult = df_model2[['num_cores', 'primary_storage_capacity',\t'resolution_width', 'brand_lenovo', 'brand_hp', 'brand_dell', 'brand_acer', 'brand_msi', 'brand_apple', 'brand_infinix', 'processor_brand_amd',\t'processor_brand_apple', \t'OS_chrome',\t'OS_dos',\t'OS_mac', 'gpu_type_dedicated',\t'gpu_type_integrated']]\n",
        "y = df_model2['Price']\n",
        "x_mult_constant = sm.add_constant(x_mult)"
      ]
    },
    {
      "cell_type": "code",
      "execution_count": null,
      "metadata": {
        "colab": {
          "base_uri": "https://localhost:8080/"
        },
        "id": "1OaDNh3nXwBw",
        "outputId": "e75feb8b-74ef-4142-fd82-555ef32dc0a2"
      },
      "outputs": [
        {
          "name": "stdout",
          "output_type": "stream",
          "text": [
            "                            OLS Regression Results                            \n",
            "==============================================================================\n",
            "Dep. Variable:                  Price   R-squared:                       0.773\n",
            "Model:                            OLS   Adj. R-squared:                  0.768\n",
            "Method:                 Least Squares   F-statistic:                     139.8\n",
            "Date:                Wed, 20 Nov 2024   Prob (F-statistic):          3.29e-211\n",
            "Time:                        15:35:45   Log-Likelihood:                -8337.6\n",
            "No. Observations:                 715   AIC:                         1.671e+04\n",
            "Df Residuals:                     697   BIC:                         1.679e+04\n",
            "Df Model:                          17                                         \n",
            "Covariance Type:            nonrobust                                         \n",
            "============================================================================================\n",
            "                               coef    std err          t      P>|t|      [0.025      0.975]\n",
            "--------------------------------------------------------------------------------------------\n",
            "const                    -8.827e+04   9139.537     -9.658      0.000   -1.06e+05   -7.03e+04\n",
            "num_cores                 5529.6808    353.471     15.644      0.000    4835.684    6223.677\n",
            "primary_storage_capacity    72.2143      5.142     14.043      0.000      62.118      82.310\n",
            "resolution_width            39.9605      3.907     10.229      0.000      32.290      47.631\n",
            "brand_lenovo              9321.8448   3331.316      2.798      0.005    2781.227    1.59e+04\n",
            "brand_hp                  8559.1842   3303.603      2.591      0.010    2072.977     1.5e+04\n",
            "brand_dell                1.162e+04   3942.444      2.947      0.003    3876.320    1.94e+04\n",
            "brand_acer               -6226.9004   4214.628     -1.477      0.140   -1.45e+04    2047.987\n",
            "brand_msi                 -293.3723   4235.066     -0.069      0.945   -8608.387    8021.643\n",
            "brand_apple                1.21e+05   4.19e+04      2.891      0.004    3.88e+04    2.03e+05\n",
            "brand_infinix            -1.947e+04   9384.710     -2.074      0.038   -3.79e+04   -1041.688\n",
            "processor_brand_amd       1002.2824   2665.054      0.376      0.707   -4230.214    6234.779\n",
            "processor_brand_apple     2.767e+04   2.98e+04      0.928      0.354   -3.09e+04    8.62e+04\n",
            "OS_chrome                 3.458e+04   1.06e+04      3.271      0.001    1.38e+04    5.53e+04\n",
            "OS_dos                   -2048.4535   5839.302     -0.351      0.726   -1.35e+04    9416.276\n",
            "OS_mac                   -8.189e+04   2.98e+04     -2.750      0.006    -1.4e+05   -2.34e+04\n",
            "gpu_type_dedicated        3644.6676   5440.847      0.670      0.503   -7037.746    1.43e+04\n",
            "gpu_type_integrated      -1.837e+04   5379.783     -3.415      0.001   -2.89e+04   -7810.512\n",
            "==============================================================================\n",
            "Omnibus:                      292.200   Durbin-Watson:                   1.830\n",
            "Prob(Omnibus):                  0.000   Jarque-Bera (JB):             2141.467\n",
            "Skew:                           1.659   Prob(JB):                         0.00\n",
            "Kurtosis:                      10.802   Cond. No.                     1.05e+05\n",
            "==============================================================================\n",
            "\n",
            "Notes:\n",
            "[1] Standard Errors assume that the covariance matrix of the errors is correctly specified.\n",
            "[2] The condition number is large, 1.05e+05. This might indicate that there are\n",
            "strong multicollinearity or other numerical problems.\n"
          ]
        }
      ],
      "source": [
        "model2 = sm.OLS(y, x_mult_constant).fit()\n",
        "print(model2.summary())"
      ]
    },
    {
      "cell_type": "code",
      "execution_count": null,
      "metadata": {
        "colab": {
          "base_uri": "https://localhost:8080/"
        },
        "id": "tTy9Eg-XZ5CN",
        "outputId": "cc118d3a-fe29-4768-d288-3beaeadc9e11"
      },
      "outputs": [
        {
          "name": "stdout",
          "output_type": "stream",
          "text": [
            "                                 OLS Regression Results                                \n",
            "=======================================================================================\n",
            "Dep. Variable:                  Price   R-squared (uncentered):                   0.773\n",
            "Model:                            OLS   Adj. R-squared (uncentered):              0.768\n",
            "Method:                 Least Squares   F-statistic:                              140.0\n",
            "Date:                Wed, 20 Nov 2024   Prob (F-statistic):                   1.58e-211\n",
            "Time:                        15:35:45   Log-Likelihood:                         -484.01\n",
            "No. Observations:                 715   AIC:                                      1002.\n",
            "Df Residuals:                     698   BIC:                                      1080.\n",
            "Df Model:                          17                                                  \n",
            "Covariance Type:            nonrobust                                                  \n",
            "============================================================================================\n",
            "                               coef    std err          t      P>|t|      [0.025      0.975]\n",
            "--------------------------------------------------------------------------------------------\n",
            "num_cores                    0.3863      0.025     15.655      0.000       0.338       0.435\n",
            "primary_storage_capacity     0.3149      0.022     14.054      0.000       0.271       0.359\n",
            "resolution_width             0.2441      0.024     10.236      0.000       0.197       0.291\n",
            "brand_lenovo                 0.0661      0.024      2.800      0.005       0.020       0.112\n",
            "brand_hp                     0.0596      0.023      2.593      0.010       0.014       0.105\n",
            "brand_dell                   0.0635      0.022      2.949      0.003       0.021       0.106\n",
            "brand_acer                  -0.0308      0.021     -1.479      0.140      -0.072       0.010\n",
            "brand_msi                   -0.0015      0.021     -0.069      0.945      -0.043       0.040\n",
            "brand_apple                  0.2744      0.095      2.893      0.004       0.088       0.461\n",
            "brand_infinix               -0.0388      0.019     -2.076      0.038      -0.075      -0.002\n",
            "processor_brand_amd          0.0074      0.020      0.376      0.707      -0.031       0.046\n",
            "processor_brand_apple        0.0603      0.065      0.928      0.354      -0.067       0.188\n",
            "OS_chrome                    0.0617      0.019      3.274      0.001       0.025       0.099\n",
            "OS_dos                      -0.0066      0.019     -0.351      0.726      -0.044       0.030\n",
            "OS_mac                      -0.1785      0.065     -2.752      0.006      -0.306      -0.051\n",
            "gpu_type_dedicated           0.0295      0.044      0.670      0.503      -0.057       0.116\n",
            "gpu_type_integrated         -0.1536      0.045     -3.418      0.001      -0.242      -0.065\n",
            "==============================================================================\n",
            "Omnibus:                      292.200   Durbin-Watson:                   1.830\n",
            "Prob(Omnibus):                  0.000   Jarque-Bera (JB):             2141.467\n",
            "Skew:                           1.659   Prob(JB):                         0.00\n",
            "Kurtosis:                      10.802   Cond. No.                         11.7\n",
            "==============================================================================\n",
            "\n",
            "Notes:\n",
            "[1] R² is computed without centering (uncentered) since the model does not contain a constant.\n",
            "[2] Standard Errors assume that the covariance matrix of the errors is correctly specified.\n"
          ]
        }
      ],
      "source": [
        "from scipy.stats.mstats import zscore\n",
        "print(sm.OLS(zscore(y), zscore(x_mult)).fit().summary())\n",
        "#значения стандартизированных коэффициентов можно сравнивать друг с другом\n",
        "#можно определить какой из предикторов сильней взаимосвязан с зависимой переменной"
      ]
    },
    {
      "cell_type": "markdown",
      "metadata": {
        "id": "YwzE1cs_bTsi"
      },
      "source": [
        "Нулевая гипотеза (H0): Независимые переменные не влияют на цену ноутбука.\n",
        "\n",
        "Альтернативная гипотеза (H1): По крайней мере одна из независимых переменных влияет на цену ноутбука.\n",
        "\n",
        "Дополнительное предположение: ноутбуки Apple стоят намного дороже, не смотря на характеристики."
      ]
    },
    {
      "cell_type": "markdown",
      "metadata": {
        "id": "_Zhaocq9bhWh"
      },
      "source": [
        "Уравнение регрессии будет иметь вид:\n",
        "\n",
        "\\text{Price} = \\beta_0 + \\beta_1 \\cdot \\text{num_cores} + \\beta_2 \\cdot \\text{primary_storage_capacity} + \\beta_3 \\cdot \\text{resolution_width } + \\sum \\beta_i \\cdot \\text{brand}_i + \\sum \\beta_j \\cdot \\text{processor_brand}_j + \\sum \\beta_k \\cdot \\text{OS}_k + \\sum \\beta_l \\cdot \\text{gpu_type}_l\\\\\\\\\\"
      ]
    },
    {
      "cell_type": "markdown",
      "metadata": {
        "id": "JGl3IkBsBe5h"
      },
      "source": [
        "<font color='red'> уравнение вообще нечитаемое (</font>"
      ]
    },
    {
      "cell_type": "markdown",
      "metadata": {
        "id": "Lk4WJ6UYBe5h"
      },
      "source": [
        "<font color='red'>надо было отдбельно для каждой переменной свою гипотезу </font>"
      ]
    },
    {
      "cell_type": "markdown",
      "metadata": {
        "id": "wo_dJH-Bd2rE"
      },
      "source": [
        "# Характеристики модели"
      ]
    },
    {
      "cell_type": "code",
      "execution_count": null,
      "metadata": {
        "colab": {
          "base_uri": "https://localhost:8080/"
        },
        "id": "TA00zdWAeA1i",
        "outputId": "1cd3943b-51e4-42d4-ad36-5bd49ebcb3ea"
      },
      "outputs": [
        {
          "name": "stdout",
          "output_type": "stream",
          "text": [
            "R^2 = 0.773273\n",
            "F-test significance = 0.000000\n"
          ]
        }
      ],
      "source": [
        "print('R^2 = {:f}'.format(model2.rsquared))\n",
        "print('F-test significance = {:f}'.format(model2.f_pvalue))"
      ]
    },
    {
      "cell_type": "markdown",
      "metadata": {
        "id": "5QiwCLaOeSqt"
      },
      "source": [
        "Модель статистически значима. Объясняет 77,3% вариации значений зависимой переменной."
      ]
    },
    {
      "cell_type": "code",
      "execution_count": null,
      "metadata": {
        "colab": {
          "base_uri": "https://localhost:8080/"
        },
        "id": "J2DbbIx3gW-Z",
        "outputId": "3c5d1ff3-3400-4588-ca44-a4f40c9b53d0"
      },
      "outputs": [
        {
          "name": "stdout",
          "output_type": "stream",
          "text": [
            "Mean Absolute Error: 19039.819353453633\n"
          ]
        }
      ],
      "source": [
        "from sklearn.metrics import mean_absolute_error\n",
        "true_values = df_model2['Price']\n",
        "predicted_values = model2.fittedvalues\n",
        "mae = mean_absolute_error(true_values, predicted_values)\n",
        "print('Mean Absolute Error:', mae)"
      ]
    },
    {
      "cell_type": "code",
      "execution_count": null,
      "metadata": {
        "colab": {
          "base_uri": "https://localhost:8080/"
        },
        "id": "DGD0-AXng0mf",
        "outputId": "891a675e-7784-4e57-de3d-3a510f8a9ff6"
      },
      "outputs": [
        {
          "name": "stdout",
          "output_type": "stream",
          "text": [
            "Mean Squared Error: 787201434.4437956\n"
          ]
        }
      ],
      "source": [
        "from sklearn.metrics import mean_squared_error\n",
        "true_values = df_model2['Price']\n",
        "predicted_values =  model2.fittedvalues\n",
        "mse = mean_squared_error(true_values, predicted_values)\n",
        "print('Mean Squared Error:', mse)"
      ]
    },
    {
      "cell_type": "code",
      "execution_count": null,
      "metadata": {
        "colab": {
          "base_uri": "https://localhost:8080/"
        },
        "id": "tX6aNTLChBsR",
        "outputId": "58bd84a9-6c6c-40ef-adb7-3fed3577ab4c"
      },
      "outputs": [
        {
          "name": "stdout",
          "output_type": "stream",
          "text": [
            "Root Mean Squared Error (RMSE): 28057.11022974026\n"
          ]
        }
      ],
      "source": [
        "true_values = df_model2['Price']\n",
        "predicted_values =  model2.fittedvalues\n",
        "rmse = np.sqrt(mean_squared_error(true_values, predicted_values))\n",
        "print('Root Mean Squared Error (RMSE):', rmse)"
      ]
    },
    {
      "cell_type": "code",
      "execution_count": null,
      "metadata": {
        "colab": {
          "base_uri": "https://localhost:8080/",
          "height": 53
        },
        "id": "LD0TZwBFjjdB",
        "outputId": "2b67af83-823c-4afc-ec64-c4ab486aa562"
      },
      "outputs": [
        {
          "data": {
            "text/plain": [
              "\"Статистически значимые параметры модели: ['const' 'num_cores' 'primary_storage_capacity' 'resolution_width'\\n 'brand_lenovo' 'brand_hp' 'brand_dell' 'brand_apple' 'brand_infinix'\\n 'OS_chrome' 'OS_mac' 'gpu_type_integrated']\""
            ]
          },
          "execution_count": 53,
          "metadata": {},
          "output_type": "execute_result"
        }
      ],
      "source": [
        "f'Статистически значимые параметры модели: {model2.pvalues[model2.pvalues < 0.05].index.values}'"
      ]
    },
    {
      "cell_type": "code",
      "execution_count": null,
      "metadata": {
        "colab": {
          "base_uri": "https://localhost:8080/",
          "height": 35
        },
        "id": "K1sfN0uAjr9Z",
        "outputId": "a0d72184-2cb9-4488-fbf0-2f3586066ce4"
      },
      "outputs": [
        {
          "data": {
            "text/plain": [
              "\"Статистически не значимые параметры модели: ['brand_acer' 'brand_msi' 'processor_brand_amd' 'processor_brand_apple'\\n 'OS_dos' 'gpu_type_dedicated']\""
            ]
          },
          "execution_count": 54,
          "metadata": {},
          "output_type": "execute_result"
        }
      ],
      "source": [
        "f'Статистически не значимые параметры модели: {model2.pvalues[model2.pvalues > 0.05].index.values}'"
      ]
    },
    {
      "cell_type": "code",
      "execution_count": null,
      "metadata": {
        "colab": {
          "base_uri": "https://localhost:8080/"
        },
        "id": "VH1DfybOkE1o",
        "outputId": "9840f382-7e4f-4902-c6d2-3a7bc3c8a0b1"
      },
      "outputs": [
        {
          "name": "stdout",
          "output_type": "stream",
          "text": [
            "Y = -88267.926409 + 5529.68*num_cores + 72.21*primary_storage_capacity + 39.96*resolution_width + 9321.84*brand_lenovo + 8559.18*brand_hp + 11616.81*brand_dell + -6226.90*brand_acer + -293.37*brand_msi + 121035.57*brand_apple + -19467.38*brand_infinix + 1002.28*processor_brand_amd + 27665.74*processor_brand_apple + 34582.37*OS_chrome + -2048.45*OS_dos + -81893.22*OS_mac + 3644.67*gpu_type_dedicated + -18373.03*gpu_type_integrated\n"
          ]
        }
      ],
      "source": [
        "# уравнение регрессии\n",
        "l = []\n",
        "for (param, index) in zip(model2.params[1:], model2.params.index[1:]):\n",
        "    l.append('{:.2f}*{}'.format(param, index))\n",
        "\n",
        "print('Y = {:2f} + {}'.format(model2.params[0], ' + '.join(l)))"
      ]
    },
    {
      "cell_type": "markdown",
      "metadata": {
        "id": "Bi6fo996Be5l"
      },
      "source": [
        "<font color='red'>во тут лучше </font>"
      ]
    },
    {
      "cell_type": "markdown",
      "metadata": {
        "id": "k2uDZCHCkSqU"
      },
      "source": [
        "# Интерпретация значений коэффициентов регрессии"
      ]
    },
    {
      "cell_type": "markdown",
      "metadata": {
        "id": "uivbz46UkYFX"
      },
      "source": [
        "Общие сведения о модели:\n",
        "\n",
        "R-squared (R²): 0.773 означает, что 77.3% вариации цен объясняется выбранными независимыми переменными. Это хороший показатель, свидетельствующий о значимости модели.\n",
        "F-statistic: 139.8 с p-значением 3.29e-211 указывает на то, что модель в целом значима.\n",
        "\n",
        "Интерпретация коэффициентов:\n",
        "\n",
        "const (-88270.00): Это значение интерсепта, которое показывает, что если все независимые переменные равны нулю, то цена ноутбука будет -88270 (что не имеет практического смысла, так как не может быть отрицательной цены). Это значение служит базовой линией.\n",
        "\n",
        "num_cores (5529.68): Каждый дополнительный ядро процессора увеличивает цену ноутбука на 5529.68. Это значимый фактор, так как p-значение (0.000) указывает на высокую значимость.\n",
        "\n",
        "primary_storage_capacity (72.21): Каждый дополнительный 1 ГБ увеличивают цену на 72.21. Это также значимый фактор.\n",
        "\n",
        "resolution_width (39.96): Каждые дополнительные пиксели в ширине разрешения увеличивают цену на 39.96. Значимость также высокая (p < 0.000).\n",
        "\n",
        "brand_lenovo (9321.84): Ноутбуки Lenovo стоят на 9,321.84 больше, чем референтная группа.\n",
        "\n",
        "brand_hp (8559.18): Ноутбуки HP стоят на 8559.18 больше, чем референтная группа. Значимость высокая (p = 0.010).\n",
        "\n",
        "brand_dell (11620.00): Ноутбуки Dell стоят на 11620.00 больше, чем референтная группа. Это также статистически значимо (p = 0.003).\n",
        "\n",
        "brand_acer (-6226.90): Ноутбуки Acer стоят на 6,226.90 меньше, чем референтная группа, но это значение незначимо (p = 0.140).\n",
        "\n",
        "brand_msi (-293.37): Нет значимого влияния на цену (p = 0.945).\n",
        "\n",
        "brand_apple (121000.00): Ноутбуки Apple стоят на 121,000.00 больше, чем референтная группа. Это значительное влияние (p = 0.004).\n",
        "\n",
        "brand_infinix (-19470.00): Ноутбуки Infinix стоят на 19,470.00 меньше, чем референтная группа, и это значимо (p = 0.038).\n",
        "\n",
        "processor_brand_amd (1002.28): Нет значимого влияния на цену (p = 0.707).\n",
        "\n",
        "processor_brand_apple (27670.00): Ноутбуки с процессорами Apple стоят на 27670.00 больше, но это незначительно (p = 0.354).\n",
        "\n",
        "OS_chrome (34580.00): Ноутбуки с Chrome OS стоят на 34,580.00 больше, чем референтная группа (Windows), и это значимо (p = 0.001).\n",
        "\n",
        "OS_dos (-2048.45): Нет значимого влияния на цену (p = 0.726).\n",
        "\n",
        "OS_mac (-81890.00): Ноутбуки с macOS стоят на 81890.00 меньше, чем референтная группа, и это значимо (p = 0.006).\n",
        "\n",
        "gpu_type_dedicated (3644.67): Нет значимого влияния на цену (p = 0.503).\n",
        "\n",
        "gpu_type_integrated (-18370.00): Ноутбуки с интегрированной графикой стоят на 18370.00 меньше, чем референтная группа, и это значимо (p = 0.001)."
      ]
    },
    {
      "cell_type": "markdown",
      "metadata": {
        "id": "fHhJjbmcutqE"
      },
      "source": [
        "Значения стандартизированных коэффициентов можно сравнивать друг с другом, поэтому можно определить, какой из предикторов сильней взаимосвязан с зависимой переменной\n",
        "\n",
        "Количество ядер процессора (num_cores):\n",
        "\n",
        "Коэффициент: 0.3863 - это значение является самым высоким среди всех предикторов, что указывает на то, что увеличение количества ядер процессора имеет наибольшее положительное влияние на цену ноутбуков.\n",
        "\n",
        "Объем основного хранилища (primary_storage_capacity):\n",
        "\n",
        "Коэффициент: 0.3149 - второе по значимости влияние: Это значение также значительно, но ниже, чем у количества ядер процессора. Оно показывает, что больший объем хранилища тоже существенно влияет на цену.\n",
        "\n",
        "Бренд Apple (brand_apple):\n",
        "\n",
        "Коэффициент: 0.2744 - третье по значимости влияние: Бренд Apple имеет значительное положительное влияние на цену, что подтверждает его \"премиум-позицию\" на рынке.\n",
        "\n",
        "Ширина разрешения (resolution_width):\n",
        "\n",
        "Коэффициент: 0.2441 - четвертое по значимости влияние: Указывает на то, что более высокое разрешение также положительно сказывается на цене, но его влияние меньше, чем у предыдущих факторов."
      ]
    },
    {
      "cell_type": "markdown",
      "metadata": {
        "id": "zJBleUakmR5j"
      },
      "source": [
        "# Диагностика модели"
      ]
    },
    {
      "cell_type": "code",
      "execution_count": null,
      "metadata": {
        "colab": {
          "base_uri": "https://localhost:8080/"
        },
        "id": "WNwp1trrmZ93",
        "outputId": "fb5d20b1-b21d-4031-9be0-a9c46039f5ca"
      },
      "outputs": [
        {
          "name": "stdout",
          "output_type": "stream",
          "text": [
            "P-value: 0.000\n"
          ]
        }
      ],
      "source": [
        "p = stats.kstest(model2.resid, 'norm', args=(model2.resid.mean(), model2.resid.std())).pvalue\n",
        "print('P-value: {:.3f}'.format(p))"
      ]
    },
    {
      "cell_type": "code",
      "execution_count": null,
      "metadata": {
        "colab": {
          "base_uri": "https://localhost:8080/",
          "height": 462
        },
        "id": "Nsdu2-PlmdDT",
        "outputId": "cc55d91e-e933-435f-ece5-4450f11d83c1"
      },
      "outputs": [
        {
          "data": {
            "text/plain": [
              "<Axes: ylabel='Density'>"
            ]
          },
          "execution_count": 57,
          "metadata": {},
          "output_type": "execute_result"
        },
        {
          "data": {
            "image/png": "[encoded data removed]",
            "text/plain": [
              "<Figure size 640x480 with 1 Axes>"
            ]
          },
          "metadata": {},
          "output_type": "display_data"
        }
      ],
      "source": [
        "sns.distplot(model2.resid, fit=stats.norm)"
      ]
    },
    {
      "cell_type": "markdown",
      "metadata": {
        "id": "mqVsx5nPmw0g"
      },
      "source": [
        "Распределение остатков отличается от нормального (они довольно симметричны, но проблема с пиком, причем пик концентрируется в нуле, как и в примере с семинара)."
      ]
    },
    {
      "cell_type": "markdown",
      "metadata": {
        "id": "2BRAwI9rnBot"
      },
      "source": [
        "# Гетероскедастичность"
      ]
    },
    {
      "cell_type": "code",
      "execution_count": null,
      "metadata": {
        "colab": {
          "base_uri": "https://localhost:8080/",
          "height": 472
        },
        "id": "0RQdzlMEnDzP",
        "outputId": "763378ba-0e36-4af1-82b6-43660a18f8ef"
      },
      "outputs": [
        {
          "data": {
            "image/png": "[encoded data removed]",
            "text/plain": [
              "<Figure size 800x500 with 1 Axes>"
            ]
          },
          "metadata": {},
          "output_type": "display_data"
        }
      ],
      "source": [
        "plt.figure(figsize=(8,5))\n",
        "plt.scatter(x=model2.fittedvalues, y=model2.resid, color='blue', edgecolor='k')\n",
        "plt.grid(True)\n",
        "plt.xlabel('Fitted value', fontsize=14)\n",
        "plt.ylabel('Residual', fontsize=14)\n",
        "plt.show() # много выбросов"
      ]
    },
    {
      "cell_type": "markdown",
      "metadata": {
        "id": "kjjWKBqAnmL_"
      },
      "source": [
        "# Мультиколлинеарность"
      ]
    },
    {
      "cell_type": "code",
      "execution_count": null,
      "metadata": {
        "id": "a81lViXwnolc"
      },
      "outputs": [],
      "source": [
        "vifs = np.array([vif(model2.model.exog, i) for i in range(model2.model.exog.shape[1])])"
      ]
    },
    {
      "cell_type": "code",
      "execution_count": null,
      "metadata": {
        "colab": {
          "base_uri": "https://localhost:8080/",
          "height": 582
        },
        "id": "f_8iKJ0nnudE",
        "outputId": "7f6c9a3f-daa4-461d-daa6-7b963b69619d"
      },
      "outputs": [
        {
          "data": {
            "text/html": [
              "<div>\n",
              "<style scoped>\n",
              "    .dataframe tbody tr th:only-of-type {\n",
              "        vertical-align: middle;\n",
              "    }\n",
              "\n",
              "    .dataframe tbody tr th {\n",
              "        vertical-align: top;\n",
              "    }\n",
              "\n",
              "    .dataframe thead th {\n",
              "        text-align: right;\n",
              "    }\n",
              "</style>\n",
              "<table border=\"1\" class=\"dataframe\">\n",
              "  <thead>\n",
              "    <tr style=\"text-align: right;\">\n",
              "      <th></th>\n",
              "      <th>VIF</th>\n",
              "      <th>Features</th>\n",
              "    </tr>\n",
              "  </thead>\n",
              "  <tbody>\n",
              "    <tr>\n",
              "      <th>9</th>\n",
              "      <td>1.075389</td>\n",
              "      <td>brand_infinix</td>\n",
              "    </tr>\n",
              "    <tr>\n",
              "      <th>12</th>\n",
              "      <td>1.094823</td>\n",
              "      <td>OS_chrome</td>\n",
              "    </tr>\n",
              "    <tr>\n",
              "      <th>13</th>\n",
              "      <td>1.097006</td>\n",
              "      <td>OS_dos</td>\n",
              "    </tr>\n",
              "    <tr>\n",
              "      <th>10</th>\n",
              "      <td>1.201875</td>\n",
              "      <td>processor_brand_amd</td>\n",
              "    </tr>\n",
              "    <tr>\n",
              "      <th>6</th>\n",
              "      <td>1.335682</td>\n",
              "      <td>brand_acer</td>\n",
              "    </tr>\n",
              "    <tr>\n",
              "      <th>7</th>\n",
              "      <td>1.402532</td>\n",
              "      <td>brand_msi</td>\n",
              "    </tr>\n",
              "    <tr>\n",
              "      <th>5</th>\n",
              "      <td>1.426838</td>\n",
              "      <td>brand_dell</td>\n",
              "    </tr>\n",
              "    <tr>\n",
              "      <th>1</th>\n",
              "      <td>1.545812</td>\n",
              "      <td>primary_storage_capacity</td>\n",
              "    </tr>\n",
              "    <tr>\n",
              "      <th>4</th>\n",
              "      <td>1.625318</td>\n",
              "      <td>brand_hp</td>\n",
              "    </tr>\n",
              "    <tr>\n",
              "      <th>3</th>\n",
              "      <td>1.714361</td>\n",
              "      <td>brand_lenovo</td>\n",
              "    </tr>\n",
              "    <tr>\n",
              "      <th>2</th>\n",
              "      <td>1.751027</td>\n",
              "      <td>resolution_width</td>\n",
              "    </tr>\n",
              "    <tr>\n",
              "      <th>0</th>\n",
              "      <td>1.874311</td>\n",
              "      <td>num_cores</td>\n",
              "    </tr>\n",
              "    <tr>\n",
              "      <th>15</th>\n",
              "      <td>5.982041</td>\n",
              "      <td>gpu_type_dedicated</td>\n",
              "    </tr>\n",
              "    <tr>\n",
              "      <th>16</th>\n",
              "      <td>6.216846</td>\n",
              "      <td>gpu_type_integrated</td>\n",
              "    </tr>\n",
              "    <tr>\n",
              "      <th>14</th>\n",
              "      <td>12.958426</td>\n",
              "      <td>OS_mac</td>\n",
              "    </tr>\n",
              "    <tr>\n",
              "      <th>11</th>\n",
              "      <td>12.996269</td>\n",
              "      <td>processor_brand_apple</td>\n",
              "    </tr>\n",
              "    <tr>\n",
              "      <th>8</th>\n",
              "      <td>27.696495</td>\n",
              "      <td>brand_apple</td>\n",
              "    </tr>\n",
              "  </tbody>\n",
              "</table>\n",
              "</div>"
            ],
            "text/plain": [
              "          VIF                  Features\n",
              "9    1.075389             brand_infinix\n",
              "12   1.094823                 OS_chrome\n",
              "13   1.097006                    OS_dos\n",
              "10   1.201875       processor_brand_amd\n",
              "6    1.335682                brand_acer\n",
              "7    1.402532                 brand_msi\n",
              "5    1.426838                brand_dell\n",
              "1    1.545812  primary_storage_capacity\n",
              "4    1.625318                  brand_hp\n",
              "3    1.714361              brand_lenovo\n",
              "2    1.751027          resolution_width\n",
              "0    1.874311                 num_cores\n",
              "15   5.982041        gpu_type_dedicated\n",
              "16   6.216846       gpu_type_integrated\n",
              "14  12.958426                    OS_mac\n",
              "11  12.996269     processor_brand_apple\n",
              "8   27.696495               brand_apple"
            ]
          },
          "execution_count": 60,
          "metadata": {},
          "output_type": "execute_result"
        }
      ],
      "source": [
        "vif_df = pd.DataFrame()\n",
        "vif_df['VIF'] = vifs[1:]\n",
        "vif_df['Features'] = model2.params.index[1:]\n",
        "vif_df.sort_values(by=['VIF'])"
      ]
    },
    {
      "cell_type": "markdown",
      "metadata": {
        "id": "iPsXQEVxoA1K"
      },
      "source": [
        "Ожидаемо, переменные OS_mac processor_brand_apple и brand_apple коррелируют, нужно было учесть это при посроении модели. С остальными переменными проблем нет."
      ]
    },
    {
      "cell_type": "markdown",
      "metadata": {
        "id": "aZbHsSuhonFs"
      },
      "source": [
        "# Выбросы и влияющие наблюдения"
      ]
    },
    {
      "cell_type": "code",
      "execution_count": null,
      "metadata": {
        "colab": {
          "base_uri": "https://localhost:8080/",
          "height": 287
        },
        "id": "0e_1WnqMopXB",
        "outputId": "082a3335-2a6d-4121-992b-71783efc7abc"
      },
      "outputs": [
        {
          "data": {
            "text/html": [
              "<div>\n",
              "<style scoped>\n",
              "    .dataframe tbody tr th:only-of-type {\n",
              "        vertical-align: middle;\n",
              "    }\n",
              "\n",
              "    .dataframe tbody tr th {\n",
              "        vertical-align: top;\n",
              "    }\n",
              "\n",
              "    .dataframe thead th {\n",
              "        text-align: right;\n",
              "    }\n",
              "</style>\n",
              "<table border=\"1\" class=\"dataframe\">\n",
              "  <thead>\n",
              "    <tr style=\"text-align: right;\">\n",
              "      <th></th>\n",
              "      <th>dfb_const</th>\n",
              "      <th>dfb_num_cores</th>\n",
              "      <th>dfb_primary_storage_capacity</th>\n",
              "      <th>dfb_resolution_width</th>\n",
              "      <th>dfb_brand_lenovo</th>\n",
              "      <th>dfb_brand_hp</th>\n",
              "      <th>dfb_brand_dell</th>\n",
              "      <th>dfb_brand_acer</th>\n",
              "      <th>dfb_brand_msi</th>\n",
              "      <th>dfb_brand_apple</th>\n",
              "      <th>...</th>\n",
              "      <th>dfb_OS_dos</th>\n",
              "      <th>dfb_OS_mac</th>\n",
              "      <th>dfb_gpu_type_dedicated</th>\n",
              "      <th>dfb_gpu_type_integrated</th>\n",
              "      <th>cooks_d</th>\n",
              "      <th>standard_resid</th>\n",
              "      <th>hat_diag</th>\n",
              "      <th>dffits_internal</th>\n",
              "      <th>student_resid</th>\n",
              "      <th>dffits</th>\n",
              "    </tr>\n",
              "    <tr>\n",
              "      <th>index</th>\n",
              "      <th></th>\n",
              "      <th></th>\n",
              "      <th></th>\n",
              "      <th></th>\n",
              "      <th></th>\n",
              "      <th></th>\n",
              "      <th></th>\n",
              "      <th></th>\n",
              "      <th></th>\n",
              "      <th></th>\n",
              "      <th></th>\n",
              "      <th></th>\n",
              "      <th></th>\n",
              "      <th></th>\n",
              "      <th></th>\n",
              "      <th></th>\n",
              "      <th></th>\n",
              "      <th></th>\n",
              "      <th></th>\n",
              "      <th></th>\n",
              "      <th></th>\n",
              "    </tr>\n",
              "  </thead>\n",
              "  <tbody>\n",
              "    <tr>\n",
              "      <th>3.0</th>\n",
              "      <td>0.001246</td>\n",
              "      <td>0.006454</td>\n",
              "      <td>0.015044</td>\n",
              "      <td>-0.003784</td>\n",
              "      <td>-0.002786</td>\n",
              "      <td>-0.041345</td>\n",
              "      <td>-0.010154</td>\n",
              "      <td>-0.003856</td>\n",
              "      <td>0.001148</td>\n",
              "      <td>-0.002527</td>\n",
              "      <td>...</td>\n",
              "      <td>0.002741</td>\n",
              "      <td>0.001398</td>\n",
              "      <td>-0.014423</td>\n",
              "      <td>0.003623</td>\n",
              "      <td>0.000386</td>\n",
              "      <td>-0.733626</td>\n",
              "      <td>0.012742</td>\n",
              "      <td>-0.083345</td>\n",
              "      <td>-0.733382</td>\n",
              "      <td>-0.083317</td>\n",
              "    </tr>\n",
              "    <tr>\n",
              "      <th>4.0</th>\n",
              "      <td>0.002376</td>\n",
              "      <td>-0.051887</td>\n",
              "      <td>0.018651</td>\n",
              "      <td>0.017498</td>\n",
              "      <td>0.000210</td>\n",
              "      <td>0.001177</td>\n",
              "      <td>0.006609</td>\n",
              "      <td>-0.093431</td>\n",
              "      <td>-0.004556</td>\n",
              "      <td>-0.004521</td>\n",
              "      <td>...</td>\n",
              "      <td>0.005467</td>\n",
              "      <td>0.000313</td>\n",
              "      <td>-0.003780</td>\n",
              "      <td>-0.020832</td>\n",
              "      <td>0.000999</td>\n",
              "      <td>-0.966213</td>\n",
              "      <td>0.018899</td>\n",
              "      <td>-0.134103</td>\n",
              "      <td>-0.966167</td>\n",
              "      <td>-0.134097</td>\n",
              "    </tr>\n",
              "    <tr>\n",
              "      <th>5.0</th>\n",
              "      <td>0.005069</td>\n",
              "      <td>0.001793</td>\n",
              "      <td>-0.000388</td>\n",
              "      <td>-0.002656</td>\n",
              "      <td>-0.020271</td>\n",
              "      <td>0.000895</td>\n",
              "      <td>-0.000765</td>\n",
              "      <td>-0.000298</td>\n",
              "      <td>-0.003116</td>\n",
              "      <td>-0.000349</td>\n",
              "      <td>...</td>\n",
              "      <td>0.010303</td>\n",
              "      <td>-0.000114</td>\n",
              "      <td>0.000302</td>\n",
              "      <td>-0.004986</td>\n",
              "      <td>0.000095</td>\n",
              "      <td>-0.386460</td>\n",
              "      <td>0.011299</td>\n",
              "      <td>-0.041314</td>\n",
              "      <td>-0.386224</td>\n",
              "      <td>-0.041288</td>\n",
              "    </tr>\n",
              "    <tr>\n",
              "      <th>6.0</th>\n",
              "      <td>-0.118181</td>\n",
              "      <td>-0.025686</td>\n",
              "      <td>0.070776</td>\n",
              "      <td>0.110185</td>\n",
              "      <td>0.011804</td>\n",
              "      <td>0.014770</td>\n",
              "      <td>-0.009172</td>\n",
              "      <td>0.015889</td>\n",
              "      <td>0.003788</td>\n",
              "      <td>0.153899</td>\n",
              "      <td>...</td>\n",
              "      <td>0.011195</td>\n",
              "      <td>-0.233838</td>\n",
              "      <td>-0.004340</td>\n",
              "      <td>0.011928</td>\n",
              "      <td>0.041562</td>\n",
              "      <td>-2.683270</td>\n",
              "      <td>0.094126</td>\n",
              "      <td>-0.864940</td>\n",
              "      <td>-2.695302</td>\n",
              "      <td>-0.868818</td>\n",
              "    </tr>\n",
              "    <tr>\n",
              "      <th>7.0</th>\n",
              "      <td>-0.011153</td>\n",
              "      <td>-0.032903</td>\n",
              "      <td>-0.009712</td>\n",
              "      <td>0.020193</td>\n",
              "      <td>-0.001820</td>\n",
              "      <td>0.001454</td>\n",
              "      <td>0.002588</td>\n",
              "      <td>0.001541</td>\n",
              "      <td>0.002784</td>\n",
              "      <td>0.000998</td>\n",
              "      <td>...</td>\n",
              "      <td>-0.000225</td>\n",
              "      <td>-0.001148</td>\n",
              "      <td>0.016803</td>\n",
              "      <td>0.012943</td>\n",
              "      <td>0.005554</td>\n",
              "      <td>0.938768</td>\n",
              "      <td>0.101879</td>\n",
              "      <td>0.316180</td>\n",
              "      <td>0.938688</td>\n",
              "      <td>0.316153</td>\n",
              "    </tr>\n",
              "  </tbody>\n",
              "</table>\n",
              "<p>5 rows × 24 columns</p>\n",
              "</div>"
            ],
            "text/plain": [
              "       dfb_const  dfb_num_cores  dfb_primary_storage_capacity  \\\n",
              "index                                                           \n",
              "3.0     0.001246       0.006454                      0.015044   \n",
              "4.0     0.002376      -0.051887                      0.018651   \n",
              "5.0     0.005069       0.001793                     -0.000388   \n",
              "6.0    -0.118181      -0.025686                      0.070776   \n",
              "7.0    -0.011153      -0.032903                     -0.009712   \n",
              "\n",
              "       dfb_resolution_width  dfb_brand_lenovo  dfb_brand_hp  dfb_brand_dell  \\\n",
              "index                                                                         \n",
              "3.0               -0.003784         -0.002786     -0.041345       -0.010154   \n",
              "4.0                0.017498          0.000210      0.001177        0.006609   \n",
              "5.0               -0.002656         -0.020271      0.000895       -0.000765   \n",
              "6.0                0.110185          0.011804      0.014770       -0.009172   \n",
              "7.0                0.020193         -0.001820      0.001454        0.002588   \n",
              "\n",
              "       dfb_brand_acer  dfb_brand_msi  dfb_brand_apple  ...  dfb_OS_dos  \\\n",
              "index                                                  ...               \n",
              "3.0         -0.003856       0.001148        -0.002527  ...    0.002741   \n",
              "4.0         -0.093431      -0.004556        -0.004521  ...    0.005467   \n",
              "5.0         -0.000298      -0.003116        -0.000349  ...    0.010303   \n",
              "6.0          0.015889       0.003788         0.153899  ...    0.011195   \n",
              "7.0          0.001541       0.002784         0.000998  ...   -0.000225   \n",
              "\n",
              "       dfb_OS_mac  dfb_gpu_type_dedicated  dfb_gpu_type_integrated   cooks_d  \\\n",
              "index                                                                          \n",
              "3.0      0.001398               -0.014423                 0.003623  0.000386   \n",
              "4.0      0.000313               -0.003780                -0.020832  0.000999   \n",
              "5.0     -0.000114                0.000302                -0.004986  0.000095   \n",
              "6.0     -0.233838               -0.004340                 0.011928  0.041562   \n",
              "7.0     -0.001148                0.016803                 0.012943  0.005554   \n",
              "\n",
              "       standard_resid  hat_diag  dffits_internal  student_resid    dffits  \n",
              "index                                                                      \n",
              "3.0         -0.733626  0.012742        -0.083345      -0.733382 -0.083317  \n",
              "4.0         -0.966213  0.018899        -0.134103      -0.966167 -0.134097  \n",
              "5.0         -0.386460  0.011299        -0.041314      -0.386224 -0.041288  \n",
              "6.0         -2.683270  0.094126        -0.864940      -2.695302 -0.868818  \n",
              "7.0          0.938768  0.101879         0.316180       0.938688  0.316153  \n",
              "\n",
              "[5 rows x 24 columns]"
            ]
          },
          "execution_count": 61,
          "metadata": {},
          "output_type": "execute_result"
        }
      ],
      "source": [
        "influence = model2.get_influence()\n",
        "inf_sum = influence.summary_frame()\n",
        "inf_sum.head()"
      ]
    },
    {
      "cell_type": "code",
      "execution_count": null,
      "metadata": {
        "colab": {
          "base_uri": "https://localhost:8080/",
          "height": 241
        },
        "id": "59vujBV5o3Iy",
        "outputId": "33d9095f-406f-427b-b246-8dcd50af9a35"
      },
      "outputs": [
        {
          "data": {
            "text/plain": [
              "index\n",
              "153.0   -24.599659\n",
              "620.0     1.395495\n",
              "23.0      1.503977\n",
              "613.0     1.735029\n",
              "Name: dffits, dtype: float64"
            ]
          },
          "execution_count": 62,
          "metadata": {},
          "output_type": "execute_result"
        }
      ],
      "source": [
        "inf_sum['dffits'][(inf_sum['dffits']>1) | (inf_sum['dffits']<-1)].sort_values().head(4)\n",
        "# потенциальные влияющие наблюдения (их индексы)"
      ]
    },
    {
      "cell_type": "code",
      "execution_count": null,
      "metadata": {
        "colab": {
          "base_uri": "https://localhost:8080/",
          "height": 304
        },
        "id": "s_DuPR9epQQi",
        "outputId": "9fc74f40-35e4-439c-ed1f-c7950b027fac"
      },
      "outputs": [
        {
          "data": {
            "text/plain": [
              "index\n",
              "969.0    3.041038\n",
              "328.0    3.914172\n",
              "381.0    3.917152\n",
              "819.0    4.408952\n",
              "23.0     4.479221\n",
              "352.0    4.489412\n",
              "Name: standard_resid, dtype: float64"
            ]
          },
          "execution_count": 63,
          "metadata": {},
          "output_type": "execute_result"
        }
      ],
      "source": [
        "inf_sum['standard_resid'][(inf_sum['standard_resid']>3) | (inf_sum['standard_resid']<-3)].sort_values().head(6)\n",
        "# потенциальные выбросы (их индексы)"
      ]
    },
    {
      "cell_type": "markdown",
      "metadata": {
        "id": "qturCYN5qHJO"
      },
      "source": [
        "Выбросы могут объясняться непредставительными наблюдениями (например, из-за специфических характеристик ноутбука) и высокой вариативностью в ценах на ноутбуки в зависимости от бренда и характеристик."
      ]
    },
    {
      "cell_type": "markdown",
      "metadata": {
        "id": "INYqVCwzqYLe"
      },
      "source": [
        "# Результаты анализа"
      ]
    },
    {
      "cell_type": "markdown",
      "metadata": {
        "id": "A-m0wUqPqcav"
      },
      "source": [
        "Очевидные результаты:\n",
        "\n",
        "Гипотеза подтвердилась: например, влияние бренда на цену ноутбука оказалось значительным. Бренды, такие как Apple, Dell, HP и Lenovo, увеличивают цену, что соответствует ожиданиям, так как эти бренды известны качеством и имеют хорошую репутацию.\n",
        "Количество ядер процессора и емкость хранения также показали ожидаемое положительное влияние на цену, что логично, так как эти характеристики напрямую связаны с производительностью устройства.\n",
        "\n",
        "Неожиданные результаты:\n",
        "\n",
        "Негативное влияние ноутбуков с интегрированной графикой на цену стало неожиданным, но это может объясняться тем, что такие ноутбуки ориентированы на менее требовательных пользователей и, соответственно, имеют более низкую цену.\n",
        "Значительное снижение цены для ноутбуков с macOS также удивительно, так как ожидалось, что устройства Apple будут дороже."
      ]
    },
    {
      "cell_type": "markdown",
      "metadata": {
        "id": "i_DiaddHOnQi"
      },
      "source": [
        "# Этот файл нужно сохранить как Notebook (.ipynb) и загрузить в Smart LMS до 13:00 13 ноября."
      ]
    }
  ],
  "metadata": {
    "colab": {
      "provenance": []
    },
    "kernelspec": {
      "display_name": "Python 3",
      "language": "python",
      "name": "python3"
    },
    "language_info": {
      "codemirror_mode": {
        "name": "ipython",
        "version": 3
      },
      "file_extension": ".py",
      "mimetype": "text/x-python",
      "name": "python",
      "nbconvert_exporter": "python",
      "pygments_lexer": "ipython3",
      "version": "3.12.2"
    }
  },
  "nbformat": 4,
  "nbformat_minor": 0
}
